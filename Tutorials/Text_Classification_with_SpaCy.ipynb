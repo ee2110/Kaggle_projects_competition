{
  "nbformat": 4,
  "nbformat_minor": 0,
  "metadata": {
    "colab": {
      "name": "Text_Classification_with_SpaCy.ipynb",
      "provenance": []
    },
    "kernelspec": {
      "name": "python3",
      "display_name": "Python 3"
    },
    "accelerator": "GPU"
  },
  "cells": [
    {
      "cell_type": "markdown",
      "metadata": {
        "id": "LdNCCuUruTPR",
        "colab_type": "text"
      },
      "source": [
        "# **Text Classification**\n",
        "A common task in NLP is text classification. This is \"classification\" in the conventional machine learning sense, and it is applied to text. Examples include spam detection, sentiment analysis, and tagging customer queries."
      ]
    },
    {
      "cell_type": "code",
      "metadata": {
        "id": "P3HKLy42t77c",
        "colab_type": "code",
        "colab": {}
      },
      "source": [
        "import pandas as pd\n",
        "import spacy\n",
        "from spacy.util import minibatch\n",
        "import random\n"
      ],
      "execution_count": 3,
      "outputs": []
    },
    {
      "cell_type": "code",
      "metadata": {
        "id": "NER59qvg8yH3",
        "colab_type": "code",
        "colab": {}
      },
      "source": [
        "def load_data(csv_file, split=0.9):\n",
        "    data = pd.read_csv(csv_file)\n",
        "    \n",
        "    # Shuffle data\n",
        "    train_data = data.sample(frac=1, random_state=7)\n",
        "    \n",
        "    texts = train_data.text.values\n",
        "    labels = [{\"POSITIVE\": bool(y), \"NEGATIVE\": not bool(y)}\n",
        "              for y in train_data.sentiment.values]\n",
        "    split = int(len(train_data) * split)\n",
        "    \n",
        "    train_labels = [{\"cats\": labels} for labels in labels[:split]]\n",
        "    val_labels = [{\"cats\": labels} for labels in labels[split:]]\n",
        "    \n",
        "    return texts[:split], train_labels, texts[split:], val_labels"
      ],
      "execution_count": 4,
      "outputs": []
    },
    {
      "cell_type": "code",
      "metadata": {
        "id": "FBsI5xWQ80or",
        "colab_type": "code",
        "colab": {}
      },
      "source": [
        "train_texts, train_labels, val_texts, val_labels = load_data('yelp_ratings.csv')"
      ],
      "execution_count": 5,
      "outputs": []
    },
    {
      "cell_type": "code",
      "metadata": {
        "id": "ySFnSexP9B-j",
        "colab_type": "code",
        "colab": {
          "base_uri": "https://localhost:8080/",
          "height": 153
        },
        "outputId": "bce02d2f-da42-498a-8f96-9deaa5916c8a"
      },
      "source": [
        "print('Texts from training data\\n------')\n",
        "print(train_texts[:2])\n",
        "print('\\nLabels from training data\\n------')\n",
        "print(train_labels[:2])"
      ],
      "execution_count": 6,
      "outputs": [
        {
          "output_type": "stream",
          "text": [
            "Texts from training data\n",
            "------\n",
            "[\"Some of the best sushi I've ever had....and I come from the East Coast.  Unreal toro, have some of it's available.\"\n",
            " \"One of the best burgers I've ever had and very well priced. I got the tortilla burger and is was delicious especially with there tortilla soup!\"]\n",
            "\n",
            "Labels from training data\n",
            "------\n",
            "[{'cats': {'POSITIVE': True, 'NEGATIVE': False}}, {'cats': {'POSITIVE': True, 'NEGATIVE': False}}]\n"
          ],
          "name": "stdout"
        }
      ]
    },
    {
      "cell_type": "code",
      "metadata": {
        "id": "Bnc-KVnM9Hsj",
        "colab_type": "code",
        "colab": {
          "base_uri": "https://localhost:8080/",
          "height": 34
        },
        "outputId": "7ed44e38-d56b-4f0b-8be1-35816bab9567"
      },
      "source": [
        "# Create an empty model\n",
        "nlp = spacy.blank(\"en\")\n",
        "\n",
        "# Create the TextCategorizer with exclusive classes and \"bow\" architecture\n",
        "textcat = nlp.create_pipe(\n",
        "              \"textcat\",\n",
        "              config={\n",
        "                \"exclusive_classes\": True,\n",
        "                \"architecture\": \"bow\"})\n",
        "\n",
        "# Add the TextCategorizer to the empty model\n",
        "nlp.add_pipe(textcat)\n",
        "\n",
        "# Add labels to text classifier\n",
        "textcat.add_label(\"NEGATIVE\")\n",
        "textcat.add_label(\"POSITIVE\")"
      ],
      "execution_count": 7,
      "outputs": [
        {
          "output_type": "execute_result",
          "data": {
            "text/plain": [
              "1"
            ]
          },
          "metadata": {
            "tags": []
          },
          "execution_count": 7
        }
      ]
    },
    {
      "cell_type": "code",
      "metadata": {
        "id": "1QHYpXFE-pUx",
        "colab_type": "code",
        "colab": {}
      },
      "source": [
        "def train(model, train_data, optimizer):\n",
        "    losses = {}\n",
        "    random.seed(1)\n",
        "    random.shuffle(train_data)\n",
        "    \n",
        "    batches = minibatch(train_data, size=8)\n",
        "    for batch in batches:\n",
        "        # train_data is a list of tuples [(text0, label0), (text1, label1), ...]\n",
        "        # Split batch into texts and labels\n",
        "        texts, labels = zip(*batch)\n",
        "        \n",
        "        # Update model with texts and labels\n",
        "        model.update(texts, labels, sgd=optimizer, losses=losses)\n",
        "        \n",
        "    return losses"
      ],
      "execution_count": 8,
      "outputs": []
    },
    {
      "cell_type": "code",
      "metadata": {
        "id": "Pjkh5KEd-joz",
        "colab_type": "code",
        "colab": {
          "base_uri": "https://localhost:8080/",
          "height": 34
        },
        "outputId": "0f217d99-d522-45b3-8dc2-2a360077f6a9"
      },
      "source": [
        "# Fix seed for reproducibility\n",
        "spacy.util.fix_random_seed(1)\n",
        "random.seed(1)\n",
        "\n",
        "# This may take a while to run!\n",
        "optimizer = nlp.begin_training()\n",
        "train_data = list(zip(train_texts, train_labels))\n",
        "losses = train(nlp, train_data, optimizer)\n",
        "print(losses['textcat'])"
      ],
      "execution_count": 9,
      "outputs": [
        {
          "output_type": "stream",
          "text": [
            "8.704142077092879\n"
          ],
          "name": "stdout"
        }
      ]
    },
    {
      "cell_type": "code",
      "metadata": {
        "id": "pjKTs-hz-6G3",
        "colab_type": "code",
        "colab": {
          "base_uri": "https://localhost:8080/",
          "height": 34
        },
        "outputId": "895e5860-247e-4fbf-c6d1-a5f16f4006b8"
      },
      "source": [
        "text = \"This tea cup was full of holes. Do not recommend.\"\n",
        "doc = nlp(text)\n",
        "print(doc.cats)"
      ],
      "execution_count": 10,
      "outputs": [
        {
          "output_type": "stream",
          "text": [
            "{'NEGATIVE': 0.7737048864364624, 'POSITIVE': 0.2262951135635376}\n"
          ],
          "name": "stdout"
        }
      ]
    },
    {
      "cell_type": "markdown",
      "metadata": {
        "id": "tpxe34Bk_DAf",
        "colab_type": "text"
      },
      "source": [
        "\n",
        "# Step 4: Making Predictions\n",
        "\n",
        "Implement a function `predict` that predicts the sentiment of text examples. \n",
        "- First, tokenize the texts using `nlp.tokenizer()`. \n",
        "- Then, pass those docs to the TextCategorizer which you can get from `nlp.get_pipe()`. \n",
        "- Use the `textcat.predict()` method to get scores for each document, then choose the class with the highest score (probability) as the predicted class."
      ]
    },
    {
      "cell_type": "code",
      "metadata": {
        "id": "7rhrJeZ9-6we",
        "colab_type": "code",
        "colab": {}
      },
      "source": [
        "def predict(nlp, texts): \n",
        "    # Use the model's tokenizer to tokenize each input text\n",
        "    docs = [nlp.tokenizer(text) for text in texts]\n",
        "    \n",
        "    # Use textcat to get the scores for each doc\n",
        "    textcat = nlp.get_pipe('textcat')\n",
        "    scores, _ = textcat.predict(docs)\n",
        "    \n",
        "    # From the scores, find the class with the highest score/probability\n",
        "    predicted_class = scores.argmax(axis=1)\n",
        "    \n",
        "    return predicted_class"
      ],
      "execution_count": 11,
      "outputs": []
    },
    {
      "cell_type": "code",
      "metadata": {
        "id": "EY-5Txfb_lQ0",
        "colab_type": "code",
        "colab": {
          "base_uri": "https://localhost:8080/",
          "height": 394
        },
        "outputId": "d630c8b3-1c3d-4876-f8c1-929efa81c932"
      },
      "source": [
        "texts = val_texts[34:38]\n",
        "predictions = predict(nlp, texts)\n",
        "\n",
        "for p, t in zip(predictions, texts):\n",
        "    print(f\"{textcat.labels[p]}: {t} \\n\")"
      ],
      "execution_count": 12,
      "outputs": [
        {
          "output_type": "stream",
          "text": [
            "POSITIVE: Came over and had their \"Pick 2\" lunch combo and chose their best selling 1/2 chicken sandwich with quinoa.  Both were tasty, the chicken salad is a bit creamy but was perfect with quinoa on the side.  This is a good lunch joint, casual and clean! \n",
            "\n",
            "POSITIVE: Went here last night and got oysters, fried okra, fries, and onion rings. I cannot complain. The portions were great and tasty!!! I will definitely be back for more. I cannot wait to try the crawfish boudin and soft shell crab. \n",
            "\n",
            "POSITIVE: This restaurant was fantastic! \n",
            "The concept of eating without vision was intriguing. The dinner was filled with laughs and good conversation. \n",
            "\n",
            "We were lead in a line to our table and each person to their seat. This was not just dark but you could not see something right in front of your face. \n",
            "\n",
            "The waiters/waitresses were all blind and allowed us to see how aware you need to be without the vision. \n",
            "\n",
            "Taking away one sense is said to increase your other senses so as taste and hearing which I believed to be true in this experience. \n",
            "\n",
            "The meal was extremely delicious. I had the chicken and it was cooked to perfection. I also had a surprise beer which was a nice surprise. \n",
            "\n",
            "The whole experience was unlike anything I have ever done and I hope this spreads to other cities. \n",
            "\n",
            "A must do! \n",
            "\n",
            "NEGATIVE: They won't book new patients for same day appointments. My dog is sick but it's not necessarily urgent so I asked when I would be able to book an appointment and was told \"new patients book out at least 6 weeks in advance\" so just a heads up this seems like a great vet from other reviews but it'll be hard to get in their system to know \n",
            "\n"
          ],
          "name": "stdout"
        }
      ]
    },
    {
      "cell_type": "markdown",
      "metadata": {
        "id": "jgEqFgm6_tTc",
        "colab_type": "text"
      },
      "source": [
        "# Step 5: Evaluate The Model\n",
        "\n",
        "Implement a function that evaluates a `TextCategorizer` model. This function `evaluate` takes a model along with texts and labels. It returns the accuracy of the model, which is the number of correct predictions divided by all predictions.\n",
        "\n",
        "First, use the `predict` method you wrote earlier to get the predicted class for each text in `texts`. Then, find where the predicted labels match the true \"gold-standard\" labels and calculate the accuracy."
      ]
    },
    {
      "cell_type": "code",
      "metadata": {
        "id": "TZrhsBq2_nRb",
        "colab_type": "code",
        "colab": {}
      },
      "source": [
        ""
      ],
      "execution_count": null,
      "outputs": []
    }
  ]
}