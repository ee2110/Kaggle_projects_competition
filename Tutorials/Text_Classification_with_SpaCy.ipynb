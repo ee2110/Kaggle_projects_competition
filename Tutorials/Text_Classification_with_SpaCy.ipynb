{
  "nbformat": 4,
  "nbformat_minor": 0,
  "metadata": {
    "colab": {
      "name": "Text_Classification_with_SpaCy.ipynb",
      "provenance": []
    },
    "kernelspec": {
      "name": "python3",
      "display_name": "Python 3"
    },
    "accelerator": "GPU"
  },
  "cells": [
    {
      "cell_type": "markdown",
      "metadata": {
        "id": "LdNCCuUruTPR",
        "colab_type": "text"
      },
      "source": [
        "# **Text Classification**\n",
        "A common task in NLP is text classification. This is \"classification\" in the conventional machine learning sense, and it is applied to text. Examples include spam detection, sentiment analysis, and tagging customer queries."
      ]
    },
    {
      "cell_type": "code",
      "metadata": {
        "id": "P3HKLy42t77c",
        "colab_type": "code",
        "colab": {}
      },
      "source": [
        ""
      ],
      "execution_count": null,
      "outputs": []
    }
  ]
}