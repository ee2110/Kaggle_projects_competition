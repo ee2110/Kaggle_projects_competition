{
  "nbformat": 4,
  "nbformat_minor": 0,
  "metadata": {
    "colab": {
      "name": "Word_Vectors.ipynb",
      "provenance": [],
      "collapsed_sections": []
    },
    "kernelspec": {
      "name": "python3",
      "display_name": "Python 3"
    },
    "accelerator": "GPU"
  },
  "cells": [
    {
      "cell_type": "markdown",
      "metadata": {
        "id": "pTgIJcOscWvL",
        "colab_type": "text"
      },
      "source": [
        "# **Word embeddings**\n",
        "\n",
        "Word embeddings (also called word vectors) represent each word numerically in such a way that the vector corresponds to how that word is used or what it means. Vector encodings are learned by considering the context in which the words appear. Words that appear in similar contexts will have similar vectors. For example, vectors for \"leopard\", \"lion\", and \"tiger\" will be close together, while they'll be far away from \"planet\" and \"castle\"."
      ]
    },
    {
      "cell_type": "code",
      "metadata": {
        "id": "IYtC2jYecV9e",
        "colab_type": "code",
        "colab": {}
      },
      "source": [
        "import matplotlib.pyplot as plt\n",
        "import numpy as np\n",
        "import pandas as pd\n",
        "import spacy"
      ],
      "execution_count": 1,
      "outputs": []
    },
    {
      "cell_type": "markdown",
      "metadata": {
        "id": "WbZfDKNQlqjw",
        "colab_type": "text"
      },
      "source": [
        "spaCy provides embeddings learned from a model called Word2Vec. You can access them by loading a large language model like `en_core_web_lg`. Then they will be available on tokens from the `.vector` attribute."
      ]
    },
    {
      "cell_type": "code",
      "metadata": {
        "id": "cdAhhgG0Xgmn",
        "colab_type": "code",
        "colab": {
          "base_uri": "https://localhost:8080/",
          "height": 204
        },
        "outputId": "321bf2cb-9ac3-4a32-8d88-86a8228dece5"
      },
      "source": [
        "# Load the large model to get the vectors\n",
        "nlp = spacy.load('en')\n",
        "\n",
        "review_data = pd.read_csv('yelp_ratings.csv')\n",
        "review_data.head()"
      ],
      "execution_count": 2,
      "outputs": [
        {
          "output_type": "execute_result",
          "data": {
            "text/html": [
              "<div>\n",
              "<style scoped>\n",
              "    .dataframe tbody tr th:only-of-type {\n",
              "        vertical-align: middle;\n",
              "    }\n",
              "\n",
              "    .dataframe tbody tr th {\n",
              "        vertical-align: top;\n",
              "    }\n",
              "\n",
              "    .dataframe thead th {\n",
              "        text-align: right;\n",
              "    }\n",
              "</style>\n",
              "<table border=\"1\" class=\"dataframe\">\n",
              "  <thead>\n",
              "    <tr style=\"text-align: right;\">\n",
              "      <th></th>\n",
              "      <th>text</th>\n",
              "      <th>stars</th>\n",
              "      <th>sentiment</th>\n",
              "    </tr>\n",
              "  </thead>\n",
              "  <tbody>\n",
              "    <tr>\n",
              "      <th>0</th>\n",
              "      <td>Total bill for this horrible service? Over $8G...</td>\n",
              "      <td>1.0</td>\n",
              "      <td>0</td>\n",
              "    </tr>\n",
              "    <tr>\n",
              "      <th>1</th>\n",
              "      <td>I *adore* Travis at the Hard Rock's new Kelly ...</td>\n",
              "      <td>5.0</td>\n",
              "      <td>1</td>\n",
              "    </tr>\n",
              "    <tr>\n",
              "      <th>2</th>\n",
              "      <td>I have to say that this office really has it t...</td>\n",
              "      <td>5.0</td>\n",
              "      <td>1</td>\n",
              "    </tr>\n",
              "    <tr>\n",
              "      <th>3</th>\n",
              "      <td>Went in for a lunch. Steak sandwich was delici...</td>\n",
              "      <td>5.0</td>\n",
              "      <td>1</td>\n",
              "    </tr>\n",
              "    <tr>\n",
              "      <th>4</th>\n",
              "      <td>Today was my second out of three sessions I ha...</td>\n",
              "      <td>1.0</td>\n",
              "      <td>0</td>\n",
              "    </tr>\n",
              "  </tbody>\n",
              "</table>\n",
              "</div>"
            ],
            "text/plain": [
              "                                                text  stars  sentiment\n",
              "0  Total bill for this horrible service? Over $8G...    1.0          0\n",
              "1  I *adore* Travis at the Hard Rock's new Kelly ...    5.0          1\n",
              "2  I have to say that this office really has it t...    5.0          1\n",
              "3  Went in for a lunch. Steak sandwich was delici...    5.0          1\n",
              "4  Today was my second out of three sessions I ha...    1.0          0"
            ]
          },
          "metadata": {
            "tags": []
          },
          "execution_count": 2
        }
      ]
    },
    {
      "cell_type": "markdown",
      "metadata": {
        "id": "KUC6lSSQncuf",
        "colab_type": "text"
      },
      "source": [
        "Here's an example of loading some document vectors.\n",
        "\n",
        "Calculating 44,500 document vectors takes about 20 minutes, so we'll get only the first 100. To save time, we'll load pre-saved document vectors for the hands-on coding exercises."
      ]
    },
    {
      "cell_type": "code",
      "metadata": {
        "id": "Bqn68QW_mqPa",
        "colab_type": "code",
        "colab": {
          "base_uri": "https://localhost:8080/",
          "height": 34
        },
        "outputId": "8e5a08da-9eb8-4365-f89f-120346e2ac42"
      },
      "source": [
        "reviews = review_data[:100]\n",
        "# We just want the vectors so we can turn off other models in the pipeline\n",
        "with nlp.disable_pipes():\n",
        "    vectors = np.array([nlp(review.text).vector for idx, review in reviews.iterrows()])\n",
        "    \n",
        "vectors.shape"
      ],
      "execution_count": 14,
      "outputs": [
        {
          "output_type": "execute_result",
          "data": {
            "text/plain": [
              "(100, 96)"
            ]
          },
          "metadata": {
            "tags": []
          },
          "execution_count": 14
        }
      ]
    },
    {
      "cell_type": "markdown",
      "metadata": {
        "id": "t7aRg8kTqGtX",
        "colab_type": "text"
      },
      "source": [
        "Why 100 rows? Because we have 1 row for each column.\n",
        "\n",
        "Why 96 columns? This is the same length as word vectors."
      ]
    },
    {
      "cell_type": "code",
      "metadata": {
        "id": "wEiZgdMEnjtf",
        "colab_type": "code",
        "colab": {
          "base_uri": "https://localhost:8080/",
          "height": 238
        },
        "outputId": "6d5b32ec-cef9-4600-f70a-a813e890e498"
      },
      "source": [
        "# Loading all document vectors from file\n",
        "vectors = np.load('review_vectors.npy')\n",
        "vectors"
      ],
      "execution_count": 4,
      "outputs": [
        {
          "output_type": "execute_result",
          "data": {
            "text/plain": [
              "array([[-0.20143504,  0.1837154 , -0.01327053, ..., -0.05922916,\n",
              "         0.01440009,  0.09077955],\n",
              "       [-0.02590548,  0.1517007 , -0.11389936, ..., -0.04916738,\n",
              "         0.03085417,  0.07205424],\n",
              "       [-0.07666641,  0.19274631, -0.14321738, ..., -0.04575825,\n",
              "         0.0689992 ,  0.09280958],\n",
              "       ...,\n",
              "       [-0.03841371,  0.16862842, -0.24175283, ..., -0.10739233,\n",
              "         0.14741549,  0.12238124],\n",
              "       [-0.01221176,  0.11620302, -0.09448893, ..., -0.06332556,\n",
              "         0.02805696,  0.13142744],\n",
              "       [ 0.01070178,  0.1630349 , -0.06763948, ..., -0.08762769,\n",
              "         0.00377347,  0.15404755]], dtype=float32)"
            ]
          },
          "metadata": {
            "tags": []
          },
          "execution_count": 4
        }
      ]
    },
    {
      "cell_type": "code",
      "metadata": {
        "id": "QK9bIYcKxW2F",
        "colab_type": "code",
        "colab": {
          "base_uri": "https://localhost:8080/",
          "height": 34
        },
        "outputId": "d0ad9abb-faf5-41a5-916e-6f1101cdc862"
      },
      "source": [
        "vectors.shape"
      ],
      "execution_count": 5,
      "outputs": [
        {
          "output_type": "execute_result",
          "data": {
            "text/plain": [
              "(44530, 300)"
            ]
          },
          "metadata": {
            "tags": []
          },
          "execution_count": 5
        }
      ]
    },
    {
      "cell_type": "markdown",
      "metadata": {
        "id": "t7AUnuxuxgIz",
        "colab_type": "text"
      },
      "source": [
        "# **Training a Model on Document Vectors**"
      ]
    },
    {
      "cell_type": "code",
      "metadata": {
        "id": "TOo2pqqfxbYU",
        "colab_type": "code",
        "colab": {
          "base_uri": "https://localhost:8080/",
          "height": 34
        },
        "outputId": "1c1908ae-dd87-4e7b-d2c9-2d56a9eb5c74"
      },
      "source": [
        "from sklearn.svm import LinearSVC\n",
        "from sklearn.model_selection import train_test_split\n",
        "\n",
        "X_train, X_test, y_train, y_test = train_test_split(vectors, review_data.sentiment, \n",
        "                                                    test_size=0.1, random_state=1)\n",
        "\n",
        "# Create the LinearSVC model\n",
        "model = LinearSVC(random_state=1, dual=False)\n",
        "# Fit the model\n",
        "model.fit(X_train, y_train)\n",
        "\n",
        "# to see model accuracy\n",
        "print(f'Model test accuracy: {model.score(X_test, y_test)*100:.3f}%')"
      ],
      "execution_count": 9,
      "outputs": [
        {
          "output_type": "stream",
          "text": [
            "Model test accuracy: 93.847%\n"
          ],
          "name": "stdout"
        }
      ]
    },
    {
      "cell_type": "markdown",
      "metadata": {
        "id": "bw9pYs7SxZIt",
        "colab_type": "text"
      },
      "source": [
        "**Centering the Vectors**\n",
        "\n",
        "Sometimes people center document vectors when calculating similarities. That is, they calculate the mean vector from all documents, and they subtract this from each individual document's vector. Why do you think this could help with similarity metrics?\n",
        "\n",
        "Sometimes your documents will already be fairly similar. For example, this data set is all reviews of businesses. There will be stong similarities between the documents compared to news articles, technical manuals, and recipes. You end up with all the similarities between 0.8 and 1 and no anti-similar documents (similarity < 0). When the vectors are centered, you are comparing documents within your dataset as opposed to all possible documents."
      ]
    },
    {
      "cell_type": "code",
      "metadata": {
        "id": "cKYyCjKzx21C",
        "colab_type": "code",
        "colab": {
          "base_uri": "https://localhost:8080/",
          "height": 34
        },
        "outputId": "b655c212-71e2-4496-ed2b-5429301bd436"
      },
      "source": [
        "review = \"\"\"I absolutely love this place. The 360 degree glass windows with the \n",
        "Yerba buena garden view, tea pots all around and the smell of fresh tea everywhere \n",
        "transports you to what feels like a different zen zone within the city. I know \n",
        "the price is slightly more compared to the normal American size, however the food \n",
        "is very wholesome, the tea selection is incredible and I know service can be hit \n",
        "or miss often but it was on point during our most recent visit. Definitely recommend!\n",
        "\n",
        "I would especially recommend the butternut squash gyoza.\"\"\"\n",
        "\n",
        "def cosine_similarity(a, b):\n",
        "    return np.dot(a, b)/np.sqrt(a.dot(a)*b.dot(b))\n",
        "\n",
        "review_vec = nlp(review).vector\n",
        "\n",
        "## Center the document vectors\n",
        "# Calculate the mean for the document vectors\n",
        "vec_mean = vectors.mean(axis=0)\n",
        "# Subtract the mean from the vectors\n",
        "centered = vectors - vec_mean\n",
        "\n",
        "# Calculate similarities for each document in the dataset\n",
        "# Make sure to subtract the mean from the review vector\n",
        "sims = np.array([cosine_similarity(review_vec - vec_mean, vec) for vec in centered])\n",
        "\n",
        "# Get the index for the most similar document\n",
        "most_similar = sims.argmax()\n",
        "most_similar"
      ],
      "execution_count": 17,
      "outputs": [
        {
          "output_type": "execute_result",
          "data": {
            "text/plain": [
              "68"
            ]
          },
          "metadata": {
            "tags": []
          },
          "execution_count": 17
        }
      ]
    },
    {
      "cell_type": "code",
      "metadata": {
        "id": "r0HltHPEJowz",
        "colab_type": "code",
        "colab": {
          "base_uri": "https://localhost:8080/",
          "height": 255
        },
        "outputId": "9349d081-2b8f-4671-ec40-ba0d99c08487"
      },
      "source": [
        "print(centered.shape)\n",
        "centered"
      ],
      "execution_count": 24,
      "outputs": [
        {
          "output_type": "stream",
          "text": [
            "(100, 96)\n"
          ],
          "name": "stdout"
        },
        {
          "output_type": "execute_result",
          "data": {
            "text/plain": [
              "array([[-0.5606673 , -0.42731857,  0.5784769 , ..., -0.91992617,\n",
              "        -0.00921389,  0.120713  ],\n",
              "       [ 0.00657977, -0.1744476 ,  0.19410634, ...,  0.09970576,\n",
              "         0.12338543,  0.2745846 ],\n",
              "       [-0.05806408,  0.03195786,  0.09399292, ...,  0.18129015,\n",
              "         0.06183219, -0.11148781],\n",
              "       ...,\n",
              "       [-0.02900801, -0.20155254, -0.01432611, ...,  0.11464477,\n",
              "         0.2899717 ,  0.06350684],\n",
              "       [-0.4703021 ,  0.05068153, -0.42928925, ...,  0.34041506,\n",
              "         0.17901558, -0.11759883],\n",
              "       [ 0.21898696,  0.22086507, -0.01466776, ..., -0.15677482,\n",
              "        -0.04762721,  0.03696245]], dtype=float32)"
            ]
          },
          "metadata": {
            "tags": []
          },
          "execution_count": 24
        }
      ]
    },
    {
      "cell_type": "code",
      "metadata": {
        "id": "agTw30rcJd_8",
        "colab_type": "code",
        "colab": {
          "base_uri": "https://localhost:8080/",
          "height": 374
        },
        "outputId": "86fa9d63-858b-4223-ddc5-7da10ab7bba5"
      },
      "source": [
        "sims"
      ],
      "execution_count": 18,
      "outputs": [
        {
          "output_type": "execute_result",
          "data": {
            "text/plain": [
              "array([ 0.11615878,  0.20520343,  0.1199115 , -0.29613823, -0.2651352 ,\n",
              "       -0.14336504, -0.0837178 , -0.02431078, -0.14451663, -0.15439798,\n",
              "       -0.23878428, -0.11076656, -0.17707983,  0.12605008,  0.02963337,\n",
              "        0.15706927, -0.03548702,  0.13628466,  0.2666304 ,  0.06678802,\n",
              "        0.12929681,  0.03012088, -0.02520203, -0.1389964 ,  0.07685189,\n",
              "        0.23875962, -0.16238788, -0.21943115,  0.11658009,  0.04152437,\n",
              "       -0.19360548, -0.27243188,  0.10683729,  0.02188935, -0.02496911,\n",
              "       -0.09520426,  0.33202317, -0.08510762,  0.24514355, -0.03882213,\n",
              "       -0.10121612,  0.12764323, -0.01910499,  0.1520111 ,  0.04102394,\n",
              "       -0.194206  , -0.00082984, -0.27407327, -0.08929842,  0.32867005,\n",
              "        0.22730705,  0.02374783,  0.26474845,  0.01061294,  0.07035393,\n",
              "       -0.1035321 , -0.45238316, -0.02635742,  0.10386878,  0.00223781,\n",
              "        0.15506822,  0.07237454, -0.0901114 , -0.06198448, -0.23009619,\n",
              "       -0.08190632, -0.01945008, -0.14834529,  0.46943936, -0.2461633 ,\n",
              "        0.23299271, -0.0172029 ,  0.2653903 , -0.21524006, -0.00160494,\n",
              "        0.08073343,  0.16300182,  0.08798112, -0.16043246, -0.3569763 ,\n",
              "        0.13894135,  0.05426878,  0.15408029, -0.11682387, -0.10396752,\n",
              "        0.01220468,  0.0640057 , -0.22472826,  0.28081304,  0.18534982,\n",
              "        0.0143268 , -0.10259316,  0.01725063, -0.17109808, -0.1256157 ,\n",
              "       -0.01934706, -0.03098629,  0.03942786,  0.14573097,  0.12880698],\n",
              "      dtype=float32)"
            ]
          },
          "metadata": {
            "tags": []
          },
          "execution_count": 18
        }
      ]
    },
    {
      "cell_type": "code",
      "metadata": {
        "id": "FW5LPND1JisU",
        "colab_type": "code",
        "colab": {
          "base_uri": "https://localhost:8080/",
          "height": 34
        },
        "outputId": "3020d318-390a-4bf8-9de7-78b43314417e"
      },
      "source": [
        "len(sims)"
      ],
      "execution_count": 22,
      "outputs": [
        {
          "output_type": "execute_result",
          "data": {
            "text/plain": [
              "100"
            ]
          },
          "metadata": {
            "tags": []
          },
          "execution_count": 22
        }
      ]
    },
    {
      "cell_type": "code",
      "metadata": {
        "id": "F5_6xDdfJZxQ",
        "colab_type": "code",
        "colab": {
          "base_uri": "https://localhost:8080/",
          "height": 54
        },
        "outputId": "c2cbf9a7-8cba-430e-af60-4df5d71262dd"
      },
      "source": [
        "print(review_data.iloc[most_similar].text)"
      ],
      "execution_count": 16,
      "outputs": [
        {
          "output_type": "stream",
          "text": [
            "Yes... the Boba Tea explosion is in full force. I have been to Lee Lee International Supermarket in Chandler many times, but I never noticed this little gem next to it until a couple years ago. Boba Tea House has serving up some of the best boba tea in the Valley long before it became a big thing. They have a fantastic array of flavors and drink choices to choose like fruit slushes, snow, milk tea, pudding, mango jelly, coffee jelly, etc. They even have snacks like popcorn chicken, fried tofu, and fries. The staff is super friendly and the prices are reasonable. I still laugh at my friends who have no idea what Boba Tea is or are too afraid to suck up one of those chewy ball things. LOL. In case you didn't know, Boba Tea is a flavored tea (usually with milk) to which chewy tapioca balls or fruit jellies are added. I think they are super delicious. Today I got the Blueberry Milk Boba Tea and it made for the perfect snack in the middle of my day. Another favorite of my mine is the honeydew milk tea.\n"
          ],
          "name": "stdout"
        }
      ]
    },
    {
      "cell_type": "markdown",
      "metadata": {
        "id": "1FqdwUdt1cF5",
        "colab_type": "text"
      },
      "source": [
        "**Looking at similar reviews**\n",
        "\n",
        "Reviews for coffee shops will also be similar to our tea house review because coffee and tea are semantically similar. Most cafes serve both coffee and tea so you'll see the terms appearing together often.\n",
        "\n",
        "Reviews for coffee shops will also be similar to our tea house review because coffee and tea are semantically similar. Most cafes serve both coffee and tea so you'll see the terms appearing together often."
      ]
    }
  ]
}