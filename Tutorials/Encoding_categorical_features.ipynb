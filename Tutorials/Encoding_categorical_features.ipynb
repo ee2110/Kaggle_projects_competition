{
  "nbformat": 4,
  "nbformat_minor": 0,
  "metadata": {
    "colab": {
      "name": "Encoding_categorical_features.ipynb",
      "provenance": [],
      "collapsed_sections": []
    },
    "kernelspec": {
      "name": "python3",
      "display_name": "Python 3"
    },
    "accelerator": "GPU"
  },
  "cells": [
    {
      "cell_type": "markdown",
      "metadata": {
        "id": "w3NRzFjYyf5e",
        "colab_type": "text"
      },
      "source": [
        "In this exercise, we will apply more advanced encodings to encode the categorical variables ito improve your classifier model. The encodings are:\n",
        "\n",
        "- Count Encoding\n",
        "- Target Encoding\n",
        "- CatBoost Encoding"
      ]
    },
    {
      "cell_type": "code",
      "metadata": {
        "id": "mCFJaTwfwlr9",
        "colab_type": "code",
        "colab": {}
      },
      "source": [
        "import numpy as np\n",
        "import pandas as pd\n",
        "from sklearn import preprocessing, metrics\n",
        "import lightgbm as lgb"
      ],
      "execution_count": null,
      "outputs": []
    },
    {
      "cell_type": "code",
      "metadata": {
        "id": "R0ExqLSvytpV",
        "colab_type": "code",
        "colab": {}
      },
      "source": [
        "clicks = pd.read_parquet('../input/feature-engineering-data/baseline_data.pqt')"
      ],
      "execution_count": null,
      "outputs": []
    },
    {
      "cell_type": "code",
      "metadata": {
        "id": "ZzghsY-hzBfV",
        "colab_type": "code",
        "colab": {}
      },
      "source": [
        "def get_data_splits(dataframe, valid_fraction=0.1):\n",
        "    \"\"\"Splits a dataframe into train, validation, and test sets.\n",
        "\n",
        "    First, orders by the column 'click_time'. Set the size of the \n",
        "    validation and test sets with the valid_fraction keyword argument.\n",
        "    \"\"\"\n",
        "\n",
        "    dataframe = dataframe.sort_values('click_time')\n",
        "    valid_rows = int(len(dataframe) * valid_fraction)\n",
        "    train = dataframe[:-valid_rows * 2]\n",
        "    # valid size == test size, last two sections of the data\n",
        "    valid = dataframe[-valid_rows * 2:-valid_rows]\n",
        "    test = dataframe[-valid_rows:]\n",
        "    \n",
        "    return train, valid, test\n",
        "\n",
        "def train_model(train, valid, test=None, feature_cols=None):\n",
        "    if feature_cols is None:\n",
        "        feature_cols = train.columns.drop(['click_time', 'attributed_time',\n",
        "                                           'is_attributed'])\n",
        "    dtrain = lgb.Dataset(train[feature_cols], label=train['is_attributed'])\n",
        "    dvalid = lgb.Dataset(valid[feature_cols], label=valid['is_attributed'])\n",
        "    \n",
        "    param = {'num_leaves': 64, 'objective': 'binary', \n",
        "             'metric': 'auc', 'seed': 7}\n",
        "    num_round = 1000\n",
        "    bst = lgb.train(param, dtrain, num_round, valid_sets=[dvalid], \n",
        "                    early_stopping_rounds=20, verbose_eval=False)\n",
        "    \n",
        "    valid_pred = bst.predict(valid[feature_cols])\n",
        "    valid_score = metrics.roc_auc_score(valid['is_attributed'], valid_pred)\n",
        "    print(f\"Validation AUC score: {valid_score}\")\n",
        "    \n",
        "    if test is not None: \n",
        "        test_pred = bst.predict(test[feature_cols])\n",
        "        test_score = metrics.roc_auc_score(test['is_attributed'], test_pred)\n",
        "        return bst, valid_score, test_score\n",
        "    else:\n",
        "        return bst, valid_score"
      ],
      "execution_count": null,
      "outputs": []
    },
    {
      "cell_type": "code",
      "metadata": {
        "id": "r_lYODIy1Qhz",
        "colab_type": "code",
        "colab": {}
      },
      "source": [
        "print(\"Baseline model\")\n",
        "train, valid, test = get_data_splits(clicks)\n",
        "_ = train_model(train, valid)"
      ],
      "execution_count": null,
      "outputs": []
    }
  ]
}