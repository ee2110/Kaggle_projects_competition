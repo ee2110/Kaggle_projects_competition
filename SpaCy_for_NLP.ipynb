{
  "nbformat": 4,
  "nbformat_minor": 0,
  "metadata": {
    "colab": {
      "name": "spaCy_for_NLP.ipynb",
      "provenance": []
    },
    "kernelspec": {
      "name": "python3",
      "display_name": "Python 3"
    },
    "accelerator": "GPU"
  },
  "cells": [
    {
      "cell_type": "markdown",
      "metadata": {
        "id": "bQfKmncOLf4Z",
        "colab_type": "text"
      },
      "source": [
        "# **spaCy**\n",
        "\n",
        "spaCy is the leading library for NLP, and it has quickly become one of the most popular Python frameworks.\n",
        "\n",
        "We will use [SpaCy](https://spacy.io/) to perform following task:\n",
        "1. Basic text processing and pattern matching\n",
        "2. Building machine learning models with text\n",
        "3. Representing text with word embeddings that numerically capture the meaning of words and documents"
      ]
    },
    {
      "cell_type": "code",
      "metadata": {
        "id": "DWHbsIZXFqwy",
        "colab_type": "code",
        "colab": {}
      },
      "source": [
        ""
      ],
      "execution_count": null,
      "outputs": []
    }
  ]
}