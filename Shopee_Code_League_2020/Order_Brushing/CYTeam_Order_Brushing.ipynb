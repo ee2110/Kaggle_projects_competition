{
  "nbformat": 4,
  "nbformat_minor": 0,
  "metadata": {
    "colab": {
      "name": "CYTeam_Order_Brushing.ipynb",
      "provenance": [],
      "collapsed_sections": []
    },
    "kernelspec": {
      "name": "python3",
      "display_name": "Python 3"
    },
    "accelerator": "GPU"
  },
  "cells": [
    {
      "cell_type": "markdown",
      "metadata": {
        "id": "XmBojbb-gDOW",
        "colab_type": "text"
      },
      "source": [
        "# **Shopee Code League - Order Brushing**\n",
        "\n",
        "This notebook is for Shopee Code League Competition, Order Brushing, to detecting abnormal user behaviour. The competition details can be obtained from [here](https://www.kaggle.com/c/order-brushing-shopee-code-league/overview).\n",
        "\n",
        "Team name: CY Team (Malaysia)\n",
        "\n",
        "Team member:\n",
        "1. Chong Li Chuin\n",
        "2. Ee Yeo Keat"
      ]
    },
    {
      "cell_type": "markdown",
      "metadata": {
        "id": "u9F5x6ESuN-O",
        "colab_type": "text"
      },
      "source": [
        "# **Import libraries and read dataset**"
      ]
    },
    {
      "cell_type": "code",
      "metadata": {
        "id": "cQzqt-irZKlJ",
        "colab_type": "code",
        "colab": {}
      },
      "source": [
        "import pandas as pd\n",
        "import numpy as np\n",
        "import matplotlib.pyplot as plt\n",
        "import math\n",
        "import time\n",
        "from datetime import datetime\n",
        "from datetime import timedelta\n",
        "from google.colab import files"
      ],
      "execution_count": null,
      "outputs": []
    },
    {
      "cell_type": "code",
      "metadata": {
        "id": "_4jdOWfwud5X",
        "colab_type": "code",
        "colab": {
          "base_uri": "https://localhost:8080/"
        },
        "outputId": "9f565afd-d629-487e-cd5e-e3c35d0d1606"
      },
      "source": [
        "from tensorflow.python.client import device_lib\n",
        "check_device = device_lib.list_local_devices()\n",
        "check_device"
      ],
      "execution_count": null,
      "outputs": [
        {
          "output_type": "execute_result",
          "data": {
            "text/plain": [
              "[name: \"/device:CPU:0\"\n",
              " device_type: \"CPU\"\n",
              " memory_limit: 268435456\n",
              " locality {\n",
              " }\n",
              " incarnation: 7962389366130422802, name: \"/device:XLA_CPU:0\"\n",
              " device_type: \"XLA_CPU\"\n",
              " memory_limit: 17179869184\n",
              " locality {\n",
              " }\n",
              " incarnation: 974146674455461370\n",
              " physical_device_desc: \"device: XLA_CPU device\", name: \"/device:XLA_GPU:0\"\n",
              " device_type: \"XLA_GPU\"\n",
              " memory_limit: 17179869184\n",
              " locality {\n",
              " }\n",
              " incarnation: 1930007338866718707\n",
              " physical_device_desc: \"device: XLA_GPU device\", name: \"/device:GPU:0\"\n",
              " device_type: \"GPU\"\n",
              " memory_limit: 11150726272\n",
              " locality {\n",
              "   bus_id: 1\n",
              "   links {\n",
              "   }\n",
              " }\n",
              " incarnation: 10260854513767219687\n",
              " physical_device_desc: \"device: 0, name: Tesla K80, pci bus id: 0000:00:04.0, compute capability: 3.7\"]"
            ]
          },
          "metadata": {
            "tags": []
          },
          "execution_count": 2
        }
      ]
    },
    {
      "cell_type": "code",
      "metadata": {
        "id": "2vMTr4gYadht",
        "colab_type": "code",
        "colab": {
          "base_uri": "https://localhost:8080/"
        },
        "outputId": "376980d7-3ac8-4253-aca4-43099be04c56"
      },
      "source": [
        "data = pd.read_csv('order_brush_order.csv', index_col=0).sort_values(by=['event_time','shopid','userid']).reset_index()\n",
        "data"
      ],
      "execution_count": null,
      "outputs": [
        {
          "output_type": "execute_result",
          "data": {
            "text/html": [
              "<div>\n",
              "<style scoped>\n",
              "    .dataframe tbody tr th:only-of-type {\n",
              "        vertical-align: middle;\n",
              "    }\n",
              "\n",
              "    .dataframe tbody tr th {\n",
              "        vertical-align: top;\n",
              "    }\n",
              "\n",
              "    .dataframe thead th {\n",
              "        text-align: right;\n",
              "    }\n",
              "</style>\n",
              "<table border=\"1\" class=\"dataframe\">\n",
              "  <thead>\n",
              "    <tr style=\"text-align: right;\">\n",
              "      <th></th>\n",
              "      <th>orderid</th>\n",
              "      <th>shopid</th>\n",
              "      <th>userid</th>\n",
              "      <th>event_time</th>\n",
              "    </tr>\n",
              "  </thead>\n",
              "  <tbody>\n",
              "    <tr>\n",
              "      <th>0</th>\n",
              "      <td>31075200506751</td>\n",
              "      <td>6042309</td>\n",
              "      <td>97707522</td>\n",
              "      <td>2019-12-27 00:00:00</td>\n",
              "    </tr>\n",
              "    <tr>\n",
              "      <th>1</th>\n",
              "      <td>31075200506753</td>\n",
              "      <td>8715449</td>\n",
              "      <td>97707522</td>\n",
              "      <td>2019-12-27 00:00:00</td>\n",
              "    </tr>\n",
              "    <tr>\n",
              "      <th>2</th>\n",
              "      <td>31075200506752</td>\n",
              "      <td>104804492</td>\n",
              "      <td>97707522</td>\n",
              "      <td>2019-12-27 00:00:00</td>\n",
              "    </tr>\n",
              "    <tr>\n",
              "      <th>3</th>\n",
              "      <td>31075201870570</td>\n",
              "      <td>190969466</td>\n",
              "      <td>170182475</td>\n",
              "      <td>2019-12-27 00:00:02</td>\n",
              "    </tr>\n",
              "    <tr>\n",
              "      <th>4</th>\n",
              "      <td>31075205798264</td>\n",
              "      <td>2859407</td>\n",
              "      <td>12532131</td>\n",
              "      <td>2019-12-27 00:00:05</td>\n",
              "    </tr>\n",
              "    <tr>\n",
              "      <th>...</th>\n",
              "      <td>...</td>\n",
              "      <td>...</td>\n",
              "      <td>...</td>\n",
              "      <td>...</td>\n",
              "    </tr>\n",
              "    <tr>\n",
              "      <th>222745</th>\n",
              "      <td>31507183252446</td>\n",
              "      <td>149254894</td>\n",
              "      <td>193333760</td>\n",
              "      <td>2019-12-31 23:59:43</td>\n",
              "    </tr>\n",
              "    <tr>\n",
              "      <th>222746</th>\n",
              "      <td>31507187390691</td>\n",
              "      <td>147941492</td>\n",
              "      <td>40258063</td>\n",
              "      <td>2019-12-31 23:59:47</td>\n",
              "    </tr>\n",
              "    <tr>\n",
              "      <th>222747</th>\n",
              "      <td>31507191066627</td>\n",
              "      <td>154074176</td>\n",
              "      <td>2338306</td>\n",
              "      <td>2019-12-31 23:59:51</td>\n",
              "    </tr>\n",
              "    <tr>\n",
              "      <th>222748</th>\n",
              "      <td>31507191066628</td>\n",
              "      <td>187123853</td>\n",
              "      <td>2338306</td>\n",
              "      <td>2019-12-31 23:59:51</td>\n",
              "    </tr>\n",
              "    <tr>\n",
              "      <th>222749</th>\n",
              "      <td>31507196146800</td>\n",
              "      <td>31844790</td>\n",
              "      <td>95161930</td>\n",
              "      <td>2019-12-31 23:59:56</td>\n",
              "    </tr>\n",
              "  </tbody>\n",
              "</table>\n",
              "<p>222750 rows × 4 columns</p>\n",
              "</div>"
            ],
            "text/plain": [
              "               orderid     shopid     userid           event_time\n",
              "0       31075200506751    6042309   97707522  2019-12-27 00:00:00\n",
              "1       31075200506753    8715449   97707522  2019-12-27 00:00:00\n",
              "2       31075200506752  104804492   97707522  2019-12-27 00:00:00\n",
              "3       31075201870570  190969466  170182475  2019-12-27 00:00:02\n",
              "4       31075205798264    2859407   12532131  2019-12-27 00:00:05\n",
              "...                ...        ...        ...                  ...\n",
              "222745  31507183252446  149254894  193333760  2019-12-31 23:59:43\n",
              "222746  31507187390691  147941492   40258063  2019-12-31 23:59:47\n",
              "222747  31507191066627  154074176    2338306  2019-12-31 23:59:51\n",
              "222748  31507191066628  187123853    2338306  2019-12-31 23:59:51\n",
              "222749  31507196146800   31844790   95161930  2019-12-31 23:59:56\n",
              "\n",
              "[222750 rows x 4 columns]"
            ]
          },
          "metadata": {
            "tags": []
          },
          "execution_count": 3
        }
      ]
    },
    {
      "cell_type": "code",
      "metadata": {
        "id": "EsCT0V7MTrYi",
        "colab_type": "code",
        "colab": {}
      },
      "source": [
        "date = data['event_time']\n",
        "date_time = []\n",
        "for i in date:\n",
        "  date_time.append(datetime.strptime(i,\"%Y-%m-%d %H:%M:%S\"))"
      ],
      "execution_count": null,
      "outputs": []
    },
    {
      "cell_type": "code",
      "metadata": {
        "id": "oz22fSwim3sQ",
        "colab_type": "code",
        "colab": {
          "base_uri": "https://localhost:8080/",
          "height": 419
        },
        "outputId": "19b8d267-ca7b-4ecd-a4fe-e70abd3aaf05"
      },
      "source": [
        "data['date_time'] = date_time\n",
        "data"
      ],
      "execution_count": null,
      "outputs": [
        {
          "output_type": "execute_result",
          "data": {
            "text/html": [
              "<div>\n",
              "<style scoped>\n",
              "    .dataframe tbody tr th:only-of-type {\n",
              "        vertical-align: middle;\n",
              "    }\n",
              "\n",
              "    .dataframe tbody tr th {\n",
              "        vertical-align: top;\n",
              "    }\n",
              "\n",
              "    .dataframe thead th {\n",
              "        text-align: right;\n",
              "    }\n",
              "</style>\n",
              "<table border=\"1\" class=\"dataframe\">\n",
              "  <thead>\n",
              "    <tr style=\"text-align: right;\">\n",
              "      <th></th>\n",
              "      <th>orderid</th>\n",
              "      <th>shopid</th>\n",
              "      <th>userid</th>\n",
              "      <th>event_time</th>\n",
              "      <th>date_time</th>\n",
              "    </tr>\n",
              "  </thead>\n",
              "  <tbody>\n",
              "    <tr>\n",
              "      <th>0</th>\n",
              "      <td>31075200506751</td>\n",
              "      <td>6042309</td>\n",
              "      <td>97707522</td>\n",
              "      <td>2019-12-27 00:00:00</td>\n",
              "      <td>2019-12-27 00:00:00</td>\n",
              "    </tr>\n",
              "    <tr>\n",
              "      <th>1</th>\n",
              "      <td>31075200506753</td>\n",
              "      <td>8715449</td>\n",
              "      <td>97707522</td>\n",
              "      <td>2019-12-27 00:00:00</td>\n",
              "      <td>2019-12-27 00:00:00</td>\n",
              "    </tr>\n",
              "    <tr>\n",
              "      <th>2</th>\n",
              "      <td>31075200506752</td>\n",
              "      <td>104804492</td>\n",
              "      <td>97707522</td>\n",
              "      <td>2019-12-27 00:00:00</td>\n",
              "      <td>2019-12-27 00:00:00</td>\n",
              "    </tr>\n",
              "    <tr>\n",
              "      <th>3</th>\n",
              "      <td>31075201870570</td>\n",
              "      <td>190969466</td>\n",
              "      <td>170182475</td>\n",
              "      <td>2019-12-27 00:00:02</td>\n",
              "      <td>2019-12-27 00:00:02</td>\n",
              "    </tr>\n",
              "    <tr>\n",
              "      <th>4</th>\n",
              "      <td>31075205798264</td>\n",
              "      <td>2859407</td>\n",
              "      <td>12532131</td>\n",
              "      <td>2019-12-27 00:00:05</td>\n",
              "      <td>2019-12-27 00:00:05</td>\n",
              "    </tr>\n",
              "    <tr>\n",
              "      <th>...</th>\n",
              "      <td>...</td>\n",
              "      <td>...</td>\n",
              "      <td>...</td>\n",
              "      <td>...</td>\n",
              "      <td>...</td>\n",
              "    </tr>\n",
              "    <tr>\n",
              "      <th>222745</th>\n",
              "      <td>31507183252446</td>\n",
              "      <td>149254894</td>\n",
              "      <td>193333760</td>\n",
              "      <td>2019-12-31 23:59:43</td>\n",
              "      <td>2019-12-31 23:59:43</td>\n",
              "    </tr>\n",
              "    <tr>\n",
              "      <th>222746</th>\n",
              "      <td>31507187390691</td>\n",
              "      <td>147941492</td>\n",
              "      <td>40258063</td>\n",
              "      <td>2019-12-31 23:59:47</td>\n",
              "      <td>2019-12-31 23:59:47</td>\n",
              "    </tr>\n",
              "    <tr>\n",
              "      <th>222747</th>\n",
              "      <td>31507191066627</td>\n",
              "      <td>154074176</td>\n",
              "      <td>2338306</td>\n",
              "      <td>2019-12-31 23:59:51</td>\n",
              "      <td>2019-12-31 23:59:51</td>\n",
              "    </tr>\n",
              "    <tr>\n",
              "      <th>222748</th>\n",
              "      <td>31507191066628</td>\n",
              "      <td>187123853</td>\n",
              "      <td>2338306</td>\n",
              "      <td>2019-12-31 23:59:51</td>\n",
              "      <td>2019-12-31 23:59:51</td>\n",
              "    </tr>\n",
              "    <tr>\n",
              "      <th>222749</th>\n",
              "      <td>31507196146800</td>\n",
              "      <td>31844790</td>\n",
              "      <td>95161930</td>\n",
              "      <td>2019-12-31 23:59:56</td>\n",
              "      <td>2019-12-31 23:59:56</td>\n",
              "    </tr>\n",
              "  </tbody>\n",
              "</table>\n",
              "<p>222750 rows × 5 columns</p>\n",
              "</div>"
            ],
            "text/plain": [
              "               orderid     shopid  ...           event_time           date_time\n",
              "0       31075200506751    6042309  ...  2019-12-27 00:00:00 2019-12-27 00:00:00\n",
              "1       31075200506753    8715449  ...  2019-12-27 00:00:00 2019-12-27 00:00:00\n",
              "2       31075200506752  104804492  ...  2019-12-27 00:00:00 2019-12-27 00:00:00\n",
              "3       31075201870570  190969466  ...  2019-12-27 00:00:02 2019-12-27 00:00:02\n",
              "4       31075205798264    2859407  ...  2019-12-27 00:00:05 2019-12-27 00:00:05\n",
              "...                ...        ...  ...                  ...                 ...\n",
              "222745  31507183252446  149254894  ...  2019-12-31 23:59:43 2019-12-31 23:59:43\n",
              "222746  31507187390691  147941492  ...  2019-12-31 23:59:47 2019-12-31 23:59:47\n",
              "222747  31507191066627  154074176  ...  2019-12-31 23:59:51 2019-12-31 23:59:51\n",
              "222748  31507191066628  187123853  ...  2019-12-31 23:59:51 2019-12-31 23:59:51\n",
              "222749  31507196146800   31844790  ...  2019-12-31 23:59:56 2019-12-31 23:59:56\n",
              "\n",
              "[222750 rows x 5 columns]"
            ]
          },
          "metadata": {
            "tags": []
          },
          "execution_count": 5
        }
      ]
    },
    {
      "cell_type": "code",
      "metadata": {
        "id": "zldWspqN2mYr",
        "colab_type": "code",
        "colab": {
          "base_uri": "https://localhost:8080/"
        },
        "outputId": "f75a6074-0675-40f3-9773-0bd1a5d3c1e6"
      },
      "source": [
        "data.info()"
      ],
      "execution_count": null,
      "outputs": [
        {
          "output_type": "stream",
          "text": [
            "<class 'pandas.core.frame.DataFrame'>\n",
            "RangeIndex: 222750 entries, 0 to 222749\n",
            "Data columns (total 5 columns):\n",
            " #   Column      Non-Null Count   Dtype         \n",
            "---  ------      --------------   -----         \n",
            " 0   orderid     222750 non-null  int64         \n",
            " 1   shopid      222750 non-null  int64         \n",
            " 2   userid      222750 non-null  int64         \n",
            " 3   event_time  222750 non-null  object        \n",
            " 4   date_time   222750 non-null  datetime64[ns]\n",
            "dtypes: datetime64[ns](1), int64(3), object(1)\n",
            "memory usage: 8.5+ MB\n"
          ],
          "name": "stdout"
        }
      ]
    },
    {
      "cell_type": "code",
      "metadata": {
        "id": "QpoSmiCBEr_2",
        "colab_type": "code",
        "colab": {
          "base_uri": "https://localhost:8080/",
          "height": 34
        },
        "outputId": "4e5837ab-acda-41cc-8920-2557c708771e"
      },
      "source": [
        "b = data['date_time'].loc[10]\n",
        "a = data['date_time'].loc[1]\n",
        "delt = b-a\n",
        "delt.total_seconds()"
      ],
      "execution_count": null,
      "outputs": [
        {
          "output_type": "execute_result",
          "data": {
            "text/plain": [
              "8.0"
            ]
          },
          "metadata": {
            "tags": []
          },
          "execution_count": 7
        }
      ]
    },
    {
      "cell_type": "code",
      "metadata": {
        "id": "ha-AtymTBKjk",
        "colab_type": "code",
        "colab": {
          "base_uri": "https://localhost:8080/"
        },
        "outputId": "6d9e01e7-fd3e-46fa-871b-2a44d8dd2013"
      },
      "source": [
        "test = data[:100]\n",
        "test"
      ],
      "execution_count": null,
      "outputs": [
        {
          "output_type": "execute_result",
          "data": {
            "text/html": [
              "<div>\n",
              "<style scoped>\n",
              "    .dataframe tbody tr th:only-of-type {\n",
              "        vertical-align: middle;\n",
              "    }\n",
              "\n",
              "    .dataframe tbody tr th {\n",
              "        vertical-align: top;\n",
              "    }\n",
              "\n",
              "    .dataframe thead th {\n",
              "        text-align: right;\n",
              "    }\n",
              "</style>\n",
              "<table border=\"1\" class=\"dataframe\">\n",
              "  <thead>\n",
              "    <tr style=\"text-align: right;\">\n",
              "      <th></th>\n",
              "      <th>orderid</th>\n",
              "      <th>shopid</th>\n",
              "      <th>userid</th>\n",
              "      <th>event_time</th>\n",
              "      <th>date_time</th>\n",
              "    </tr>\n",
              "  </thead>\n",
              "  <tbody>\n",
              "    <tr>\n",
              "      <th>0</th>\n",
              "      <td>31075200506751</td>\n",
              "      <td>6042309</td>\n",
              "      <td>97707522</td>\n",
              "      <td>2019-12-27 00:00:00</td>\n",
              "      <td>2019-12-27 00:00:00</td>\n",
              "    </tr>\n",
              "    <tr>\n",
              "      <th>1</th>\n",
              "      <td>31075200506753</td>\n",
              "      <td>8715449</td>\n",
              "      <td>97707522</td>\n",
              "      <td>2019-12-27 00:00:00</td>\n",
              "      <td>2019-12-27 00:00:00</td>\n",
              "    </tr>\n",
              "    <tr>\n",
              "      <th>2</th>\n",
              "      <td>31075200506752</td>\n",
              "      <td>104804492</td>\n",
              "      <td>97707522</td>\n",
              "      <td>2019-12-27 00:00:00</td>\n",
              "      <td>2019-12-27 00:00:00</td>\n",
              "    </tr>\n",
              "    <tr>\n",
              "      <th>3</th>\n",
              "      <td>31075201870570</td>\n",
              "      <td>190969466</td>\n",
              "      <td>170182475</td>\n",
              "      <td>2019-12-27 00:00:02</td>\n",
              "      <td>2019-12-27 00:00:02</td>\n",
              "    </tr>\n",
              "    <tr>\n",
              "      <th>4</th>\n",
              "      <td>31075205798264</td>\n",
              "      <td>2859407</td>\n",
              "      <td>12532131</td>\n",
              "      <td>2019-12-27 00:00:05</td>\n",
              "      <td>2019-12-27 00:00:05</td>\n",
              "    </tr>\n",
              "    <tr>\n",
              "      <th>...</th>\n",
              "      <td>...</td>\n",
              "      <td>...</td>\n",
              "      <td>...</td>\n",
              "      <td>...</td>\n",
              "      <td>...</td>\n",
              "    </tr>\n",
              "    <tr>\n",
              "      <th>95</th>\n",
              "      <td>31075285509505</td>\n",
              "      <td>50968872</td>\n",
              "      <td>162009161</td>\n",
              "      <td>2019-12-27 00:01:25</td>\n",
              "      <td>2019-12-27 00:01:25</td>\n",
              "    </tr>\n",
              "    <tr>\n",
              "      <th>96</th>\n",
              "      <td>31075285632909</td>\n",
              "      <td>147627088</td>\n",
              "      <td>180684640</td>\n",
              "      <td>2019-12-27 00:01:25</td>\n",
              "      <td>2019-12-27 00:01:25</td>\n",
              "    </tr>\n",
              "    <tr>\n",
              "      <th>97</th>\n",
              "      <td>31075288172810</td>\n",
              "      <td>116673348</td>\n",
              "      <td>80101689</td>\n",
              "      <td>2019-12-27 00:01:28</td>\n",
              "      <td>2019-12-27 00:01:28</td>\n",
              "    </tr>\n",
              "    <tr>\n",
              "      <th>98</th>\n",
              "      <td>31075289043119</td>\n",
              "      <td>167354126</td>\n",
              "      <td>55074114</td>\n",
              "      <td>2019-12-27 00:01:29</td>\n",
              "      <td>2019-12-27 00:01:29</td>\n",
              "    </tr>\n",
              "    <tr>\n",
              "      <th>99</th>\n",
              "      <td>31075292716578</td>\n",
              "      <td>44542094</td>\n",
              "      <td>193354334</td>\n",
              "      <td>2019-12-27 00:01:32</td>\n",
              "      <td>2019-12-27 00:01:32</td>\n",
              "    </tr>\n",
              "  </tbody>\n",
              "</table>\n",
              "<p>100 rows × 5 columns</p>\n",
              "</div>"
            ],
            "text/plain": [
              "           orderid     shopid  ...           event_time           date_time\n",
              "0   31075200506751    6042309  ...  2019-12-27 00:00:00 2019-12-27 00:00:00\n",
              "1   31075200506753    8715449  ...  2019-12-27 00:00:00 2019-12-27 00:00:00\n",
              "2   31075200506752  104804492  ...  2019-12-27 00:00:00 2019-12-27 00:00:00\n",
              "3   31075201870570  190969466  ...  2019-12-27 00:00:02 2019-12-27 00:00:02\n",
              "4   31075205798264    2859407  ...  2019-12-27 00:00:05 2019-12-27 00:00:05\n",
              "..             ...        ...  ...                  ...                 ...\n",
              "95  31075285509505   50968872  ...  2019-12-27 00:01:25 2019-12-27 00:01:25\n",
              "96  31075285632909  147627088  ...  2019-12-27 00:01:25 2019-12-27 00:01:25\n",
              "97  31075288172810  116673348  ...  2019-12-27 00:01:28 2019-12-27 00:01:28\n",
              "98  31075289043119  167354126  ...  2019-12-27 00:01:29 2019-12-27 00:01:29\n",
              "99  31075292716578   44542094  ...  2019-12-27 00:01:32 2019-12-27 00:01:32\n",
              "\n",
              "[100 rows x 5 columns]"
            ]
          },
          "metadata": {
            "tags": []
          },
          "execution_count": 8
        }
      ]
    },
    {
      "cell_type": "code",
      "metadata": {
        "id": "CT0b6oebSrYY",
        "colab_type": "code",
        "colab": {
          "base_uri": "https://localhost:8080/",
          "height": 197
        },
        "outputId": "9f7bc70d-1f3f-4593-b6fd-6cc1bab865c2"
      },
      "source": [
        "initial = data['date_time'].loc[1]\n",
        "it = initial.time()\n",
        "it + 1"
      ],
      "execution_count": 12,
      "outputs": [
        {
          "output_type": "error",
          "ename": "TypeError",
          "evalue": "ignored",
          "traceback": [
            "\u001b[0;31m---------------------------------------------------------------------------\u001b[0m",
            "\u001b[0;31mTypeError\u001b[0m                                 Traceback (most recent call last)",
            "\u001b[0;32m<ipython-input-12-8fabcda65010>\u001b[0m in \u001b[0;36m<module>\u001b[0;34m()\u001b[0m\n\u001b[1;32m      1\u001b[0m \u001b[0minitial\u001b[0m \u001b[0;34m=\u001b[0m \u001b[0mdata\u001b[0m\u001b[0;34m[\u001b[0m\u001b[0;34m'date_time'\u001b[0m\u001b[0;34m]\u001b[0m\u001b[0;34m.\u001b[0m\u001b[0mloc\u001b[0m\u001b[0;34m[\u001b[0m\u001b[0;36m1\u001b[0m\u001b[0;34m]\u001b[0m\u001b[0;34m\u001b[0m\u001b[0;34m\u001b[0m\u001b[0m\n\u001b[1;32m      2\u001b[0m \u001b[0mit\u001b[0m \u001b[0;34m=\u001b[0m \u001b[0minitial\u001b[0m\u001b[0;34m.\u001b[0m\u001b[0mtime\u001b[0m\u001b[0;34m(\u001b[0m\u001b[0;34m)\u001b[0m\u001b[0;34m\u001b[0m\u001b[0;34m\u001b[0m\u001b[0m\n\u001b[0;32m----> 3\u001b[0;31m \u001b[0mit\u001b[0m \u001b[0;34m+\u001b[0m \u001b[0;36m1\u001b[0m\u001b[0;34m\u001b[0m\u001b[0;34m\u001b[0m\u001b[0m\n\u001b[0m",
            "\u001b[0;31mTypeError\u001b[0m: unsupported operand type(s) for +: 'datetime.time' and 'int'"
          ]
        }
      ]
    },
    {
      "cell_type": "code",
      "metadata": {
        "id": "K1UWZcJBojDY",
        "colab_type": "code",
        "colab": {}
      },
      "source": [
        "def check_concentrate_rate():\n",
        "  concentrate_rate = #Number of Orders within 1 hour / Number of Unique Buyers within 1 hour\n",
        "  if concentrate_rate >= 3:\n",
        "    shop_list.append(shopid)\n",
        "  \n",
        "  return shop_list"
      ],
      "execution_count": null,
      "outputs": []
    },
    {
      "cell_type": "code",
      "metadata": {
        "id": "4vxLVQK-ojI6",
        "colab_type": "code",
        "colab": {}
      },
      "source": [
        "df.to_csv('CY_Team_submission4.csv') \n",
        "files.download('CY_Team_submission4.csv')"
      ],
      "execution_count": null,
      "outputs": []
    },
    {
      "cell_type": "code",
      "metadata": {
        "id": "5DOa3eMVoi-4",
        "colab_type": "code",
        "colab": {}
      },
      "source": [
        ""
      ],
      "execution_count": null,
      "outputs": []
    }
  ]
}