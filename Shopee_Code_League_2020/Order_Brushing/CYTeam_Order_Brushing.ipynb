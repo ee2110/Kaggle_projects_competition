{
  "nbformat": 4,
  "nbformat_minor": 0,
  "metadata": {
    "colab": {
      "name": "CYTeam_Order_Brushing.ipynb",
      "provenance": []
    },
    "kernelspec": {
      "name": "python3",
      "display_name": "Python 3"
    },
    "accelerator": "GPU"
  },
  "cells": [
    {
      "cell_type": "markdown",
      "metadata": {
        "id": "XmBojbb-gDOW",
        "colab_type": "text"
      },
      "source": [
        "# **Shopee Code League - Order Brushing**\n",
        "\n",
        "This notebook is for Shopee Code League Competition, Order Brushing, to detecting abnormal user behaviour. The competition details can be obtained from [here](https://www.kaggle.com/c/order-brushing-shopee-code-league/overview).\n",
        "\n",
        "Team name: CY Team (Malaysia)\n",
        "\n",
        "Team member:\n",
        "1. Chong Li Chuin\n",
        "2. Ee Yeo Keat"
      ]
    },
    {
      "cell_type": "markdown",
      "metadata": {
        "id": "u9F5x6ESuN-O",
        "colab_type": "text"
      },
      "source": [
        "# **Import libraries and read dataset**"
      ]
    },
    {
      "cell_type": "code",
      "metadata": {
        "id": "cQzqt-irZKlJ",
        "colab_type": "code",
        "colab": {}
      },
      "source": [
        "import pandas as pd\n",
        "import numpy as np\n",
        "import matplotlib.pyplot as plt\n",
        "import math\n",
        "import datetime\n",
        "from datetime import timedelta\n",
        "from google.colab import files"
      ],
      "execution_count": 0,
      "outputs": []
    },
    {
      "cell_type": "code",
      "metadata": {
        "id": "2vMTr4gYadht",
        "colab_type": "code",
        "outputId": "5bb8132c-2ba6-44f4-833e-f63aee45e560",
        "colab": {
          "base_uri": "https://localhost:8080/",
          "height": 419
        }
      },
      "source": [
        "data = pd.read_csv('order_brush_order.csv').sort_values(by=['event_time','shopid','userid'])\n",
        "data"
      ],
      "execution_count": 0,
      "outputs": [
        {
          "output_type": "execute_result",
          "data": {
            "text/html": [
              "<div>\n",
              "<style scoped>\n",
              "    .dataframe tbody tr th:only-of-type {\n",
              "        vertical-align: middle;\n",
              "    }\n",
              "\n",
              "    .dataframe tbody tr th {\n",
              "        vertical-align: top;\n",
              "    }\n",
              "\n",
              "    .dataframe thead th {\n",
              "        text-align: right;\n",
              "    }\n",
              "</style>\n",
              "<table border=\"1\" class=\"dataframe\">\n",
              "  <thead>\n",
              "    <tr style=\"text-align: right;\">\n",
              "      <th></th>\n",
              "      <th>orderid</th>\n",
              "      <th>shopid</th>\n",
              "      <th>userid</th>\n",
              "      <th>event_time</th>\n",
              "    </tr>\n",
              "  </thead>\n",
              "  <tbody>\n",
              "    <tr>\n",
              "      <th>150060</th>\n",
              "      <td>31075200506751</td>\n",
              "      <td>6042309</td>\n",
              "      <td>97707522</td>\n",
              "      <td>2019-12-27 00:00:00</td>\n",
              "    </tr>\n",
              "    <tr>\n",
              "      <th>81020</th>\n",
              "      <td>31075200506753</td>\n",
              "      <td>8715449</td>\n",
              "      <td>97707522</td>\n",
              "      <td>2019-12-27 00:00:00</td>\n",
              "    </tr>\n",
              "    <tr>\n",
              "      <th>25985</th>\n",
              "      <td>31075200506752</td>\n",
              "      <td>104804492</td>\n",
              "      <td>97707522</td>\n",
              "      <td>2019-12-27 00:00:00</td>\n",
              "    </tr>\n",
              "    <tr>\n",
              "      <th>146598</th>\n",
              "      <td>31075201870570</td>\n",
              "      <td>190969466</td>\n",
              "      <td>170182475</td>\n",
              "      <td>2019-12-27 00:00:02</td>\n",
              "    </tr>\n",
              "    <tr>\n",
              "      <th>80355</th>\n",
              "      <td>31075205798264</td>\n",
              "      <td>2859407</td>\n",
              "      <td>12532131</td>\n",
              "      <td>2019-12-27 00:00:05</td>\n",
              "    </tr>\n",
              "    <tr>\n",
              "      <th>...</th>\n",
              "      <td>...</td>\n",
              "      <td>...</td>\n",
              "      <td>...</td>\n",
              "      <td>...</td>\n",
              "    </tr>\n",
              "    <tr>\n",
              "      <th>114113</th>\n",
              "      <td>31507183252446</td>\n",
              "      <td>149254894</td>\n",
              "      <td>193333760</td>\n",
              "      <td>2019-12-31 23:59:43</td>\n",
              "    </tr>\n",
              "    <tr>\n",
              "      <th>206585</th>\n",
              "      <td>31507187390691</td>\n",
              "      <td>147941492</td>\n",
              "      <td>40258063</td>\n",
              "      <td>2019-12-31 23:59:47</td>\n",
              "    </tr>\n",
              "    <tr>\n",
              "      <th>160657</th>\n",
              "      <td>31507191066627</td>\n",
              "      <td>154074176</td>\n",
              "      <td>2338306</td>\n",
              "      <td>2019-12-31 23:59:51</td>\n",
              "    </tr>\n",
              "    <tr>\n",
              "      <th>126212</th>\n",
              "      <td>31507191066628</td>\n",
              "      <td>187123853</td>\n",
              "      <td>2338306</td>\n",
              "      <td>2019-12-31 23:59:51</td>\n",
              "    </tr>\n",
              "    <tr>\n",
              "      <th>179881</th>\n",
              "      <td>31507196146800</td>\n",
              "      <td>31844790</td>\n",
              "      <td>95161930</td>\n",
              "      <td>2019-12-31 23:59:56</td>\n",
              "    </tr>\n",
              "  </tbody>\n",
              "</table>\n",
              "<p>222750 rows × 4 columns</p>\n",
              "</div>"
            ],
            "text/plain": [
              "               orderid     shopid     userid           event_time\n",
              "150060  31075200506751    6042309   97707522  2019-12-27 00:00:00\n",
              "81020   31075200506753    8715449   97707522  2019-12-27 00:00:00\n",
              "25985   31075200506752  104804492   97707522  2019-12-27 00:00:00\n",
              "146598  31075201870570  190969466  170182475  2019-12-27 00:00:02\n",
              "80355   31075205798264    2859407   12532131  2019-12-27 00:00:05\n",
              "...                ...        ...        ...                  ...\n",
              "114113  31507183252446  149254894  193333760  2019-12-31 23:59:43\n",
              "206585  31507187390691  147941492   40258063  2019-12-31 23:59:47\n",
              "160657  31507191066627  154074176    2338306  2019-12-31 23:59:51\n",
              "126212  31507191066628  187123853    2338306  2019-12-31 23:59:51\n",
              "179881  31507196146800   31844790   95161930  2019-12-31 23:59:56\n",
              "\n",
              "[222750 rows x 4 columns]"
            ]
          },
          "metadata": {
            "tags": []
          },
          "execution_count": 2
        }
      ]
    },
    {
      "cell_type": "code",
      "metadata": {
        "id": "sXgYRYrvObuG",
        "colab_type": "code",
        "colab": {}
      },
      "source": [
        "## Set event_time as index \n",
        "df_time = data.set_index(pd.DatetimeIndex(data['event_time'])).drop('event_time', axis=1)\n",
        "df_time = df_time.sort_index()"
      ],
      "execution_count": 0,
      "outputs": []
    },
    {
      "cell_type": "code",
      "metadata": {
        "id": "fUTaTOmWOs0m",
        "colab_type": "code",
        "outputId": "cf351a61-7bc2-480a-cfff-3d45e71f4853",
        "colab": {
          "base_uri": "https://localhost:8080/",
          "height": 450
        }
      },
      "source": [
        "df_time"
      ],
      "execution_count": 0,
      "outputs": [
        {
          "output_type": "execute_result",
          "data": {
            "text/html": [
              "<div>\n",
              "<style scoped>\n",
              "    .dataframe tbody tr th:only-of-type {\n",
              "        vertical-align: middle;\n",
              "    }\n",
              "\n",
              "    .dataframe tbody tr th {\n",
              "        vertical-align: top;\n",
              "    }\n",
              "\n",
              "    .dataframe thead th {\n",
              "        text-align: right;\n",
              "    }\n",
              "</style>\n",
              "<table border=\"1\" class=\"dataframe\">\n",
              "  <thead>\n",
              "    <tr style=\"text-align: right;\">\n",
              "      <th></th>\n",
              "      <th>orderid</th>\n",
              "      <th>shopid</th>\n",
              "      <th>userid</th>\n",
              "    </tr>\n",
              "    <tr>\n",
              "      <th>event_time</th>\n",
              "      <th></th>\n",
              "      <th></th>\n",
              "      <th></th>\n",
              "    </tr>\n",
              "  </thead>\n",
              "  <tbody>\n",
              "    <tr>\n",
              "      <th>2019-12-27 00:00:00</th>\n",
              "      <td>31075200506751</td>\n",
              "      <td>6042309</td>\n",
              "      <td>97707522</td>\n",
              "    </tr>\n",
              "    <tr>\n",
              "      <th>2019-12-27 00:00:00</th>\n",
              "      <td>31075200506753</td>\n",
              "      <td>8715449</td>\n",
              "      <td>97707522</td>\n",
              "    </tr>\n",
              "    <tr>\n",
              "      <th>2019-12-27 00:00:00</th>\n",
              "      <td>31075200506752</td>\n",
              "      <td>104804492</td>\n",
              "      <td>97707522</td>\n",
              "    </tr>\n",
              "    <tr>\n",
              "      <th>2019-12-27 00:00:02</th>\n",
              "      <td>31075201870570</td>\n",
              "      <td>190969466</td>\n",
              "      <td>170182475</td>\n",
              "    </tr>\n",
              "    <tr>\n",
              "      <th>2019-12-27 00:00:05</th>\n",
              "      <td>31075205798264</td>\n",
              "      <td>2859407</td>\n",
              "      <td>12532131</td>\n",
              "    </tr>\n",
              "    <tr>\n",
              "      <th>...</th>\n",
              "      <td>...</td>\n",
              "      <td>...</td>\n",
              "      <td>...</td>\n",
              "    </tr>\n",
              "    <tr>\n",
              "      <th>2019-12-31 23:59:43</th>\n",
              "      <td>31507183252446</td>\n",
              "      <td>149254894</td>\n",
              "      <td>193333760</td>\n",
              "    </tr>\n",
              "    <tr>\n",
              "      <th>2019-12-31 23:59:47</th>\n",
              "      <td>31507187390691</td>\n",
              "      <td>147941492</td>\n",
              "      <td>40258063</td>\n",
              "    </tr>\n",
              "    <tr>\n",
              "      <th>2019-12-31 23:59:51</th>\n",
              "      <td>31507191066627</td>\n",
              "      <td>154074176</td>\n",
              "      <td>2338306</td>\n",
              "    </tr>\n",
              "    <tr>\n",
              "      <th>2019-12-31 23:59:51</th>\n",
              "      <td>31507191066628</td>\n",
              "      <td>187123853</td>\n",
              "      <td>2338306</td>\n",
              "    </tr>\n",
              "    <tr>\n",
              "      <th>2019-12-31 23:59:56</th>\n",
              "      <td>31507196146800</td>\n",
              "      <td>31844790</td>\n",
              "      <td>95161930</td>\n",
              "    </tr>\n",
              "  </tbody>\n",
              "</table>\n",
              "<p>222750 rows × 3 columns</p>\n",
              "</div>"
            ],
            "text/plain": [
              "                            orderid     shopid     userid\n",
              "event_time                                               \n",
              "2019-12-27 00:00:00  31075200506751    6042309   97707522\n",
              "2019-12-27 00:00:00  31075200506753    8715449   97707522\n",
              "2019-12-27 00:00:00  31075200506752  104804492   97707522\n",
              "2019-12-27 00:00:02  31075201870570  190969466  170182475\n",
              "2019-12-27 00:00:05  31075205798264    2859407   12532131\n",
              "...                             ...        ...        ...\n",
              "2019-12-31 23:59:43  31507183252446  149254894  193333760\n",
              "2019-12-31 23:59:47  31507187390691  147941492   40258063\n",
              "2019-12-31 23:59:51  31507191066627  154074176    2338306\n",
              "2019-12-31 23:59:51  31507191066628  187123853    2338306\n",
              "2019-12-31 23:59:56  31507196146800   31844790   95161930\n",
              "\n",
              "[222750 rows x 3 columns]"
            ]
          },
          "metadata": {
            "tags": []
          },
          "execution_count": 6
        }
      ]
    },
    {
      "cell_type": "code",
      "metadata": {
        "id": "XthYdvpXOxw4",
        "colab_type": "code",
        "outputId": "279668a3-ab24-4521-9684-3627295a54f1",
        "colab": {
          "base_uri": "https://localhost:8080/",
          "height": 450
        }
      },
      "source": [
        "grouped_orders = df_time.groupby(['shopid', 'userid', pd.Grouper(freq='60min', label='left', base=0)]).sum()\n",
        "grouped_orders"
      ],
      "execution_count": 0,
      "outputs": [
        {
          "output_type": "execute_result",
          "data": {
            "text/html": [
              "<div>\n",
              "<style scoped>\n",
              "    .dataframe tbody tr th:only-of-type {\n",
              "        vertical-align: middle;\n",
              "    }\n",
              "\n",
              "    .dataframe tbody tr th {\n",
              "        vertical-align: top;\n",
              "    }\n",
              "\n",
              "    .dataframe thead th {\n",
              "        text-align: right;\n",
              "    }\n",
              "</style>\n",
              "<table border=\"1\" class=\"dataframe\">\n",
              "  <thead>\n",
              "    <tr style=\"text-align: right;\">\n",
              "      <th></th>\n",
              "      <th></th>\n",
              "      <th></th>\n",
              "      <th>orderid</th>\n",
              "    </tr>\n",
              "    <tr>\n",
              "      <th>shopid</th>\n",
              "      <th>userid</th>\n",
              "      <th>event_time</th>\n",
              "      <th></th>\n",
              "    </tr>\n",
              "  </thead>\n",
              "  <tbody>\n",
              "    <tr>\n",
              "      <th>10009</th>\n",
              "      <th>196962305</th>\n",
              "      <th>2019-12-27 03:00:00</th>\n",
              "      <td>31086409141107</td>\n",
              "    </tr>\n",
              "    <tr>\n",
              "      <th rowspan=\"2\" valign=\"top\">10051</th>\n",
              "      <th>2854032</th>\n",
              "      <th>2019-12-27 19:00:00</th>\n",
              "      <td>31144571933461</td>\n",
              "    </tr>\n",
              "    <tr>\n",
              "      <th>48600461</th>\n",
              "      <th>2019-12-29 01:00:00</th>\n",
              "      <td>31254979546679</td>\n",
              "    </tr>\n",
              "    <tr>\n",
              "      <th rowspan=\"2\" valign=\"top\">10061</th>\n",
              "      <th>62464559</th>\n",
              "      <th>2019-12-31 02:00:00</th>\n",
              "      <td>31431527100615</td>\n",
              "    </tr>\n",
              "    <tr>\n",
              "      <th>130633421</th>\n",
              "      <th>2019-12-30 21:00:00</th>\n",
              "      <td>31412115824794</td>\n",
              "    </tr>\n",
              "    <tr>\n",
              "      <th>...</th>\n",
              "      <th>...</th>\n",
              "      <th>...</th>\n",
              "      <td>...</td>\n",
              "    </tr>\n",
              "    <tr>\n",
              "      <th>214949521</th>\n",
              "      <th>46269178</th>\n",
              "      <th>2019-12-31 20:00:00</th>\n",
              "      <td>31493203163305</td>\n",
              "    </tr>\n",
              "    <tr>\n",
              "      <th>214964814</th>\n",
              "      <th>200983383</th>\n",
              "      <th>2019-12-29 22:00:00</th>\n",
              "      <td>31328775676314</td>\n",
              "    </tr>\n",
              "    <tr>\n",
              "      <th rowspan=\"2\" valign=\"top\">215175775</th>\n",
              "      <th>13688804</th>\n",
              "      <th>2019-12-31 09:00:00</th>\n",
              "      <td>31453591917585</td>\n",
              "    </tr>\n",
              "    <tr>\n",
              "      <th>129266028</th>\n",
              "      <th>2019-12-31 14:00:00</th>\n",
              "      <td>31472077221692</td>\n",
              "    </tr>\n",
              "    <tr>\n",
              "      <th>215435223</th>\n",
              "      <th>79515106</th>\n",
              "      <th>2019-12-31 18:00:00</th>\n",
              "      <td>31487696848532</td>\n",
              "    </tr>\n",
              "  </tbody>\n",
              "</table>\n",
              "<p>215877 rows × 1 columns</p>\n",
              "</div>"
            ],
            "text/plain": [
              "                                                orderid\n",
              "shopid    userid    event_time                         \n",
              "10009     196962305 2019-12-27 03:00:00  31086409141107\n",
              "10051     2854032   2019-12-27 19:00:00  31144571933461\n",
              "          48600461  2019-12-29 01:00:00  31254979546679\n",
              "10061     62464559  2019-12-31 02:00:00  31431527100615\n",
              "          130633421 2019-12-30 21:00:00  31412115824794\n",
              "...                                                 ...\n",
              "214949521 46269178  2019-12-31 20:00:00  31493203163305\n",
              "214964814 200983383 2019-12-29 22:00:00  31328775676314\n",
              "215175775 13688804  2019-12-31 09:00:00  31453591917585\n",
              "          129266028 2019-12-31 14:00:00  31472077221692\n",
              "215435223 79515106  2019-12-31 18:00:00  31487696848532\n",
              "\n",
              "[215877 rows x 1 columns]"
            ]
          },
          "metadata": {
            "tags": []
          },
          "execution_count": 8
        }
      ]
    },
    {
      "cell_type": "code",
      "metadata": {
        "id": "FdArXgSKlFDq",
        "colab_type": "code",
        "outputId": "3bdf50e2-e045-4c78-de65-5f28d940f292",
        "colab": {
          "base_uri": "https://localhost:8080/",
          "height": 419
        }
      },
      "source": [
        "data['Time'],data['Date']= date.apply(lambda x:x.time()), date.apply(lambda x:x.date())\n",
        "data"
      ],
      "execution_count": 0,
      "outputs": [
        {
          "output_type": "execute_result",
          "data": {
            "text/html": [
              "<div>\n",
              "<style scoped>\n",
              "    .dataframe tbody tr th:only-of-type {\n",
              "        vertical-align: middle;\n",
              "    }\n",
              "\n",
              "    .dataframe tbody tr th {\n",
              "        vertical-align: top;\n",
              "    }\n",
              "\n",
              "    .dataframe thead th {\n",
              "        text-align: right;\n",
              "    }\n",
              "</style>\n",
              "<table border=\"1\" class=\"dataframe\">\n",
              "  <thead>\n",
              "    <tr style=\"text-align: right;\">\n",
              "      <th></th>\n",
              "      <th>orderid</th>\n",
              "      <th>shopid</th>\n",
              "      <th>userid</th>\n",
              "      <th>event_time</th>\n",
              "      <th>Time</th>\n",
              "      <th>Date</th>\n",
              "    </tr>\n",
              "  </thead>\n",
              "  <tbody>\n",
              "    <tr>\n",
              "      <th>150060</th>\n",
              "      <td>31075200506751</td>\n",
              "      <td>6042309</td>\n",
              "      <td>97707522</td>\n",
              "      <td>2019-12-27 00:00:00</td>\n",
              "      <td>00:00:00</td>\n",
              "      <td>2019-12-27</td>\n",
              "    </tr>\n",
              "    <tr>\n",
              "      <th>81020</th>\n",
              "      <td>31075200506753</td>\n",
              "      <td>8715449</td>\n",
              "      <td>97707522</td>\n",
              "      <td>2019-12-27 00:00:00</td>\n",
              "      <td>00:00:00</td>\n",
              "      <td>2019-12-27</td>\n",
              "    </tr>\n",
              "    <tr>\n",
              "      <th>25985</th>\n",
              "      <td>31075200506752</td>\n",
              "      <td>104804492</td>\n",
              "      <td>97707522</td>\n",
              "      <td>2019-12-27 00:00:00</td>\n",
              "      <td>00:00:00</td>\n",
              "      <td>2019-12-27</td>\n",
              "    </tr>\n",
              "    <tr>\n",
              "      <th>146598</th>\n",
              "      <td>31075201870570</td>\n",
              "      <td>190969466</td>\n",
              "      <td>170182475</td>\n",
              "      <td>2019-12-27 00:00:02</td>\n",
              "      <td>00:00:02</td>\n",
              "      <td>2019-12-27</td>\n",
              "    </tr>\n",
              "    <tr>\n",
              "      <th>80355</th>\n",
              "      <td>31075205798264</td>\n",
              "      <td>2859407</td>\n",
              "      <td>12532131</td>\n",
              "      <td>2019-12-27 00:00:05</td>\n",
              "      <td>00:00:05</td>\n",
              "      <td>2019-12-27</td>\n",
              "    </tr>\n",
              "    <tr>\n",
              "      <th>...</th>\n",
              "      <td>...</td>\n",
              "      <td>...</td>\n",
              "      <td>...</td>\n",
              "      <td>...</td>\n",
              "      <td>...</td>\n",
              "      <td>...</td>\n",
              "    </tr>\n",
              "    <tr>\n",
              "      <th>114113</th>\n",
              "      <td>31507183252446</td>\n",
              "      <td>149254894</td>\n",
              "      <td>193333760</td>\n",
              "      <td>2019-12-31 23:59:43</td>\n",
              "      <td>23:59:43</td>\n",
              "      <td>2019-12-31</td>\n",
              "    </tr>\n",
              "    <tr>\n",
              "      <th>206585</th>\n",
              "      <td>31507187390691</td>\n",
              "      <td>147941492</td>\n",
              "      <td>40258063</td>\n",
              "      <td>2019-12-31 23:59:47</td>\n",
              "      <td>23:59:47</td>\n",
              "      <td>2019-12-31</td>\n",
              "    </tr>\n",
              "    <tr>\n",
              "      <th>160657</th>\n",
              "      <td>31507191066627</td>\n",
              "      <td>154074176</td>\n",
              "      <td>2338306</td>\n",
              "      <td>2019-12-31 23:59:51</td>\n",
              "      <td>23:59:51</td>\n",
              "      <td>2019-12-31</td>\n",
              "    </tr>\n",
              "    <tr>\n",
              "      <th>126212</th>\n",
              "      <td>31507191066628</td>\n",
              "      <td>187123853</td>\n",
              "      <td>2338306</td>\n",
              "      <td>2019-12-31 23:59:51</td>\n",
              "      <td>23:59:51</td>\n",
              "      <td>2019-12-31</td>\n",
              "    </tr>\n",
              "    <tr>\n",
              "      <th>179881</th>\n",
              "      <td>31507196146800</td>\n",
              "      <td>31844790</td>\n",
              "      <td>95161930</td>\n",
              "      <td>2019-12-31 23:59:56</td>\n",
              "      <td>23:59:56</td>\n",
              "      <td>2019-12-31</td>\n",
              "    </tr>\n",
              "  </tbody>\n",
              "</table>\n",
              "<p>222750 rows × 6 columns</p>\n",
              "</div>"
            ],
            "text/plain": [
              "               orderid     shopid  ...      Time        Date\n",
              "150060  31075200506751    6042309  ...  00:00:00  2019-12-27\n",
              "81020   31075200506753    8715449  ...  00:00:00  2019-12-27\n",
              "25985   31075200506752  104804492  ...  00:00:00  2019-12-27\n",
              "146598  31075201870570  190969466  ...  00:00:02  2019-12-27\n",
              "80355   31075205798264    2859407  ...  00:00:05  2019-12-27\n",
              "...                ...        ...  ...       ...         ...\n",
              "114113  31507183252446  149254894  ...  23:59:43  2019-12-31\n",
              "206585  31507187390691  147941492  ...  23:59:47  2019-12-31\n",
              "160657  31507191066627  154074176  ...  23:59:51  2019-12-31\n",
              "126212  31507191066628  187123853  ...  23:59:51  2019-12-31\n",
              "179881  31507196146800   31844790  ...  23:59:56  2019-12-31\n",
              "\n",
              "[222750 rows x 6 columns]"
            ]
          },
          "metadata": {
            "tags": []
          },
          "execution_count": 67
        }
      ]
    },
    {
      "cell_type": "code",
      "metadata": {
        "id": "9ee-GkHz1JMT",
        "colab_type": "code",
        "outputId": "1eefb0e8-71c6-46d7-c94a-1fb9f0a0eeac",
        "colab": {
          "base_uri": "https://localhost:8080/",
          "height": 221
        }
      },
      "source": [
        "time = data['Time']\n",
        "time"
      ],
      "execution_count": 0,
      "outputs": [
        {
          "output_type": "execute_result",
          "data": {
            "text/plain": [
              "150060    00:00:00\n",
              "81020     00:00:00\n",
              "25985     00:00:00\n",
              "146598    00:00:02\n",
              "80355     00:00:05\n",
              "            ...   \n",
              "114113    23:59:43\n",
              "206585    23:59:47\n",
              "160657    23:59:51\n",
              "126212    23:59:51\n",
              "179881    23:59:56\n",
              "Name: Time, Length: 222750, dtype: object"
            ]
          },
          "metadata": {
            "tags": []
          },
          "execution_count": 68
        }
      ]
    },
    {
      "cell_type": "code",
      "metadata": {
        "id": "s7JdgDp65544",
        "colab_type": "code",
        "colab": {}
      },
      "source": [
        "datetimeFormat = '%Y-%m-%d %H:%M:%S'"
      ],
      "execution_count": 0,
      "outputs": []
    },
    {
      "cell_type": "code",
      "metadata": {
        "id": "l9tTfqe251AL",
        "colab_type": "code",
        "outputId": "41b71757-7b03-4bcd-980f-f47f10c740b4",
        "colab": {
          "base_uri": "https://localhost:8080/",
          "height": 197
        }
      },
      "source": [
        "for i in data['event_time']:\n",
        "  diff = datetime.datetime.strptime(str(i), datetimeFormat)- datetime.datetime.strptime(str(i), datetimeFormat)\n",
        "  print(diff.seconds)"
      ],
      "execution_count": 0,
      "outputs": [
        {
          "output_type": "error",
          "ename": "TypeError",
          "evalue": "ignored",
          "traceback": [
            "\u001b[0;31m---------------------------------------------------------------------------\u001b[0m",
            "\u001b[0;31mTypeError\u001b[0m                                 Traceback (most recent call last)",
            "\u001b[0;32m<ipython-input-79-61162ddac11e>\u001b[0m in \u001b[0;36m<module>\u001b[0;34m()\u001b[0m\n\u001b[1;32m      1\u001b[0m \u001b[0;32mfor\u001b[0m \u001b[0mi\u001b[0m \u001b[0;32min\u001b[0m \u001b[0mdata\u001b[0m\u001b[0;34m[\u001b[0m\u001b[0;34m'event_time'\u001b[0m\u001b[0;34m]\u001b[0m\u001b[0;34m:\u001b[0m\u001b[0;34m\u001b[0m\u001b[0;34m\u001b[0m\u001b[0m\n\u001b[0;32m----> 2\u001b[0;31m   \u001b[0mdiff\u001b[0m \u001b[0;34m=\u001b[0m \u001b[0mdatetime\u001b[0m\u001b[0;34m.\u001b[0m\u001b[0mdatetime\u001b[0m\u001b[0;34m.\u001b[0m\u001b[0mstrptime\u001b[0m\u001b[0;34m(\u001b[0m\u001b[0mstr\u001b[0m\u001b[0;34m(\u001b[0m\u001b[0mi\u001b[0m\u001b[0;34m)\u001b[0m\u001b[0;34m,\u001b[0m \u001b[0mdatetimeFormat\u001b[0m\u001b[0;34m)\u001b[0m\u001b[0;34m-\u001b[0m \u001b[0mdatetime\u001b[0m\u001b[0;34m.\u001b[0m\u001b[0mdatetime\u001b[0m\u001b[0;34m.\u001b[0m\u001b[0mstrptime\u001b[0m\u001b[0;34m(\u001b[0m\u001b[0mstr\u001b[0m\u001b[0;34m(\u001b[0m\u001b[0mi\u001b[0m\u001b[0;34m-\u001b[0m\u001b[0;36m1\u001b[0m\u001b[0;34m)\u001b[0m\u001b[0;34m,\u001b[0m \u001b[0mdatetimeFormat\u001b[0m\u001b[0;34m)\u001b[0m\u001b[0;34m\u001b[0m\u001b[0;34m\u001b[0m\u001b[0m\n\u001b[0m\u001b[1;32m      3\u001b[0m   \u001b[0mprint\u001b[0m\u001b[0;34m(\u001b[0m\u001b[0mdiff\u001b[0m\u001b[0;34m.\u001b[0m\u001b[0mseconds\u001b[0m\u001b[0;34m)\u001b[0m\u001b[0;34m\u001b[0m\u001b[0;34m\u001b[0m\u001b[0m\n",
            "\u001b[0;31mTypeError\u001b[0m: unsupported operand type(s) for -: 'str' and 'int'"
          ]
        }
      ]
    },
    {
      "cell_type": "code",
      "metadata": {
        "id": "K1UWZcJBojDY",
        "colab_type": "code",
        "outputId": "8576a16e-82a4-414d-84f8-3d57997f80ab",
        "colab": {
          "base_uri": "https://localhost:8080/",
          "height": 163
        }
      },
      "source": [
        "def check_concentrate_rate():\n",
        "  concentrate_rate = #Number of Orders within 1 hour / Number of Unique Buyers within 1 hour\n",
        "  if concentrate_rate >= 3:\n",
        "    shop_list.append(shopid)\n",
        "  \n",
        "  return shop_list"
      ],
      "execution_count": 0,
      "outputs": [
        {
          "output_type": "error",
          "ename": "NameError",
          "evalue": "ignored",
          "traceback": [
            "\u001b[0;31m---------------------------------------------------------------------------\u001b[0m",
            "\u001b[0;31mNameError\u001b[0m                                 Traceback (most recent call last)",
            "\u001b[0;32m<ipython-input-4-d453f8cfe6a8>\u001b[0m in \u001b[0;36m<module>\u001b[0;34m()\u001b[0m\n\u001b[0;32m----> 1\u001b[0;31m \u001b[0mdata\u001b[0m\u001b[0;34m[\u001b[0m\u001b[0;34m'shopid_repeat'\u001b[0m\u001b[0;34m]\u001b[0m \u001b[0;34m=\u001b[0m \u001b[0mcomparison\u001b[0m\u001b[0;34m[\u001b[0m\u001b[0;34m'shopid'\u001b[0m\u001b[0;34m]\u001b[0m\u001b[0;34m\u001b[0m\u001b[0;34m\u001b[0m\u001b[0m\n\u001b[0m",
            "\u001b[0;31mNameError\u001b[0m: name 'comparison' is not defined"
          ]
        }
      ]
    },
    {
      "cell_type": "code",
      "metadata": {
        "id": "fFN4WtcU-V3I",
        "colab_type": "code",
        "outputId": "10fa216b-334e-4f51-ad08-4e6d39e4db5a",
        "colab": {
          "base_uri": "https://localhost:8080/",
          "height": 419
        }
      },
      "source": [
        "data"
      ],
      "execution_count": 0,
      "outputs": [
        {
          "output_type": "execute_result",
          "data": {
            "text/html": [
              "<div>\n",
              "<style scoped>\n",
              "    .dataframe tbody tr th:only-of-type {\n",
              "        vertical-align: middle;\n",
              "    }\n",
              "\n",
              "    .dataframe tbody tr th {\n",
              "        vertical-align: top;\n",
              "    }\n",
              "\n",
              "    .dataframe thead th {\n",
              "        text-align: right;\n",
              "    }\n",
              "</style>\n",
              "<table border=\"1\" class=\"dataframe\">\n",
              "  <thead>\n",
              "    <tr style=\"text-align: right;\">\n",
              "      <th></th>\n",
              "      <th>orderid</th>\n",
              "      <th>shopid</th>\n",
              "      <th>userid</th>\n",
              "      <th>event_time</th>\n",
              "      <th>Time</th>\n",
              "      <th>Date</th>\n",
              "    </tr>\n",
              "  </thead>\n",
              "  <tbody>\n",
              "    <tr>\n",
              "      <th>150060</th>\n",
              "      <td>31075200506751</td>\n",
              "      <td>6042309</td>\n",
              "      <td>97707522</td>\n",
              "      <td>2019-12-27 00:00:00</td>\n",
              "      <td>00:00:00</td>\n",
              "      <td>2019-12-27</td>\n",
              "    </tr>\n",
              "    <tr>\n",
              "      <th>81020</th>\n",
              "      <td>31075200506753</td>\n",
              "      <td>8715449</td>\n",
              "      <td>97707522</td>\n",
              "      <td>2019-12-27 00:00:00</td>\n",
              "      <td>00:00:00</td>\n",
              "      <td>2019-12-27</td>\n",
              "    </tr>\n",
              "    <tr>\n",
              "      <th>25985</th>\n",
              "      <td>31075200506752</td>\n",
              "      <td>104804492</td>\n",
              "      <td>97707522</td>\n",
              "      <td>2019-12-27 00:00:00</td>\n",
              "      <td>00:00:00</td>\n",
              "      <td>2019-12-27</td>\n",
              "    </tr>\n",
              "    <tr>\n",
              "      <th>146598</th>\n",
              "      <td>31075201870570</td>\n",
              "      <td>190969466</td>\n",
              "      <td>170182475</td>\n",
              "      <td>2019-12-27 00:00:02</td>\n",
              "      <td>00:00:02</td>\n",
              "      <td>2019-12-27</td>\n",
              "    </tr>\n",
              "    <tr>\n",
              "      <th>80355</th>\n",
              "      <td>31075205798264</td>\n",
              "      <td>2859407</td>\n",
              "      <td>12532131</td>\n",
              "      <td>2019-12-27 00:00:05</td>\n",
              "      <td>00:00:05</td>\n",
              "      <td>2019-12-27</td>\n",
              "    </tr>\n",
              "    <tr>\n",
              "      <th>...</th>\n",
              "      <td>...</td>\n",
              "      <td>...</td>\n",
              "      <td>...</td>\n",
              "      <td>...</td>\n",
              "      <td>...</td>\n",
              "      <td>...</td>\n",
              "    </tr>\n",
              "    <tr>\n",
              "      <th>114113</th>\n",
              "      <td>31507183252446</td>\n",
              "      <td>149254894</td>\n",
              "      <td>193333760</td>\n",
              "      <td>2019-12-31 23:59:43</td>\n",
              "      <td>23:59:43</td>\n",
              "      <td>2019-12-31</td>\n",
              "    </tr>\n",
              "    <tr>\n",
              "      <th>206585</th>\n",
              "      <td>31507187390691</td>\n",
              "      <td>147941492</td>\n",
              "      <td>40258063</td>\n",
              "      <td>2019-12-31 23:59:47</td>\n",
              "      <td>23:59:47</td>\n",
              "      <td>2019-12-31</td>\n",
              "    </tr>\n",
              "    <tr>\n",
              "      <th>160657</th>\n",
              "      <td>31507191066627</td>\n",
              "      <td>154074176</td>\n",
              "      <td>2338306</td>\n",
              "      <td>2019-12-31 23:59:51</td>\n",
              "      <td>23:59:51</td>\n",
              "      <td>2019-12-31</td>\n",
              "    </tr>\n",
              "    <tr>\n",
              "      <th>126212</th>\n",
              "      <td>31507191066628</td>\n",
              "      <td>187123853</td>\n",
              "      <td>2338306</td>\n",
              "      <td>2019-12-31 23:59:51</td>\n",
              "      <td>23:59:51</td>\n",
              "      <td>2019-12-31</td>\n",
              "    </tr>\n",
              "    <tr>\n",
              "      <th>179881</th>\n",
              "      <td>31507196146800</td>\n",
              "      <td>31844790</td>\n",
              "      <td>95161930</td>\n",
              "      <td>2019-12-31 23:59:56</td>\n",
              "      <td>23:59:56</td>\n",
              "      <td>2019-12-31</td>\n",
              "    </tr>\n",
              "  </tbody>\n",
              "</table>\n",
              "<p>222750 rows × 6 columns</p>\n",
              "</div>"
            ],
            "text/plain": [
              "               orderid     shopid  ...      Time        Date\n",
              "150060  31075200506751    6042309  ...  00:00:00  2019-12-27\n",
              "81020   31075200506753    8715449  ...  00:00:00  2019-12-27\n",
              "25985   31075200506752  104804492  ...  00:00:00  2019-12-27\n",
              "146598  31075201870570  190969466  ...  00:00:02  2019-12-27\n",
              "80355   31075205798264    2859407  ...  00:00:05  2019-12-27\n",
              "...                ...        ...  ...       ...         ...\n",
              "114113  31507183252446  149254894  ...  23:59:43  2019-12-31\n",
              "206585  31507187390691  147941492  ...  23:59:47  2019-12-31\n",
              "160657  31507191066627  154074176  ...  23:59:51  2019-12-31\n",
              "126212  31507191066628  187123853  ...  23:59:51  2019-12-31\n",
              "179881  31507196146800   31844790  ...  23:59:56  2019-12-31\n",
              "\n",
              "[222750 rows x 6 columns]"
            ]
          },
          "metadata": {
            "tags": []
          },
          "execution_count": 80
        }
      ]
    },
    {
      "cell_type": "code",
      "metadata": {
        "id": "1TF0iGBv-ZbJ",
        "colab_type": "code",
        "outputId": "fd784b44-2d63-49ee-9c43-e63c345359f9",
        "colab": {
          "base_uri": "https://localhost:8080/",
          "height": 221
        }
      },
      "source": [
        "save_data = data.shopid.unique\n",
        "save_data"
      ],
      "execution_count": 0,
      "outputs": [
        {
          "output_type": "execute_result",
          "data": {
            "text/plain": [
              "<bound method Series.unique of 150060      6042309\n",
              "81020       8715449\n",
              "25985     104804492\n",
              "146598    190969466\n",
              "80355       2859407\n",
              "            ...    \n",
              "114113    149254894\n",
              "206585    147941492\n",
              "160657    154074176\n",
              "126212    187123853\n",
              "179881     31844790\n",
              "Name: shopid, Length: 222750, dtype: int64>"
            ]
          },
          "metadata": {
            "tags": []
          },
          "execution_count": 106
        }
      ]
    },
    {
      "cell_type": "code",
      "metadata": {
        "id": "DD0dIYOh_0v9",
        "colab_type": "code",
        "colab": {}
      },
      "source": [
        "user = data.userid[:18770]"
      ],
      "execution_count": 0,
      "outputs": []
    },
    {
      "cell_type": "code",
      "metadata": {
        "id": "CKaNcQfq_br0",
        "colab_type": "code",
        "outputId": "0a3942cc-04ea-49f4-e684-a13e08f803dc",
        "colab": {
          "base_uri": "https://localhost:8080/",
          "height": 419
        }
      },
      "source": [
        "column_names = [\"shopid\", \"userid\"]\n",
        "\n",
        "df = pd.DataFrame(columns = column_names)\n",
        "df['shopid'] = save_data\n",
        "df['userid'] = user\n",
        "df"
      ],
      "execution_count": 0,
      "outputs": [
        {
          "output_type": "execute_result",
          "data": {
            "text/html": [
              "<div>\n",
              "<style scoped>\n",
              "    .dataframe tbody tr th:only-of-type {\n",
              "        vertical-align: middle;\n",
              "    }\n",
              "\n",
              "    .dataframe tbody tr th {\n",
              "        vertical-align: top;\n",
              "    }\n",
              "\n",
              "    .dataframe thead th {\n",
              "        text-align: right;\n",
              "    }\n",
              "</style>\n",
              "<table border=\"1\" class=\"dataframe\">\n",
              "  <thead>\n",
              "    <tr style=\"text-align: right;\">\n",
              "      <th></th>\n",
              "      <th>shopid</th>\n",
              "      <th>userid</th>\n",
              "    </tr>\n",
              "  </thead>\n",
              "  <tbody>\n",
              "    <tr>\n",
              "      <th>150060</th>\n",
              "      <td>6042309</td>\n",
              "      <td>97707522</td>\n",
              "    </tr>\n",
              "    <tr>\n",
              "      <th>81020</th>\n",
              "      <td>8715449</td>\n",
              "      <td>97707522</td>\n",
              "    </tr>\n",
              "    <tr>\n",
              "      <th>25985</th>\n",
              "      <td>104804492</td>\n",
              "      <td>97707522</td>\n",
              "    </tr>\n",
              "    <tr>\n",
              "      <th>146598</th>\n",
              "      <td>190969466</td>\n",
              "      <td>170182475</td>\n",
              "    </tr>\n",
              "    <tr>\n",
              "      <th>80355</th>\n",
              "      <td>2859407</td>\n",
              "      <td>12532131</td>\n",
              "    </tr>\n",
              "    <tr>\n",
              "      <th>...</th>\n",
              "      <td>...</td>\n",
              "      <td>...</td>\n",
              "    </tr>\n",
              "    <tr>\n",
              "      <th>175242</th>\n",
              "      <td>199316386</td>\n",
              "      <td>89533887</td>\n",
              "    </tr>\n",
              "    <tr>\n",
              "      <th>49566</th>\n",
              "      <td>84821602</td>\n",
              "      <td>115405128</td>\n",
              "    </tr>\n",
              "    <tr>\n",
              "      <th>64225</th>\n",
              "      <td>48685076</td>\n",
              "      <td>62353080</td>\n",
              "    </tr>\n",
              "    <tr>\n",
              "      <th>125215</th>\n",
              "      <td>110871170</td>\n",
              "      <td>2558553</td>\n",
              "    </tr>\n",
              "    <tr>\n",
              "      <th>211975</th>\n",
              "      <td>183158957</td>\n",
              "      <td>170092407</td>\n",
              "    </tr>\n",
              "  </tbody>\n",
              "</table>\n",
              "<p>18770 rows × 2 columns</p>\n",
              "</div>"
            ],
            "text/plain": [
              "           shopid     userid\n",
              "150060    6042309   97707522\n",
              "81020     8715449   97707522\n",
              "25985   104804492   97707522\n",
              "146598  190969466  170182475\n",
              "80355     2859407   12532131\n",
              "...           ...        ...\n",
              "175242  199316386   89533887\n",
              "49566    84821602  115405128\n",
              "64225    48685076   62353080\n",
              "125215  110871170    2558553\n",
              "211975  183158957  170092407\n",
              "\n",
              "[18770 rows x 2 columns]"
            ]
          },
          "metadata": {
            "tags": []
          },
          "execution_count": 100
        }
      ]
    },
    {
      "cell_type": "code",
      "metadata": {
        "id": "4vxLVQK-ojI6",
        "colab_type": "code",
        "colab": {}
      },
      "source": [
        "df.to_csv('CY_Team_submission4.csv') \n",
        "files.download('CY_Team_submission4.csv')"
      ],
      "execution_count": 0,
      "outputs": []
    },
    {
      "cell_type": "code",
      "metadata": {
        "id": "5DOa3eMVoi-4",
        "colab_type": "code",
        "colab": {}
      },
      "source": [
        ""
      ],
      "execution_count": 0,
      "outputs": []
    }
  ]
}