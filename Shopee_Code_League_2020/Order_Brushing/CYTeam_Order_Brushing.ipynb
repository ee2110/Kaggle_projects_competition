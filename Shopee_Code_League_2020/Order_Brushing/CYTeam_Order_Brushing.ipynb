{
  "nbformat": 4,
  "nbformat_minor": 0,
  "metadata": {
    "colab": {
      "name": "CYTeam_Order_Brushing.ipynb",
      "provenance": [],
      "collapsed_sections": []
    },
    "kernelspec": {
      "name": "python3",
      "display_name": "Python 3"
    },
    "accelerator": "GPU"
  },
  "cells": [
    {
      "cell_type": "markdown",
      "metadata": {
        "id": "XmBojbb-gDOW",
        "colab_type": "text"
      },
      "source": [
        "# **Shopee Code League - Order Brushing**\n",
        "\n",
        "This notebook is for Shopee Code League Competition, Order Brushing, to detecting abnormal user behaviour. The competition details can be obtained from [here](https://www.kaggle.com/c/order-brushing-shopee-code-league/overview)."
      ]
    },
    {
      "cell_type": "markdown",
      "metadata": {
        "id": "u9F5x6ESuN-O",
        "colab_type": "text"
      },
      "source": [
        "# **Import libraries and read dataset**"
      ]
    },
    {
      "cell_type": "code",
      "metadata": {
        "id": "cQzqt-irZKlJ",
        "colab_type": "code",
        "colab": {}
      },
      "source": [
        "import pandas as pd\n",
        "import numpy as np\n",
        "import matplotlib.pyplot as plt\n",
        "import math\n",
        "import time\n",
        "from datetime import datetime\n",
        "from datetime import timedelta\n",
        "from google.colab import files"
      ],
      "execution_count": 1,
      "outputs": []
    },
    {
      "cell_type": "code",
      "metadata": {
        "id": "_4jdOWfwud5X",
        "colab_type": "code",
        "colab": {
          "base_uri": "https://localhost:8080/",
          "height": 476
        },
        "outputId": "fd0fa5ac-39af-40aa-c128-92fbed904439"
      },
      "source": [
        "from tensorflow.python.client import device_lib\n",
        "check_device = device_lib.list_local_devices()\n",
        "check_device"
      ],
      "execution_count": 2,
      "outputs": [
        {
          "output_type": "execute_result",
          "data": {
            "text/plain": [
              "[name: \"/device:CPU:0\"\n",
              " device_type: \"CPU\"\n",
              " memory_limit: 268435456\n",
              " locality {\n",
              " }\n",
              " incarnation: 921571683999915116, name: \"/device:XLA_CPU:0\"\n",
              " device_type: \"XLA_CPU\"\n",
              " memory_limit: 17179869184\n",
              " locality {\n",
              " }\n",
              " incarnation: 3596168475916917880\n",
              " physical_device_desc: \"device: XLA_CPU device\", name: \"/device:XLA_GPU:0\"\n",
              " device_type: \"XLA_GPU\"\n",
              " memory_limit: 17179869184\n",
              " locality {\n",
              " }\n",
              " incarnation: 17786568438488224976\n",
              " physical_device_desc: \"device: XLA_GPU device\", name: \"/device:GPU:0\"\n",
              " device_type: \"GPU\"\n",
              " memory_limit: 11150726272\n",
              " locality {\n",
              "   bus_id: 1\n",
              "   links {\n",
              "   }\n",
              " }\n",
              " incarnation: 5537338114247512700\n",
              " physical_device_desc: \"device: 0, name: Tesla K80, pci bus id: 0000:00:04.0, compute capability: 3.7\"]"
            ]
          },
          "metadata": {
            "tags": []
          },
          "execution_count": 2
        }
      ]
    },
    {
      "cell_type": "code",
      "metadata": {
        "id": "wABwLoS5pNf7",
        "colab_type": "code",
        "colab": {
          "base_uri": "https://localhost:8080/",
          "height": 34
        },
        "outputId": "cc27d7e9-d1e3-48f9-91ab-8722a104947e"
      },
      "source": [
        "# order_brush_order.csv\n",
        "d = pd.read_csv('order_brush_order.csv', index_col=0).sort_values(by=['event_time','shopid','userid']).reset_index()\n",
        "len(d.shopid.unique())"
      ],
      "execution_count": 3,
      "outputs": [
        {
          "output_type": "execute_result",
          "data": {
            "text/plain": [
              "18770"
            ]
          },
          "metadata": {
            "tags": []
          },
          "execution_count": 3
        }
      ]
    },
    {
      "cell_type": "code",
      "metadata": {
        "id": "tgYbNj2hAMcb",
        "colab_type": "code",
        "colab": {
          "base_uri": "https://localhost:8080/",
          "height": 419
        },
        "outputId": "a5732b43-f56f-4bb6-ed70-75d2d7c887e0"
      },
      "source": [
        "d"
      ],
      "execution_count": 4,
      "outputs": [
        {
          "output_type": "execute_result",
          "data": {
            "text/html": [
              "<div>\n",
              "<style scoped>\n",
              "    .dataframe tbody tr th:only-of-type {\n",
              "        vertical-align: middle;\n",
              "    }\n",
              "\n",
              "    .dataframe tbody tr th {\n",
              "        vertical-align: top;\n",
              "    }\n",
              "\n",
              "    .dataframe thead th {\n",
              "        text-align: right;\n",
              "    }\n",
              "</style>\n",
              "<table border=\"1\" class=\"dataframe\">\n",
              "  <thead>\n",
              "    <tr style=\"text-align: right;\">\n",
              "      <th></th>\n",
              "      <th>orderid</th>\n",
              "      <th>shopid</th>\n",
              "      <th>userid</th>\n",
              "      <th>event_time</th>\n",
              "    </tr>\n",
              "  </thead>\n",
              "  <tbody>\n",
              "    <tr>\n",
              "      <th>0</th>\n",
              "      <td>31075200506751</td>\n",
              "      <td>6042309</td>\n",
              "      <td>97707522</td>\n",
              "      <td>2019-12-27 00:00:00</td>\n",
              "    </tr>\n",
              "    <tr>\n",
              "      <th>1</th>\n",
              "      <td>31075200506753</td>\n",
              "      <td>8715449</td>\n",
              "      <td>97707522</td>\n",
              "      <td>2019-12-27 00:00:00</td>\n",
              "    </tr>\n",
              "    <tr>\n",
              "      <th>2</th>\n",
              "      <td>31075200506752</td>\n",
              "      <td>104804492</td>\n",
              "      <td>97707522</td>\n",
              "      <td>2019-12-27 00:00:00</td>\n",
              "    </tr>\n",
              "    <tr>\n",
              "      <th>3</th>\n",
              "      <td>31075201870570</td>\n",
              "      <td>190969466</td>\n",
              "      <td>170182475</td>\n",
              "      <td>2019-12-27 00:00:02</td>\n",
              "    </tr>\n",
              "    <tr>\n",
              "      <th>4</th>\n",
              "      <td>31075205798264</td>\n",
              "      <td>2859407</td>\n",
              "      <td>12532131</td>\n",
              "      <td>2019-12-27 00:00:05</td>\n",
              "    </tr>\n",
              "    <tr>\n",
              "      <th>...</th>\n",
              "      <td>...</td>\n",
              "      <td>...</td>\n",
              "      <td>...</td>\n",
              "      <td>...</td>\n",
              "    </tr>\n",
              "    <tr>\n",
              "      <th>222745</th>\n",
              "      <td>31507183252446</td>\n",
              "      <td>149254894</td>\n",
              "      <td>193333760</td>\n",
              "      <td>2019-12-31 23:59:43</td>\n",
              "    </tr>\n",
              "    <tr>\n",
              "      <th>222746</th>\n",
              "      <td>31507187390691</td>\n",
              "      <td>147941492</td>\n",
              "      <td>40258063</td>\n",
              "      <td>2019-12-31 23:59:47</td>\n",
              "    </tr>\n",
              "    <tr>\n",
              "      <th>222747</th>\n",
              "      <td>31507191066627</td>\n",
              "      <td>154074176</td>\n",
              "      <td>2338306</td>\n",
              "      <td>2019-12-31 23:59:51</td>\n",
              "    </tr>\n",
              "    <tr>\n",
              "      <th>222748</th>\n",
              "      <td>31507191066628</td>\n",
              "      <td>187123853</td>\n",
              "      <td>2338306</td>\n",
              "      <td>2019-12-31 23:59:51</td>\n",
              "    </tr>\n",
              "    <tr>\n",
              "      <th>222749</th>\n",
              "      <td>31507196146800</td>\n",
              "      <td>31844790</td>\n",
              "      <td>95161930</td>\n",
              "      <td>2019-12-31 23:59:56</td>\n",
              "    </tr>\n",
              "  </tbody>\n",
              "</table>\n",
              "<p>222750 rows × 4 columns</p>\n",
              "</div>"
            ],
            "text/plain": [
              "               orderid     shopid     userid           event_time\n",
              "0       31075200506751    6042309   97707522  2019-12-27 00:00:00\n",
              "1       31075200506753    8715449   97707522  2019-12-27 00:00:00\n",
              "2       31075200506752  104804492   97707522  2019-12-27 00:00:00\n",
              "3       31075201870570  190969466  170182475  2019-12-27 00:00:02\n",
              "4       31075205798264    2859407   12532131  2019-12-27 00:00:05\n",
              "...                ...        ...        ...                  ...\n",
              "222745  31507183252446  149254894  193333760  2019-12-31 23:59:43\n",
              "222746  31507187390691  147941492   40258063  2019-12-31 23:59:47\n",
              "222747  31507191066627  154074176    2338306  2019-12-31 23:59:51\n",
              "222748  31507191066628  187123853    2338306  2019-12-31 23:59:51\n",
              "222749  31507196146800   31844790   95161930  2019-12-31 23:59:56\n",
              "\n",
              "[222750 rows x 4 columns]"
            ]
          },
          "metadata": {
            "tags": []
          },
          "execution_count": 4
        }
      ]
    },
    {
      "cell_type": "code",
      "metadata": {
        "id": "2vMTr4gYadht",
        "colab_type": "code",
        "colab": {
          "base_uri": "https://localhost:8080/",
          "height": 576
        },
        "outputId": "2a4ba8ba-97f6-4687-9112-bd0ebbce8798"
      },
      "source": [
        "# order_brush_order.csv\n",
        "data = pd.read_csv('test_brush.csv', index_col=0).sort_values(by=['event_time','shopid','userid']).reset_index()\n",
        "data"
      ],
      "execution_count": 5,
      "outputs": [
        {
          "output_type": "execute_result",
          "data": {
            "text/html": [
              "<div>\n",
              "<style scoped>\n",
              "    .dataframe tbody tr th:only-of-type {\n",
              "        vertical-align: middle;\n",
              "    }\n",
              "\n",
              "    .dataframe tbody tr th {\n",
              "        vertical-align: top;\n",
              "    }\n",
              "\n",
              "    .dataframe thead th {\n",
              "        text-align: right;\n",
              "    }\n",
              "</style>\n",
              "<table border=\"1\" class=\"dataframe\">\n",
              "  <thead>\n",
              "    <tr style=\"text-align: right;\">\n",
              "      <th></th>\n",
              "      <th>orderid</th>\n",
              "      <th>shopid</th>\n",
              "      <th>userid</th>\n",
              "      <th>event_time</th>\n",
              "    </tr>\n",
              "  </thead>\n",
              "  <tbody>\n",
              "    <tr>\n",
              "      <th>0</th>\n",
              "      <td>31388857391599</td>\n",
              "      <td>91242967</td>\n",
              "      <td>112494421</td>\n",
              "      <td>2019-12-30 15:07:37</td>\n",
              "    </tr>\n",
              "    <tr>\n",
              "      <th>1</th>\n",
              "      <td>31388858606904</td>\n",
              "      <td>85669731</td>\n",
              "      <td>112494421</td>\n",
              "      <td>2019-12-30 15:07:38</td>\n",
              "    </tr>\n",
              "    <tr>\n",
              "      <th>2</th>\n",
              "      <td>31388860144322</td>\n",
              "      <td>85669731</td>\n",
              "      <td>112494421</td>\n",
              "      <td>2019-12-30 15:07:41</td>\n",
              "    </tr>\n",
              "    <tr>\n",
              "      <th>3</th>\n",
              "      <td>31388862051153</td>\n",
              "      <td>85669731</td>\n",
              "      <td>112494421</td>\n",
              "      <td>2019-12-30 15:07:42</td>\n",
              "    </tr>\n",
              "    <tr>\n",
              "      <th>4</th>\n",
              "      <td>31388864143841</td>\n",
              "      <td>68986766</td>\n",
              "      <td>65129646</td>\n",
              "      <td>2019-12-30 15:07:45</td>\n",
              "    </tr>\n",
              "    <tr>\n",
              "      <th>5</th>\n",
              "      <td>31388864143842</td>\n",
              "      <td>68986766</td>\n",
              "      <td>86829555</td>\n",
              "      <td>2019-12-30 15:07:45</td>\n",
              "    </tr>\n",
              "    <tr>\n",
              "      <th>6</th>\n",
              "      <td>31388864143855</td>\n",
              "      <td>68986766</td>\n",
              "      <td>86829555</td>\n",
              "      <td>2019-12-30 15:07:45</td>\n",
              "    </tr>\n",
              "    <tr>\n",
              "      <th>7</th>\n",
              "      <td>31388864143886</td>\n",
              "      <td>68986766</td>\n",
              "      <td>86829555</td>\n",
              "      <td>2019-12-30 15:07:45</td>\n",
              "    </tr>\n",
              "    <tr>\n",
              "      <th>8</th>\n",
              "      <td>31388864143840</td>\n",
              "      <td>85669731</td>\n",
              "      <td>10209247</td>\n",
              "      <td>2019-12-30 15:07:45</td>\n",
              "    </tr>\n",
              "    <tr>\n",
              "      <th>9</th>\n",
              "      <td>31388864656540</td>\n",
              "      <td>85669731</td>\n",
              "      <td>112494421</td>\n",
              "      <td>2019-12-30 15:07:45</td>\n",
              "    </tr>\n",
              "    <tr>\n",
              "      <th>10</th>\n",
              "      <td>31388864143842</td>\n",
              "      <td>91242967</td>\n",
              "      <td>10209247</td>\n",
              "      <td>2019-12-30 15:07:45</td>\n",
              "    </tr>\n",
              "    <tr>\n",
              "      <th>11</th>\n",
              "      <td>31388864868540</td>\n",
              "      <td>85669731</td>\n",
              "      <td>112494421</td>\n",
              "      <td>2019-12-30 15:07:46</td>\n",
              "    </tr>\n",
              "    <tr>\n",
              "      <th>12</th>\n",
              "      <td>31388868340962</td>\n",
              "      <td>68986766</td>\n",
              "      <td>65129646</td>\n",
              "      <td>2019-12-30 15:07:48</td>\n",
              "    </tr>\n",
              "    <tr>\n",
              "      <th>13</th>\n",
              "      <td>31388869521738</td>\n",
              "      <td>68986766</td>\n",
              "      <td>65129646</td>\n",
              "      <td>2019-12-30 15:07:49</td>\n",
              "    </tr>\n",
              "    <tr>\n",
              "      <th>14</th>\n",
              "      <td>31388860551088</td>\n",
              "      <td>68986766</td>\n",
              "      <td>65129646</td>\n",
              "      <td>2019-12-30 15:07:52</td>\n",
              "    </tr>\n",
              "    <tr>\n",
              "      <th>15</th>\n",
              "      <td>31388867881658</td>\n",
              "      <td>68986766</td>\n",
              "      <td>86829555</td>\n",
              "      <td>2019-12-31 18:07:49</td>\n",
              "    </tr>\n",
              "    <tr>\n",
              "      <th>16</th>\n",
              "      <td>31388860669998</td>\n",
              "      <td>68986766</td>\n",
              "      <td>86829555</td>\n",
              "      <td>2019-12-31 18:50:49</td>\n",
              "    </tr>\n",
              "  </tbody>\n",
              "</table>\n",
              "</div>"
            ],
            "text/plain": [
              "           orderid    shopid     userid           event_time\n",
              "0   31388857391599  91242967  112494421  2019-12-30 15:07:37\n",
              "1   31388858606904  85669731  112494421  2019-12-30 15:07:38\n",
              "2   31388860144322  85669731  112494421  2019-12-30 15:07:41\n",
              "3   31388862051153  85669731  112494421  2019-12-30 15:07:42\n",
              "4   31388864143841  68986766   65129646  2019-12-30 15:07:45\n",
              "5   31388864143842  68986766   86829555  2019-12-30 15:07:45\n",
              "6   31388864143855  68986766   86829555  2019-12-30 15:07:45\n",
              "7   31388864143886  68986766   86829555  2019-12-30 15:07:45\n",
              "8   31388864143840  85669731   10209247  2019-12-30 15:07:45\n",
              "9   31388864656540  85669731  112494421  2019-12-30 15:07:45\n",
              "10  31388864143842  91242967   10209247  2019-12-30 15:07:45\n",
              "11  31388864868540  85669731  112494421  2019-12-30 15:07:46\n",
              "12  31388868340962  68986766   65129646  2019-12-30 15:07:48\n",
              "13  31388869521738  68986766   65129646  2019-12-30 15:07:49\n",
              "14  31388860551088  68986766   65129646  2019-12-30 15:07:52\n",
              "15  31388867881658  68986766   86829555  2019-12-31 18:07:49\n",
              "16  31388860669998  68986766   86829555  2019-12-31 18:50:49"
            ]
          },
          "metadata": {
            "tags": []
          },
          "execution_count": 5
        }
      ]
    },
    {
      "cell_type": "code",
      "metadata": {
        "id": "EsCT0V7MTrYi",
        "colab_type": "code",
        "colab": {}
      },
      "source": [
        "date = data['event_time']\n",
        "date_time = []\n",
        "for i in date:\n",
        "  date_time.append(datetime.strptime(i,\"%Y-%m-%d %H:%M:%S\"))"
      ],
      "execution_count": 6,
      "outputs": []
    },
    {
      "cell_type": "code",
      "metadata": {
        "id": "oz22fSwim3sQ",
        "colab_type": "code",
        "colab": {
          "base_uri": "https://localhost:8080/",
          "height": 576
        },
        "outputId": "879edea1-7ca5-4e5e-9475-9cf602fe68a2"
      },
      "source": [
        "data['date_time'] = date_time\n",
        "data"
      ],
      "execution_count": 7,
      "outputs": [
        {
          "output_type": "execute_result",
          "data": {
            "text/html": [
              "<div>\n",
              "<style scoped>\n",
              "    .dataframe tbody tr th:only-of-type {\n",
              "        vertical-align: middle;\n",
              "    }\n",
              "\n",
              "    .dataframe tbody tr th {\n",
              "        vertical-align: top;\n",
              "    }\n",
              "\n",
              "    .dataframe thead th {\n",
              "        text-align: right;\n",
              "    }\n",
              "</style>\n",
              "<table border=\"1\" class=\"dataframe\">\n",
              "  <thead>\n",
              "    <tr style=\"text-align: right;\">\n",
              "      <th></th>\n",
              "      <th>orderid</th>\n",
              "      <th>shopid</th>\n",
              "      <th>userid</th>\n",
              "      <th>event_time</th>\n",
              "      <th>date_time</th>\n",
              "    </tr>\n",
              "  </thead>\n",
              "  <tbody>\n",
              "    <tr>\n",
              "      <th>0</th>\n",
              "      <td>31388857391599</td>\n",
              "      <td>91242967</td>\n",
              "      <td>112494421</td>\n",
              "      <td>2019-12-30 15:07:37</td>\n",
              "      <td>2019-12-30 15:07:37</td>\n",
              "    </tr>\n",
              "    <tr>\n",
              "      <th>1</th>\n",
              "      <td>31388858606904</td>\n",
              "      <td>85669731</td>\n",
              "      <td>112494421</td>\n",
              "      <td>2019-12-30 15:07:38</td>\n",
              "      <td>2019-12-30 15:07:38</td>\n",
              "    </tr>\n",
              "    <tr>\n",
              "      <th>2</th>\n",
              "      <td>31388860144322</td>\n",
              "      <td>85669731</td>\n",
              "      <td>112494421</td>\n",
              "      <td>2019-12-30 15:07:41</td>\n",
              "      <td>2019-12-30 15:07:41</td>\n",
              "    </tr>\n",
              "    <tr>\n",
              "      <th>3</th>\n",
              "      <td>31388862051153</td>\n",
              "      <td>85669731</td>\n",
              "      <td>112494421</td>\n",
              "      <td>2019-12-30 15:07:42</td>\n",
              "      <td>2019-12-30 15:07:42</td>\n",
              "    </tr>\n",
              "    <tr>\n",
              "      <th>4</th>\n",
              "      <td>31388864143841</td>\n",
              "      <td>68986766</td>\n",
              "      <td>65129646</td>\n",
              "      <td>2019-12-30 15:07:45</td>\n",
              "      <td>2019-12-30 15:07:45</td>\n",
              "    </tr>\n",
              "    <tr>\n",
              "      <th>5</th>\n",
              "      <td>31388864143842</td>\n",
              "      <td>68986766</td>\n",
              "      <td>86829555</td>\n",
              "      <td>2019-12-30 15:07:45</td>\n",
              "      <td>2019-12-30 15:07:45</td>\n",
              "    </tr>\n",
              "    <tr>\n",
              "      <th>6</th>\n",
              "      <td>31388864143855</td>\n",
              "      <td>68986766</td>\n",
              "      <td>86829555</td>\n",
              "      <td>2019-12-30 15:07:45</td>\n",
              "      <td>2019-12-30 15:07:45</td>\n",
              "    </tr>\n",
              "    <tr>\n",
              "      <th>7</th>\n",
              "      <td>31388864143886</td>\n",
              "      <td>68986766</td>\n",
              "      <td>86829555</td>\n",
              "      <td>2019-12-30 15:07:45</td>\n",
              "      <td>2019-12-30 15:07:45</td>\n",
              "    </tr>\n",
              "    <tr>\n",
              "      <th>8</th>\n",
              "      <td>31388864143840</td>\n",
              "      <td>85669731</td>\n",
              "      <td>10209247</td>\n",
              "      <td>2019-12-30 15:07:45</td>\n",
              "      <td>2019-12-30 15:07:45</td>\n",
              "    </tr>\n",
              "    <tr>\n",
              "      <th>9</th>\n",
              "      <td>31388864656540</td>\n",
              "      <td>85669731</td>\n",
              "      <td>112494421</td>\n",
              "      <td>2019-12-30 15:07:45</td>\n",
              "      <td>2019-12-30 15:07:45</td>\n",
              "    </tr>\n",
              "    <tr>\n",
              "      <th>10</th>\n",
              "      <td>31388864143842</td>\n",
              "      <td>91242967</td>\n",
              "      <td>10209247</td>\n",
              "      <td>2019-12-30 15:07:45</td>\n",
              "      <td>2019-12-30 15:07:45</td>\n",
              "    </tr>\n",
              "    <tr>\n",
              "      <th>11</th>\n",
              "      <td>31388864868540</td>\n",
              "      <td>85669731</td>\n",
              "      <td>112494421</td>\n",
              "      <td>2019-12-30 15:07:46</td>\n",
              "      <td>2019-12-30 15:07:46</td>\n",
              "    </tr>\n",
              "    <tr>\n",
              "      <th>12</th>\n",
              "      <td>31388868340962</td>\n",
              "      <td>68986766</td>\n",
              "      <td>65129646</td>\n",
              "      <td>2019-12-30 15:07:48</td>\n",
              "      <td>2019-12-30 15:07:48</td>\n",
              "    </tr>\n",
              "    <tr>\n",
              "      <th>13</th>\n",
              "      <td>31388869521738</td>\n",
              "      <td>68986766</td>\n",
              "      <td>65129646</td>\n",
              "      <td>2019-12-30 15:07:49</td>\n",
              "      <td>2019-12-30 15:07:49</td>\n",
              "    </tr>\n",
              "    <tr>\n",
              "      <th>14</th>\n",
              "      <td>31388860551088</td>\n",
              "      <td>68986766</td>\n",
              "      <td>65129646</td>\n",
              "      <td>2019-12-30 15:07:52</td>\n",
              "      <td>2019-12-30 15:07:52</td>\n",
              "    </tr>\n",
              "    <tr>\n",
              "      <th>15</th>\n",
              "      <td>31388867881658</td>\n",
              "      <td>68986766</td>\n",
              "      <td>86829555</td>\n",
              "      <td>2019-12-31 18:07:49</td>\n",
              "      <td>2019-12-31 18:07:49</td>\n",
              "    </tr>\n",
              "    <tr>\n",
              "      <th>16</th>\n",
              "      <td>31388860669998</td>\n",
              "      <td>68986766</td>\n",
              "      <td>86829555</td>\n",
              "      <td>2019-12-31 18:50:49</td>\n",
              "      <td>2019-12-31 18:50:49</td>\n",
              "    </tr>\n",
              "  </tbody>\n",
              "</table>\n",
              "</div>"
            ],
            "text/plain": [
              "           orderid    shopid  ...           event_time           date_time\n",
              "0   31388857391599  91242967  ...  2019-12-30 15:07:37 2019-12-30 15:07:37\n",
              "1   31388858606904  85669731  ...  2019-12-30 15:07:38 2019-12-30 15:07:38\n",
              "2   31388860144322  85669731  ...  2019-12-30 15:07:41 2019-12-30 15:07:41\n",
              "3   31388862051153  85669731  ...  2019-12-30 15:07:42 2019-12-30 15:07:42\n",
              "4   31388864143841  68986766  ...  2019-12-30 15:07:45 2019-12-30 15:07:45\n",
              "5   31388864143842  68986766  ...  2019-12-30 15:07:45 2019-12-30 15:07:45\n",
              "6   31388864143855  68986766  ...  2019-12-30 15:07:45 2019-12-30 15:07:45\n",
              "7   31388864143886  68986766  ...  2019-12-30 15:07:45 2019-12-30 15:07:45\n",
              "8   31388864143840  85669731  ...  2019-12-30 15:07:45 2019-12-30 15:07:45\n",
              "9   31388864656540  85669731  ...  2019-12-30 15:07:45 2019-12-30 15:07:45\n",
              "10  31388864143842  91242967  ...  2019-12-30 15:07:45 2019-12-30 15:07:45\n",
              "11  31388864868540  85669731  ...  2019-12-30 15:07:46 2019-12-30 15:07:46\n",
              "12  31388868340962  68986766  ...  2019-12-30 15:07:48 2019-12-30 15:07:48\n",
              "13  31388869521738  68986766  ...  2019-12-30 15:07:49 2019-12-30 15:07:49\n",
              "14  31388860551088  68986766  ...  2019-12-30 15:07:52 2019-12-30 15:07:52\n",
              "15  31388867881658  68986766  ...  2019-12-31 18:07:49 2019-12-31 18:07:49\n",
              "16  31388860669998  68986766  ...  2019-12-31 18:50:49 2019-12-31 18:50:49\n",
              "\n",
              "[17 rows x 5 columns]"
            ]
          },
          "metadata": {
            "tags": []
          },
          "execution_count": 7
        }
      ]
    },
    {
      "cell_type": "code",
      "metadata": {
        "id": "zldWspqN2mYr",
        "colab_type": "code",
        "colab": {
          "base_uri": "https://localhost:8080/",
          "height": 221
        },
        "outputId": "e7ce4511-d547-42a4-c0ab-8e07997b5e1a"
      },
      "source": [
        "data.info()"
      ],
      "execution_count": 8,
      "outputs": [
        {
          "output_type": "stream",
          "text": [
            "<class 'pandas.core.frame.DataFrame'>\n",
            "RangeIndex: 17 entries, 0 to 16\n",
            "Data columns (total 5 columns):\n",
            " #   Column      Non-Null Count  Dtype         \n",
            "---  ------      --------------  -----         \n",
            " 0   orderid     17 non-null     int64         \n",
            " 1   shopid      17 non-null     int64         \n",
            " 2   userid      17 non-null     int64         \n",
            " 3   event_time  17 non-null     object        \n",
            " 4   date_time   17 non-null     datetime64[ns]\n",
            "dtypes: datetime64[ns](1), int64(3), object(1)\n",
            "memory usage: 808.0+ bytes\n"
          ],
          "name": "stdout"
        }
      ]
    },
    {
      "cell_type": "code",
      "metadata": {
        "id": "QpoSmiCBEr_2",
        "colab_type": "code",
        "colab": {
          "base_uri": "https://localhost:8080/",
          "height": 34
        },
        "outputId": "8c5862c4-d35f-4fa5-987d-8357bc0db301"
      },
      "source": [
        "b = data['date_time'].loc[12]\n",
        "a = data['date_time'].loc[1]\n",
        "delt = b-a\n",
        "delt.total_seconds()"
      ],
      "execution_count": 9,
      "outputs": [
        {
          "output_type": "execute_result",
          "data": {
            "text/plain": [
              "10.0"
            ]
          },
          "metadata": {
            "tags": []
          },
          "execution_count": 9
        }
      ]
    },
    {
      "cell_type": "code",
      "metadata": {
        "id": "Xo7OD12pC0bw",
        "colab_type": "code",
        "colab": {
          "base_uri": "https://localhost:8080/",
          "height": 173
        },
        "outputId": "f6b5c8b0-50f2-46c4-ea2b-be33bc018bd8"
      },
      "source": [
        "check = data.loc[0:10].groupby('shopid')\n",
        "check.first()"
      ],
      "execution_count": 10,
      "outputs": [
        {
          "output_type": "execute_result",
          "data": {
            "text/html": [
              "<div>\n",
              "<style scoped>\n",
              "    .dataframe tbody tr th:only-of-type {\n",
              "        vertical-align: middle;\n",
              "    }\n",
              "\n",
              "    .dataframe tbody tr th {\n",
              "        vertical-align: top;\n",
              "    }\n",
              "\n",
              "    .dataframe thead th {\n",
              "        text-align: right;\n",
              "    }\n",
              "</style>\n",
              "<table border=\"1\" class=\"dataframe\">\n",
              "  <thead>\n",
              "    <tr style=\"text-align: right;\">\n",
              "      <th></th>\n",
              "      <th>orderid</th>\n",
              "      <th>userid</th>\n",
              "      <th>event_time</th>\n",
              "      <th>date_time</th>\n",
              "    </tr>\n",
              "    <tr>\n",
              "      <th>shopid</th>\n",
              "      <th></th>\n",
              "      <th></th>\n",
              "      <th></th>\n",
              "      <th></th>\n",
              "    </tr>\n",
              "  </thead>\n",
              "  <tbody>\n",
              "    <tr>\n",
              "      <th>68986766</th>\n",
              "      <td>31388864143841</td>\n",
              "      <td>65129646</td>\n",
              "      <td>2019-12-30 15:07:45</td>\n",
              "      <td>2019-12-30 15:07:45</td>\n",
              "    </tr>\n",
              "    <tr>\n",
              "      <th>85669731</th>\n",
              "      <td>31388858606904</td>\n",
              "      <td>112494421</td>\n",
              "      <td>2019-12-30 15:07:38</td>\n",
              "      <td>2019-12-30 15:07:38</td>\n",
              "    </tr>\n",
              "    <tr>\n",
              "      <th>91242967</th>\n",
              "      <td>31388857391599</td>\n",
              "      <td>112494421</td>\n",
              "      <td>2019-12-30 15:07:37</td>\n",
              "      <td>2019-12-30 15:07:37</td>\n",
              "    </tr>\n",
              "  </tbody>\n",
              "</table>\n",
              "</div>"
            ],
            "text/plain": [
              "                 orderid     userid           event_time           date_time\n",
              "shopid                                                                      \n",
              "68986766  31388864143841   65129646  2019-12-30 15:07:45 2019-12-30 15:07:45\n",
              "85669731  31388858606904  112494421  2019-12-30 15:07:38 2019-12-30 15:07:38\n",
              "91242967  31388857391599  112494421  2019-12-30 15:07:37 2019-12-30 15:07:37"
            ]
          },
          "metadata": {
            "tags": []
          },
          "execution_count": 10
        }
      ]
    },
    {
      "cell_type": "code",
      "metadata": {
        "id": "bcSOO1p5fIM2",
        "colab_type": "code",
        "colab": {
          "base_uri": "https://localhost:8080/",
          "height": 34
        },
        "outputId": "14154d48-d991-41d9-8829-89b8496140ed"
      },
      "source": [
        "key = list(check.groups.keys())\n",
        "key"
      ],
      "execution_count": 11,
      "outputs": [
        {
          "output_type": "execute_result",
          "data": {
            "text/plain": [
              "[68986766, 85669731, 91242967]"
            ]
          },
          "metadata": {
            "tags": []
          },
          "execution_count": 11
        }
      ]
    },
    {
      "cell_type": "code",
      "metadata": {
        "id": "0CLV_btigRzL",
        "colab_type": "code",
        "colab": {
          "base_uri": "https://localhost:8080/",
          "height": 34
        },
        "outputId": "70965a08-b161-4518-baae-b78936685510"
      },
      "source": [
        "key[1]"
      ],
      "execution_count": 12,
      "outputs": [
        {
          "output_type": "execute_result",
          "data": {
            "text/plain": [
              "85669731"
            ]
          },
          "metadata": {
            "tags": []
          },
          "execution_count": 12
        }
      ]
    },
    {
      "cell_type": "code",
      "metadata": {
        "id": "RAXjms4iZA_s",
        "colab_type": "code",
        "colab": {
          "base_uri": "https://localhost:8080/",
          "height": 68
        },
        "outputId": "0fdb0b79-2a07-4aa0-d20d-f2f41010437e"
      },
      "source": [
        "for k in key:\n",
        "  print(k)"
      ],
      "execution_count": 13,
      "outputs": [
        {
          "output_type": "stream",
          "text": [
            "68986766\n",
            "85669731\n",
            "91242967\n"
          ],
          "name": "stdout"
        }
      ]
    },
    {
      "cell_type": "code",
      "metadata": {
        "id": "MLrpIe2uA_IU",
        "colab_type": "code",
        "colab": {
          "base_uri": "https://localhost:8080/",
          "height": 204
        },
        "outputId": "4755f014-8f09-49a2-ad52-b3664dd71e41"
      },
      "source": [
        "check_order = check.get_group(key[1])\n",
        "check_order"
      ],
      "execution_count": 14,
      "outputs": [
        {
          "output_type": "execute_result",
          "data": {
            "text/html": [
              "<div>\n",
              "<style scoped>\n",
              "    .dataframe tbody tr th:only-of-type {\n",
              "        vertical-align: middle;\n",
              "    }\n",
              "\n",
              "    .dataframe tbody tr th {\n",
              "        vertical-align: top;\n",
              "    }\n",
              "\n",
              "    .dataframe thead th {\n",
              "        text-align: right;\n",
              "    }\n",
              "</style>\n",
              "<table border=\"1\" class=\"dataframe\">\n",
              "  <thead>\n",
              "    <tr style=\"text-align: right;\">\n",
              "      <th></th>\n",
              "      <th>orderid</th>\n",
              "      <th>userid</th>\n",
              "      <th>event_time</th>\n",
              "      <th>date_time</th>\n",
              "    </tr>\n",
              "  </thead>\n",
              "  <tbody>\n",
              "    <tr>\n",
              "      <th>1</th>\n",
              "      <td>31388858606904</td>\n",
              "      <td>112494421</td>\n",
              "      <td>2019-12-30 15:07:38</td>\n",
              "      <td>2019-12-30 15:07:38</td>\n",
              "    </tr>\n",
              "    <tr>\n",
              "      <th>2</th>\n",
              "      <td>31388860144322</td>\n",
              "      <td>112494421</td>\n",
              "      <td>2019-12-30 15:07:41</td>\n",
              "      <td>2019-12-30 15:07:41</td>\n",
              "    </tr>\n",
              "    <tr>\n",
              "      <th>3</th>\n",
              "      <td>31388862051153</td>\n",
              "      <td>112494421</td>\n",
              "      <td>2019-12-30 15:07:42</td>\n",
              "      <td>2019-12-30 15:07:42</td>\n",
              "    </tr>\n",
              "    <tr>\n",
              "      <th>8</th>\n",
              "      <td>31388864143840</td>\n",
              "      <td>10209247</td>\n",
              "      <td>2019-12-30 15:07:45</td>\n",
              "      <td>2019-12-30 15:07:45</td>\n",
              "    </tr>\n",
              "    <tr>\n",
              "      <th>9</th>\n",
              "      <td>31388864656540</td>\n",
              "      <td>112494421</td>\n",
              "      <td>2019-12-30 15:07:45</td>\n",
              "      <td>2019-12-30 15:07:45</td>\n",
              "    </tr>\n",
              "  </tbody>\n",
              "</table>\n",
              "</div>"
            ],
            "text/plain": [
              "          orderid     userid           event_time           date_time\n",
              "1  31388858606904  112494421  2019-12-30 15:07:38 2019-12-30 15:07:38\n",
              "2  31388860144322  112494421  2019-12-30 15:07:41 2019-12-30 15:07:41\n",
              "3  31388862051153  112494421  2019-12-30 15:07:42 2019-12-30 15:07:42\n",
              "8  31388864143840   10209247  2019-12-30 15:07:45 2019-12-30 15:07:45\n",
              "9  31388864656540  112494421  2019-12-30 15:07:45 2019-12-30 15:07:45"
            ]
          },
          "metadata": {
            "tags": []
          },
          "execution_count": 14
        }
      ]
    },
    {
      "cell_type": "code",
      "metadata": {
        "id": "9xSVjcGaTj83",
        "colab_type": "code",
        "colab": {
          "base_uri": "https://localhost:8080/",
          "height": 34
        },
        "outputId": "41612239-fd7b-45b1-ce34-48944d9c0c35"
      },
      "source": [
        "check_order = check.get_group(key[1])\n",
        "order = len(check_order.orderid)\n",
        "buyers = len(check_order.userid.unique())\n",
        "concentrate_rate = order/buyers\n",
        "print(concentrate_rate)"
      ],
      "execution_count": 15,
      "outputs": [
        {
          "output_type": "stream",
          "text": [
            "2.5\n"
          ],
          "name": "stdout"
        }
      ]
    },
    {
      "cell_type": "code",
      "metadata": {
        "id": "3W1VSGX9rFOF",
        "colab_type": "code",
        "colab": {
          "base_uri": "https://localhost:8080/",
          "height": 34
        },
        "outputId": "07c7cd4b-4158-4a9d-8ae1-1dcdc221e5bd"
      },
      "source": [
        "charc = 'x'\n",
        "haha = 'abc'\n",
        "a_dict = {}\n",
        "if charc in a_dict:\n",
        "  a_dict[charc].append(haha)\n",
        "else:\n",
        "  a_dict[charc] = [haha]\n",
        "print(a_dict)"
      ],
      "execution_count": 16,
      "outputs": [
        {
          "output_type": "stream",
          "text": [
            "{'x': ['abc']}\n"
          ],
          "name": "stdout"
        }
      ]
    },
    {
      "cell_type": "code",
      "metadata": {
        "id": "4_CaQZC9Rhj1",
        "colab_type": "code",
        "colab": {}
      },
      "source": [
        "check = data.loc[1:13].groupby('shopid')"
      ],
      "execution_count": 17,
      "outputs": []
    },
    {
      "cell_type": "code",
      "metadata": {
        "id": "zYlACwqtUIRV",
        "colab_type": "code",
        "colab": {
          "base_uri": "https://localhost:8080/",
          "height": 34
        },
        "outputId": "5d236df0-24a9-4987-939f-5fe1f5fa69b4"
      },
      "source": [
        "key = list(check.groups.keys())\n",
        "key"
      ],
      "execution_count": 18,
      "outputs": [
        {
          "output_type": "execute_result",
          "data": {
            "text/plain": [
              "[68986766, 85669731, 91242967]"
            ]
          },
          "metadata": {
            "tags": []
          },
          "execution_count": 18
        }
      ]
    },
    {
      "cell_type": "code",
      "metadata": {
        "id": "Fx2hYh1BR1Hb",
        "colab_type": "code",
        "colab": {
          "base_uri": "https://localhost:8080/",
          "height": 235
        },
        "outputId": "f346c6b2-a896-44ec-a6b6-3940581384fe"
      },
      "source": [
        "check_order = check.get_group(68986766)\n",
        "check_order"
      ],
      "execution_count": 19,
      "outputs": [
        {
          "output_type": "execute_result",
          "data": {
            "text/html": [
              "<div>\n",
              "<style scoped>\n",
              "    .dataframe tbody tr th:only-of-type {\n",
              "        vertical-align: middle;\n",
              "    }\n",
              "\n",
              "    .dataframe tbody tr th {\n",
              "        vertical-align: top;\n",
              "    }\n",
              "\n",
              "    .dataframe thead th {\n",
              "        text-align: right;\n",
              "    }\n",
              "</style>\n",
              "<table border=\"1\" class=\"dataframe\">\n",
              "  <thead>\n",
              "    <tr style=\"text-align: right;\">\n",
              "      <th></th>\n",
              "      <th>orderid</th>\n",
              "      <th>shopid</th>\n",
              "      <th>userid</th>\n",
              "      <th>event_time</th>\n",
              "      <th>date_time</th>\n",
              "    </tr>\n",
              "  </thead>\n",
              "  <tbody>\n",
              "    <tr>\n",
              "      <th>4</th>\n",
              "      <td>31388864143841</td>\n",
              "      <td>68986766</td>\n",
              "      <td>65129646</td>\n",
              "      <td>2019-12-30 15:07:45</td>\n",
              "      <td>2019-12-30 15:07:45</td>\n",
              "    </tr>\n",
              "    <tr>\n",
              "      <th>5</th>\n",
              "      <td>31388864143842</td>\n",
              "      <td>68986766</td>\n",
              "      <td>86829555</td>\n",
              "      <td>2019-12-30 15:07:45</td>\n",
              "      <td>2019-12-30 15:07:45</td>\n",
              "    </tr>\n",
              "    <tr>\n",
              "      <th>6</th>\n",
              "      <td>31388864143855</td>\n",
              "      <td>68986766</td>\n",
              "      <td>86829555</td>\n",
              "      <td>2019-12-30 15:07:45</td>\n",
              "      <td>2019-12-30 15:07:45</td>\n",
              "    </tr>\n",
              "    <tr>\n",
              "      <th>7</th>\n",
              "      <td>31388864143886</td>\n",
              "      <td>68986766</td>\n",
              "      <td>86829555</td>\n",
              "      <td>2019-12-30 15:07:45</td>\n",
              "      <td>2019-12-30 15:07:45</td>\n",
              "    </tr>\n",
              "    <tr>\n",
              "      <th>12</th>\n",
              "      <td>31388868340962</td>\n",
              "      <td>68986766</td>\n",
              "      <td>65129646</td>\n",
              "      <td>2019-12-30 15:07:48</td>\n",
              "      <td>2019-12-30 15:07:48</td>\n",
              "    </tr>\n",
              "    <tr>\n",
              "      <th>13</th>\n",
              "      <td>31388869521738</td>\n",
              "      <td>68986766</td>\n",
              "      <td>65129646</td>\n",
              "      <td>2019-12-30 15:07:49</td>\n",
              "      <td>2019-12-30 15:07:49</td>\n",
              "    </tr>\n",
              "  </tbody>\n",
              "</table>\n",
              "</div>"
            ],
            "text/plain": [
              "           orderid    shopid    userid           event_time           date_time\n",
              "4   31388864143841  68986766  65129646  2019-12-30 15:07:45 2019-12-30 15:07:45\n",
              "5   31388864143842  68986766  86829555  2019-12-30 15:07:45 2019-12-30 15:07:45\n",
              "6   31388864143855  68986766  86829555  2019-12-30 15:07:45 2019-12-30 15:07:45\n",
              "7   31388864143886  68986766  86829555  2019-12-30 15:07:45 2019-12-30 15:07:45\n",
              "12  31388868340962  68986766  65129646  2019-12-30 15:07:48 2019-12-30 15:07:48\n",
              "13  31388869521738  68986766  65129646  2019-12-30 15:07:49 2019-12-30 15:07:49"
            ]
          },
          "metadata": {
            "tags": []
          },
          "execution_count": 19
        }
      ]
    },
    {
      "cell_type": "code",
      "metadata": {
        "id": "WNPs_JplVxvX",
        "colab_type": "code",
        "colab": {
          "base_uri": "https://localhost:8080/",
          "height": 34
        },
        "outputId": "ae9d9e3c-9556-4b3d-833e-9cd859290724"
      },
      "source": [
        "user_num = pd.DataFrame(check_order.groupby('userid')['userid'].count().reset_index(name='user_count'))\n",
        "check_user = user_num[user_num['user_count'] >= 3]\n",
        "suspect_user = list(check_user['userid'])\n",
        "suspect_user"
      ],
      "execution_count": 20,
      "outputs": [
        {
          "output_type": "execute_result",
          "data": {
            "text/plain": [
              "[65129646, 86829555]"
            ]
          },
          "metadata": {
            "tags": []
          },
          "execution_count": 20
        }
      ]
    },
    {
      "cell_type": "code",
      "metadata": {
        "id": "hoPSNPQLeiEH",
        "colab_type": "code",
        "colab": {}
      },
      "source": [
        "ans_dic= {}\n",
        "\n",
        "for i in data.index:\n",
        "  initial = data['date_time'].loc[i]\n",
        "  for j in range(i, data.last_valid_index()+1):\n",
        "    delta = data['date_time'].loc[j] - initial\n",
        "    if(delta.total_seconds()<3600):\n",
        "      check = data.loc[i:j].groupby('shopid')\n",
        "      key = list(check.groups.keys())\n",
        "      for k in key:\n",
        "        check_order = check.get_group(k)\n",
        "        user_num = pd.DataFrame(check_order.groupby('userid')['userid'].count().reset_index(name='user_count'))\n",
        "        check_user = user_num[user_num['user_count'] >= 3]\n",
        "        suspect_user = list(check_user['userid'])\n",
        "        order = len(check_order.orderid)\n",
        "        buyers = len(check_order.userid.unique())\n",
        "        concentrate_rate = order/buyers\n",
        "        if(concentrate_rate >= 3):\n",
        "          if k in ans_dic:\n",
        "            ans_dic[k].append(suspect_user)\n",
        "          else:\n",
        "            ans_dic[k] = [suspect_user]"
      ],
      "execution_count": 21,
      "outputs": []
    },
    {
      "cell_type": "code",
      "metadata": {
        "id": "DSnojZnthK5H",
        "colab_type": "code",
        "colab": {
          "base_uri": "https://localhost:8080/",
          "height": 680
        },
        "outputId": "9cece3c4-95bd-49b7-db54-ea6d705f234e"
      },
      "source": [
        "ans_dic"
      ],
      "execution_count": 22,
      "outputs": [
        {
          "output_type": "execute_result",
          "data": {
            "text/plain": [
              "{68986766: [[65129646, 86829555],\n",
              "  [65129646, 86829555],\n",
              "  [65129646, 86829555],\n",
              "  [65129646, 86829555],\n",
              "  [65129646, 86829555],\n",
              "  [65129646, 86829555],\n",
              "  [65129646, 86829555],\n",
              "  [65129646, 86829555],\n",
              "  [65129646, 86829555],\n",
              "  [65129646, 86829555],\n",
              "  [86829555],\n",
              "  [86829555],\n",
              "  [86829555],\n",
              "  [86829555],\n",
              "  [86829555],\n",
              "  [65129646, 86829555],\n",
              "  [65129646],\n",
              "  [65129646],\n",
              "  [65129646],\n",
              "  [65129646],\n",
              "  [65129646]],\n",
              " 85669731: [[112494421],\n",
              "  [112494421],\n",
              "  [112494421],\n",
              "  [112494421],\n",
              "  [112494421],\n",
              "  [112494421],\n",
              "  [112494421],\n",
              "  [112494421],\n",
              "  [112494421],\n",
              "  [112494421],\n",
              "  [112494421],\n",
              "  [112494421],\n",
              "  [112494421],\n",
              "  [112494421],\n",
              "  [112494421],\n",
              "  [112494421],\n",
              "  [112494421],\n",
              "  [112494421]]}"
            ]
          },
          "metadata": {
            "tags": []
          },
          "execution_count": 22
        }
      ]
    },
    {
      "cell_type": "code",
      "metadata": {
        "id": "FEh2DoNpLygx",
        "colab_type": "code",
        "colab": {}
      },
      "source": [
        "shop_list = []\n",
        "user_list = []\n",
        "\n",
        "for key, value in ans_dic.items():\n",
        "  shop_list.append(key)\n",
        "  user_list.append(value)"
      ],
      "execution_count": 23,
      "outputs": []
    },
    {
      "cell_type": "code",
      "metadata": {
        "id": "PKaJZrGdPWlN",
        "colab_type": "code",
        "colab": {
          "base_uri": "https://localhost:8080/",
          "height": 111
        },
        "outputId": "191882f4-e2c0-4ad0-96d6-9b619f77368e"
      },
      "source": [
        "column_names = [\"shopid\", \"user_list\"]\n",
        "df = pd.DataFrame(columns = column_names)\n",
        "df['shopid'] = shop_list\n",
        "df['user_list'] = user_list\n",
        "df"
      ],
      "execution_count": 24,
      "outputs": [
        {
          "output_type": "execute_result",
          "data": {
            "text/html": [
              "<div>\n",
              "<style scoped>\n",
              "    .dataframe tbody tr th:only-of-type {\n",
              "        vertical-align: middle;\n",
              "    }\n",
              "\n",
              "    .dataframe tbody tr th {\n",
              "        vertical-align: top;\n",
              "    }\n",
              "\n",
              "    .dataframe thead th {\n",
              "        text-align: right;\n",
              "    }\n",
              "</style>\n",
              "<table border=\"1\" class=\"dataframe\">\n",
              "  <thead>\n",
              "    <tr style=\"text-align: right;\">\n",
              "      <th></th>\n",
              "      <th>shopid</th>\n",
              "      <th>user_list</th>\n",
              "    </tr>\n",
              "  </thead>\n",
              "  <tbody>\n",
              "    <tr>\n",
              "      <th>0</th>\n",
              "      <td>85669731</td>\n",
              "      <td>[[112494421], [112494421], [112494421], [11249...</td>\n",
              "    </tr>\n",
              "    <tr>\n",
              "      <th>1</th>\n",
              "      <td>68986766</td>\n",
              "      <td>[[65129646, 86829555], [65129646, 86829555], [...</td>\n",
              "    </tr>\n",
              "  </tbody>\n",
              "</table>\n",
              "</div>"
            ],
            "text/plain": [
              "     shopid                                          user_list\n",
              "0  85669731  [[112494421], [112494421], [112494421], [11249...\n",
              "1  68986766  [[65129646, 86829555], [65129646, 86829555], [..."
            ]
          },
          "metadata": {
            "tags": []
          },
          "execution_count": 24
        }
      ]
    },
    {
      "cell_type": "code",
      "metadata": {
        "id": "vWlBqDZMqRp-",
        "colab_type": "code",
        "colab": {
          "base_uri": "https://localhost:8080/",
          "height": 697
        },
        "outputId": "2bee7a7e-5d32-4bbe-b722-272d4adac6e2"
      },
      "source": [
        "for n in range(0, df.last_valid_index()+1):\n",
        "  res = []\n",
        "  for i in df['user_list'].loc[n]:\n",
        "    for j in i:\n",
        "      if j not in res:\n",
        "        res.append(j)\n",
        "  df['userid'].loc[n] = res"
      ],
      "execution_count": 28,
      "outputs": [
        {
          "output_type": "error",
          "ename": "KeyError",
          "evalue": "ignored",
          "traceback": [
            "\u001b[0;31m---------------------------------------------------------------------------\u001b[0m",
            "\u001b[0;31mKeyError\u001b[0m                                  Traceback (most recent call last)",
            "\u001b[0;32m/usr/local/lib/python3.6/dist-packages/pandas/core/indexes/base.py\u001b[0m in \u001b[0;36mget_loc\u001b[0;34m(self, key, method, tolerance)\u001b[0m\n\u001b[1;32m   2645\u001b[0m             \u001b[0;32mtry\u001b[0m\u001b[0;34m:\u001b[0m\u001b[0;34m\u001b[0m\u001b[0;34m\u001b[0m\u001b[0m\n\u001b[0;32m-> 2646\u001b[0;31m                 \u001b[0;32mreturn\u001b[0m \u001b[0mself\u001b[0m\u001b[0;34m.\u001b[0m\u001b[0m_engine\u001b[0m\u001b[0;34m.\u001b[0m\u001b[0mget_loc\u001b[0m\u001b[0;34m(\u001b[0m\u001b[0mkey\u001b[0m\u001b[0;34m)\u001b[0m\u001b[0;34m\u001b[0m\u001b[0;34m\u001b[0m\u001b[0m\n\u001b[0m\u001b[1;32m   2647\u001b[0m             \u001b[0;32mexcept\u001b[0m \u001b[0mKeyError\u001b[0m\u001b[0;34m:\u001b[0m\u001b[0;34m\u001b[0m\u001b[0;34m\u001b[0m\u001b[0m\n",
            "\u001b[0;32mpandas/_libs/index.pyx\u001b[0m in \u001b[0;36mpandas._libs.index.IndexEngine.get_loc\u001b[0;34m()\u001b[0m\n",
            "\u001b[0;32mpandas/_libs/index.pyx\u001b[0m in \u001b[0;36mpandas._libs.index.IndexEngine.get_loc\u001b[0;34m()\u001b[0m\n",
            "\u001b[0;32mpandas/_libs/hashtable_class_helper.pxi\u001b[0m in \u001b[0;36mpandas._libs.hashtable.PyObjectHashTable.get_item\u001b[0;34m()\u001b[0m\n",
            "\u001b[0;32mpandas/_libs/hashtable_class_helper.pxi\u001b[0m in \u001b[0;36mpandas._libs.hashtable.PyObjectHashTable.get_item\u001b[0;34m()\u001b[0m\n",
            "\u001b[0;31mKeyError\u001b[0m: 'userid'",
            "\nDuring handling of the above exception, another exception occurred:\n",
            "\u001b[0;31mKeyError\u001b[0m                                  Traceback (most recent call last)",
            "\u001b[0;32m<ipython-input-28-068a9101524e>\u001b[0m in \u001b[0;36m<module>\u001b[0;34m()\u001b[0m\n\u001b[1;32m      5\u001b[0m       \u001b[0;32mif\u001b[0m \u001b[0mj\u001b[0m \u001b[0;32mnot\u001b[0m \u001b[0;32min\u001b[0m \u001b[0mres\u001b[0m\u001b[0;34m:\u001b[0m\u001b[0;34m\u001b[0m\u001b[0;34m\u001b[0m\u001b[0m\n\u001b[1;32m      6\u001b[0m         \u001b[0mres\u001b[0m\u001b[0;34m.\u001b[0m\u001b[0mappend\u001b[0m\u001b[0;34m(\u001b[0m\u001b[0mj\u001b[0m\u001b[0;34m)\u001b[0m\u001b[0;34m\u001b[0m\u001b[0;34m\u001b[0m\u001b[0m\n\u001b[0;32m----> 7\u001b[0;31m   \u001b[0mdf\u001b[0m\u001b[0;34m[\u001b[0m\u001b[0;34m'userid'\u001b[0m\u001b[0;34m]\u001b[0m\u001b[0;34m.\u001b[0m\u001b[0mloc\u001b[0m\u001b[0;34m[\u001b[0m\u001b[0mn\u001b[0m\u001b[0;34m]\u001b[0m \u001b[0;34m=\u001b[0m \u001b[0mres\u001b[0m\u001b[0;34m\u001b[0m\u001b[0;34m\u001b[0m\u001b[0m\n\u001b[0m",
            "\u001b[0;32m/usr/local/lib/python3.6/dist-packages/pandas/core/frame.py\u001b[0m in \u001b[0;36m__getitem__\u001b[0;34m(self, key)\u001b[0m\n\u001b[1;32m   2798\u001b[0m             \u001b[0;32mif\u001b[0m \u001b[0mself\u001b[0m\u001b[0;34m.\u001b[0m\u001b[0mcolumns\u001b[0m\u001b[0;34m.\u001b[0m\u001b[0mnlevels\u001b[0m \u001b[0;34m>\u001b[0m \u001b[0;36m1\u001b[0m\u001b[0;34m:\u001b[0m\u001b[0;34m\u001b[0m\u001b[0;34m\u001b[0m\u001b[0m\n\u001b[1;32m   2799\u001b[0m                 \u001b[0;32mreturn\u001b[0m \u001b[0mself\u001b[0m\u001b[0;34m.\u001b[0m\u001b[0m_getitem_multilevel\u001b[0m\u001b[0;34m(\u001b[0m\u001b[0mkey\u001b[0m\u001b[0;34m)\u001b[0m\u001b[0;34m\u001b[0m\u001b[0;34m\u001b[0m\u001b[0m\n\u001b[0;32m-> 2800\u001b[0;31m             \u001b[0mindexer\u001b[0m \u001b[0;34m=\u001b[0m \u001b[0mself\u001b[0m\u001b[0;34m.\u001b[0m\u001b[0mcolumns\u001b[0m\u001b[0;34m.\u001b[0m\u001b[0mget_loc\u001b[0m\u001b[0;34m(\u001b[0m\u001b[0mkey\u001b[0m\u001b[0;34m)\u001b[0m\u001b[0;34m\u001b[0m\u001b[0;34m\u001b[0m\u001b[0m\n\u001b[0m\u001b[1;32m   2801\u001b[0m             \u001b[0;32mif\u001b[0m \u001b[0mis_integer\u001b[0m\u001b[0;34m(\u001b[0m\u001b[0mindexer\u001b[0m\u001b[0;34m)\u001b[0m\u001b[0;34m:\u001b[0m\u001b[0;34m\u001b[0m\u001b[0;34m\u001b[0m\u001b[0m\n\u001b[1;32m   2802\u001b[0m                 \u001b[0mindexer\u001b[0m \u001b[0;34m=\u001b[0m \u001b[0;34m[\u001b[0m\u001b[0mindexer\u001b[0m\u001b[0;34m]\u001b[0m\u001b[0;34m\u001b[0m\u001b[0;34m\u001b[0m\u001b[0m\n",
            "\u001b[0;32m/usr/local/lib/python3.6/dist-packages/pandas/core/indexes/base.py\u001b[0m in \u001b[0;36mget_loc\u001b[0;34m(self, key, method, tolerance)\u001b[0m\n\u001b[1;32m   2646\u001b[0m                 \u001b[0;32mreturn\u001b[0m \u001b[0mself\u001b[0m\u001b[0;34m.\u001b[0m\u001b[0m_engine\u001b[0m\u001b[0;34m.\u001b[0m\u001b[0mget_loc\u001b[0m\u001b[0;34m(\u001b[0m\u001b[0mkey\u001b[0m\u001b[0;34m)\u001b[0m\u001b[0;34m\u001b[0m\u001b[0;34m\u001b[0m\u001b[0m\n\u001b[1;32m   2647\u001b[0m             \u001b[0;32mexcept\u001b[0m \u001b[0mKeyError\u001b[0m\u001b[0;34m:\u001b[0m\u001b[0;34m\u001b[0m\u001b[0;34m\u001b[0m\u001b[0m\n\u001b[0;32m-> 2648\u001b[0;31m                 \u001b[0;32mreturn\u001b[0m \u001b[0mself\u001b[0m\u001b[0;34m.\u001b[0m\u001b[0m_engine\u001b[0m\u001b[0;34m.\u001b[0m\u001b[0mget_loc\u001b[0m\u001b[0;34m(\u001b[0m\u001b[0mself\u001b[0m\u001b[0;34m.\u001b[0m\u001b[0m_maybe_cast_indexer\u001b[0m\u001b[0;34m(\u001b[0m\u001b[0mkey\u001b[0m\u001b[0;34m)\u001b[0m\u001b[0;34m)\u001b[0m\u001b[0;34m\u001b[0m\u001b[0;34m\u001b[0m\u001b[0m\n\u001b[0m\u001b[1;32m   2649\u001b[0m         \u001b[0mindexer\u001b[0m \u001b[0;34m=\u001b[0m \u001b[0mself\u001b[0m\u001b[0;34m.\u001b[0m\u001b[0mget_indexer\u001b[0m\u001b[0;34m(\u001b[0m\u001b[0;34m[\u001b[0m\u001b[0mkey\u001b[0m\u001b[0;34m]\u001b[0m\u001b[0;34m,\u001b[0m \u001b[0mmethod\u001b[0m\u001b[0;34m=\u001b[0m\u001b[0mmethod\u001b[0m\u001b[0;34m,\u001b[0m \u001b[0mtolerance\u001b[0m\u001b[0;34m=\u001b[0m\u001b[0mtolerance\u001b[0m\u001b[0;34m)\u001b[0m\u001b[0;34m\u001b[0m\u001b[0;34m\u001b[0m\u001b[0m\n\u001b[1;32m   2650\u001b[0m         \u001b[0;32mif\u001b[0m \u001b[0mindexer\u001b[0m\u001b[0;34m.\u001b[0m\u001b[0mndim\u001b[0m \u001b[0;34m>\u001b[0m \u001b[0;36m1\u001b[0m \u001b[0;32mor\u001b[0m \u001b[0mindexer\u001b[0m\u001b[0;34m.\u001b[0m\u001b[0msize\u001b[0m \u001b[0;34m>\u001b[0m \u001b[0;36m1\u001b[0m\u001b[0;34m:\u001b[0m\u001b[0;34m\u001b[0m\u001b[0;34m\u001b[0m\u001b[0m\n",
            "\u001b[0;32mpandas/_libs/index.pyx\u001b[0m in \u001b[0;36mpandas._libs.index.IndexEngine.get_loc\u001b[0;34m()\u001b[0m\n",
            "\u001b[0;32mpandas/_libs/index.pyx\u001b[0m in \u001b[0;36mpandas._libs.index.IndexEngine.get_loc\u001b[0;34m()\u001b[0m\n",
            "\u001b[0;32mpandas/_libs/hashtable_class_helper.pxi\u001b[0m in \u001b[0;36mpandas._libs.hashtable.PyObjectHashTable.get_item\u001b[0;34m()\u001b[0m\n",
            "\u001b[0;32mpandas/_libs/hashtable_class_helper.pxi\u001b[0m in \u001b[0;36mpandas._libs.hashtable.PyObjectHashTable.get_item\u001b[0;34m()\u001b[0m\n",
            "\u001b[0;31mKeyError\u001b[0m: 'userid'"
          ]
        }
      ]
    },
    {
      "cell_type": "code",
      "metadata": {
        "id": "wSjYoRrDsHpv",
        "colab_type": "code",
        "colab": {
          "base_uri": "https://localhost:8080/",
          "height": 111
        },
        "outputId": "a64f8168-12c7-4fb5-d8e8-b1a970c58303"
      },
      "source": [
        "ans_table = df.drop(['user_list'], axis=1)\n",
        "ans_table"
      ],
      "execution_count": 70,
      "outputs": [
        {
          "output_type": "execute_result",
          "data": {
            "text/html": [
              "<div>\n",
              "<style scoped>\n",
              "    .dataframe tbody tr th:only-of-type {\n",
              "        vertical-align: middle;\n",
              "    }\n",
              "\n",
              "    .dataframe tbody tr th {\n",
              "        vertical-align: top;\n",
              "    }\n",
              "\n",
              "    .dataframe thead th {\n",
              "        text-align: right;\n",
              "    }\n",
              "</style>\n",
              "<table border=\"1\" class=\"dataframe\">\n",
              "  <thead>\n",
              "    <tr style=\"text-align: right;\">\n",
              "      <th></th>\n",
              "      <th>shopid</th>\n",
              "      <th>userid</th>\n",
              "    </tr>\n",
              "  </thead>\n",
              "  <tbody>\n",
              "    <tr>\n",
              "      <th>0</th>\n",
              "      <td>85669731</td>\n",
              "      <td>[112494421]</td>\n",
              "    </tr>\n",
              "    <tr>\n",
              "      <th>1</th>\n",
              "      <td>68986766</td>\n",
              "      <td>[65129646, 86829555]</td>\n",
              "    </tr>\n",
              "  </tbody>\n",
              "</table>\n",
              "</div>"
            ],
            "text/plain": [
              "     shopid                userid\n",
              "0  85669731           [112494421]\n",
              "1  68986766  [65129646, 86829555]"
            ]
          },
          "metadata": {
            "tags": []
          },
          "execution_count": 70
        }
      ]
    },
    {
      "cell_type": "code",
      "metadata": {
        "id": "6UoLa9UGuxCT",
        "colab_type": "code",
        "colab": {
          "base_uri": "https://localhost:8080/",
          "height": 111
        },
        "outputId": "d9b10f2a-f43a-49fe-da27-a1da97cd980e"
      },
      "source": [
        "ans_table['unique_id'] = ['&'.join(map(str, l)) for l in ans_table['userid']]\n",
        "final = ans_table.drop([''])"
      ],
      "execution_count": 72,
      "outputs": [
        {
          "output_type": "execute_result",
          "data": {
            "text/html": [
              "<div>\n",
              "<style scoped>\n",
              "    .dataframe tbody tr th:only-of-type {\n",
              "        vertical-align: middle;\n",
              "    }\n",
              "\n",
              "    .dataframe tbody tr th {\n",
              "        vertical-align: top;\n",
              "    }\n",
              "\n",
              "    .dataframe thead th {\n",
              "        text-align: right;\n",
              "    }\n",
              "</style>\n",
              "<table border=\"1\" class=\"dataframe\">\n",
              "  <thead>\n",
              "    <tr style=\"text-align: right;\">\n",
              "      <th></th>\n",
              "      <th>shopid</th>\n",
              "      <th>userid</th>\n",
              "      <th>unique_id</th>\n",
              "    </tr>\n",
              "  </thead>\n",
              "  <tbody>\n",
              "    <tr>\n",
              "      <th>0</th>\n",
              "      <td>85669731</td>\n",
              "      <td>[112494421]</td>\n",
              "      <td>112494421</td>\n",
              "    </tr>\n",
              "    <tr>\n",
              "      <th>1</th>\n",
              "      <td>68986766</td>\n",
              "      <td>[65129646, 86829555]</td>\n",
              "      <td>65129646&amp;86829555</td>\n",
              "    </tr>\n",
              "  </tbody>\n",
              "</table>\n",
              "</div>"
            ],
            "text/plain": [
              "     shopid                userid          unique_id\n",
              "0  85669731           [112494421]          112494421\n",
              "1  68986766  [65129646, 86829555]  65129646&86829555"
            ]
          },
          "metadata": {
            "tags": []
          },
          "execution_count": 72
        }
      ]
    },
    {
      "cell_type": "code",
      "metadata": {
        "id": "70gr8OlkwvSV",
        "colab_type": "code",
        "colab": {
          "base_uri": "https://localhost:8080/",
          "height": 111
        },
        "outputId": "3b1381a8-9a46-4403-fd18-33952987ab1c"
      },
      "source": [
        "removed_userlist"
      ],
      "execution_count": 68,
      "outputs": [
        {
          "output_type": "execute_result",
          "data": {
            "text/html": [
              "<div>\n",
              "<style scoped>\n",
              "    .dataframe tbody tr th:only-of-type {\n",
              "        vertical-align: middle;\n",
              "    }\n",
              "\n",
              "    .dataframe tbody tr th {\n",
              "        vertical-align: top;\n",
              "    }\n",
              "\n",
              "    .dataframe thead th {\n",
              "        text-align: right;\n",
              "    }\n",
              "</style>\n",
              "<table border=\"1\" class=\"dataframe\">\n",
              "  <thead>\n",
              "    <tr style=\"text-align: right;\">\n",
              "      <th></th>\n",
              "      <th>shopid</th>\n",
              "      <th>userid</th>\n",
              "      <th>unique_id</th>\n",
              "    </tr>\n",
              "  </thead>\n",
              "  <tbody>\n",
              "    <tr>\n",
              "      <th>0</th>\n",
              "      <td>85669731</td>\n",
              "      <td>[112494421]</td>\n",
              "      <td>112494421</td>\n",
              "    </tr>\n",
              "    <tr>\n",
              "      <th>1</th>\n",
              "      <td>68986766</td>\n",
              "      <td>[65129646, 86829555]</td>\n",
              "      <td>65129646&amp;86829555</td>\n",
              "    </tr>\n",
              "  </tbody>\n",
              "</table>\n",
              "</div>"
            ],
            "text/plain": [
              "     shopid                userid          unique_id\n",
              "0  85669731           [112494421]          112494421\n",
              "1  68986766  [65129646, 86829555]  65129646&86829555"
            ]
          },
          "metadata": {
            "tags": []
          },
          "execution_count": 68
        }
      ]
    },
    {
      "cell_type": "code",
      "metadata": {
        "id": "4vxLVQK-ojI6",
        "colab_type": "code",
        "colab": {}
      },
      "source": [
        "df.to_csv('CY_Team_submission4.csv') \n",
        "files.download('CY_Team_submission4.csv')"
      ],
      "execution_count": null,
      "outputs": []
    },
    {
      "cell_type": "code",
      "metadata": {
        "id": "9UmKRpTiLPTp",
        "colab_type": "code",
        "colab": {}
      },
      "source": [
        ""
      ],
      "execution_count": null,
      "outputs": []
    }
  ]
}