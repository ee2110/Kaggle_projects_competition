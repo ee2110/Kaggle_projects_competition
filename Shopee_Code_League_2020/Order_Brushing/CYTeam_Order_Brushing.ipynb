{
  "nbformat": 4,
  "nbformat_minor": 0,
  "metadata": {
    "colab": {
      "name": "CYTeam_Order_Brushing.ipynb",
      "provenance": [],
      "collapsed_sections": []
    },
    "kernelspec": {
      "name": "python3",
      "display_name": "Python 3"
    },
    "accelerator": "GPU"
  },
  "cells": [
    {
      "cell_type": "markdown",
      "metadata": {
        "id": "XmBojbb-gDOW",
        "colab_type": "text"
      },
      "source": [
        "# **Shopee Code League - Order Brushing**\n",
        "\n",
        "This notebook is for Shopee Code League Competition, Order Brushing, to detecting abnormal user behaviour. The competition details can be obtained from [here](https://www.kaggle.com/c/order-brushing-shopee-code-league/overview).\n",
        "\n",
        "Team name: CY Team (Malaysia)\n",
        "\n",
        "Team member:\n",
        "1. Chong Li Chuin\n",
        "2. Ee Yeo Keat"
      ]
    },
    {
      "cell_type": "markdown",
      "metadata": {
        "id": "u9F5x6ESuN-O",
        "colab_type": "text"
      },
      "source": [
        "# **Import libraries and read dataset**"
      ]
    },
    {
      "cell_type": "code",
      "metadata": {
        "id": "cQzqt-irZKlJ",
        "colab_type": "code",
        "colab": {}
      },
      "source": [
        "import pandas as pd\n",
        "import numpy as np\n",
        "import matplotlib.pyplot as plt\n",
        "import math\n",
        "import time\n",
        "from datetime import datetime\n",
        "from datetime import timedelta\n",
        "from google.colab import files"
      ],
      "execution_count": 1,
      "outputs": []
    },
    {
      "cell_type": "code",
      "metadata": {
        "id": "_4jdOWfwud5X",
        "colab_type": "code",
        "colab": {
          "base_uri": "https://localhost:8080/",
          "height": 476
        },
        "outputId": "30c5104f-d43c-48a4-b824-54fa3a3f425f"
      },
      "source": [
        "from tensorflow.python.client import device_lib\n",
        "check_device = device_lib.list_local_devices()\n",
        "check_device"
      ],
      "execution_count": 2,
      "outputs": [
        {
          "output_type": "execute_result",
          "data": {
            "text/plain": [
              "[name: \"/device:CPU:0\"\n",
              " device_type: \"CPU\"\n",
              " memory_limit: 268435456\n",
              " locality {\n",
              " }\n",
              " incarnation: 3915240370635349002, name: \"/device:XLA_CPU:0\"\n",
              " device_type: \"XLA_CPU\"\n",
              " memory_limit: 17179869184\n",
              " locality {\n",
              " }\n",
              " incarnation: 5559909556502834421\n",
              " physical_device_desc: \"device: XLA_CPU device\", name: \"/device:XLA_GPU:0\"\n",
              " device_type: \"XLA_GPU\"\n",
              " memory_limit: 17179869184\n",
              " locality {\n",
              " }\n",
              " incarnation: 8692903394793055871\n",
              " physical_device_desc: \"device: XLA_GPU device\", name: \"/device:GPU:0\"\n",
              " device_type: \"GPU\"\n",
              " memory_limit: 15701401920\n",
              " locality {\n",
              "   bus_id: 1\n",
              "   links {\n",
              "   }\n",
              " }\n",
              " incarnation: 1578337973528707150\n",
              " physical_device_desc: \"device: 0, name: Tesla P100-PCIE-16GB, pci bus id: 0000:00:04.0, compute capability: 6.0\"]"
            ]
          },
          "metadata": {
            "tags": []
          },
          "execution_count": 2
        }
      ]
    },
    {
      "cell_type": "code",
      "metadata": {
        "id": "wABwLoS5pNf7",
        "colab_type": "code",
        "colab": {
          "base_uri": "https://localhost:8080/",
          "height": 34
        },
        "outputId": "199ee02e-a9d4-4858-fe97-febe76fb8291"
      },
      "source": [
        "# order_brush_order.csv\n",
        "d = pd.read_csv('order_brush_order.csv', index_col=0).sort_values(by=['event_time','shopid','userid']).reset_index()\n",
        "len(d.shopid.unique())"
      ],
      "execution_count": 3,
      "outputs": [
        {
          "output_type": "execute_result",
          "data": {
            "text/plain": [
              "18770"
            ]
          },
          "metadata": {
            "tags": []
          },
          "execution_count": 3
        }
      ]
    },
    {
      "cell_type": "code",
      "metadata": {
        "id": "2vMTr4gYadht",
        "colab_type": "code",
        "colab": {
          "base_uri": "https://localhost:8080/",
          "height": 390
        },
        "outputId": "42a1b321-e7a2-4bba-927d-053429fcdac8"
      },
      "source": [
        "# order_brush_order.csv\n",
        "data = pd.read_csv('test_brush.csv', index_col=0).sort_values(by=['event_time','shopid','userid']).reset_index()\n",
        "data"
      ],
      "execution_count": 4,
      "outputs": [
        {
          "output_type": "execute_result",
          "data": {
            "text/html": [
              "<div>\n",
              "<style scoped>\n",
              "    .dataframe tbody tr th:only-of-type {\n",
              "        vertical-align: middle;\n",
              "    }\n",
              "\n",
              "    .dataframe tbody tr th {\n",
              "        vertical-align: top;\n",
              "    }\n",
              "\n",
              "    .dataframe thead th {\n",
              "        text-align: right;\n",
              "    }\n",
              "</style>\n",
              "<table border=\"1\" class=\"dataframe\">\n",
              "  <thead>\n",
              "    <tr style=\"text-align: right;\">\n",
              "      <th></th>\n",
              "      <th>orderid</th>\n",
              "      <th>shopid</th>\n",
              "      <th>userid</th>\n",
              "      <th>event_time</th>\n",
              "    </tr>\n",
              "  </thead>\n",
              "  <tbody>\n",
              "    <tr>\n",
              "      <th>0</th>\n",
              "      <td>31388857391599</td>\n",
              "      <td>91242967</td>\n",
              "      <td>112494421</td>\n",
              "      <td>2019-12-30 15:07:37</td>\n",
              "    </tr>\n",
              "    <tr>\n",
              "      <th>1</th>\n",
              "      <td>31388858606904</td>\n",
              "      <td>85669731</td>\n",
              "      <td>112494421</td>\n",
              "      <td>2019-12-30 15:07:38</td>\n",
              "    </tr>\n",
              "    <tr>\n",
              "      <th>2</th>\n",
              "      <td>31388860144322</td>\n",
              "      <td>85669731</td>\n",
              "      <td>112494421</td>\n",
              "      <td>2019-12-30 15:07:41</td>\n",
              "    </tr>\n",
              "    <tr>\n",
              "      <th>3</th>\n",
              "      <td>31388862051153</td>\n",
              "      <td>85669731</td>\n",
              "      <td>112494421</td>\n",
              "      <td>2019-12-30 15:07:42</td>\n",
              "    </tr>\n",
              "    <tr>\n",
              "      <th>4</th>\n",
              "      <td>31388864143841</td>\n",
              "      <td>68986766</td>\n",
              "      <td>65129646</td>\n",
              "      <td>2019-12-30 15:07:45</td>\n",
              "    </tr>\n",
              "    <tr>\n",
              "      <th>5</th>\n",
              "      <td>31388864143840</td>\n",
              "      <td>85669731</td>\n",
              "      <td>10209247</td>\n",
              "      <td>2019-12-30 15:07:45</td>\n",
              "    </tr>\n",
              "    <tr>\n",
              "      <th>6</th>\n",
              "      <td>31388864143842</td>\n",
              "      <td>91242967</td>\n",
              "      <td>10209247</td>\n",
              "      <td>2019-12-30 15:07:45</td>\n",
              "    </tr>\n",
              "    <tr>\n",
              "      <th>7</th>\n",
              "      <td>31388868340962</td>\n",
              "      <td>68986766</td>\n",
              "      <td>65129646</td>\n",
              "      <td>2019-12-30 15:07:48</td>\n",
              "    </tr>\n",
              "    <tr>\n",
              "      <th>8</th>\n",
              "      <td>31388869521738</td>\n",
              "      <td>68986766</td>\n",
              "      <td>65129646</td>\n",
              "      <td>2019-12-30 15:07:49</td>\n",
              "    </tr>\n",
              "    <tr>\n",
              "      <th>9</th>\n",
              "      <td>31388867881658</td>\n",
              "      <td>68986766</td>\n",
              "      <td>86829555</td>\n",
              "      <td>2019-12-31 18:07:49</td>\n",
              "    </tr>\n",
              "    <tr>\n",
              "      <th>10</th>\n",
              "      <td>31388860669998</td>\n",
              "      <td>68986766</td>\n",
              "      <td>86829555</td>\n",
              "      <td>2019-12-31 18:50:49</td>\n",
              "    </tr>\n",
              "  </tbody>\n",
              "</table>\n",
              "</div>"
            ],
            "text/plain": [
              "           orderid    shopid     userid           event_time\n",
              "0   31388857391599  91242967  112494421  2019-12-30 15:07:37\n",
              "1   31388858606904  85669731  112494421  2019-12-30 15:07:38\n",
              "2   31388860144322  85669731  112494421  2019-12-30 15:07:41\n",
              "3   31388862051153  85669731  112494421  2019-12-30 15:07:42\n",
              "4   31388864143841  68986766   65129646  2019-12-30 15:07:45\n",
              "5   31388864143840  85669731   10209247  2019-12-30 15:07:45\n",
              "6   31388864143842  91242967   10209247  2019-12-30 15:07:45\n",
              "7   31388868340962  68986766   65129646  2019-12-30 15:07:48\n",
              "8   31388869521738  68986766   65129646  2019-12-30 15:07:49\n",
              "9   31388867881658  68986766   86829555  2019-12-31 18:07:49\n",
              "10  31388860669998  68986766   86829555  2019-12-31 18:50:49"
            ]
          },
          "metadata": {
            "tags": []
          },
          "execution_count": 4
        }
      ]
    },
    {
      "cell_type": "code",
      "metadata": {
        "id": "EsCT0V7MTrYi",
        "colab_type": "code",
        "colab": {}
      },
      "source": [
        "date = data['event_time']\n",
        "date_time = []\n",
        "for i in date:\n",
        "  date_time.append(datetime.strptime(i,\"%Y-%m-%d %H:%M:%S\"))"
      ],
      "execution_count": 5,
      "outputs": []
    },
    {
      "cell_type": "code",
      "metadata": {
        "id": "oz22fSwim3sQ",
        "colab_type": "code",
        "colab": {
          "base_uri": "https://localhost:8080/",
          "height": 390
        },
        "outputId": "2d068b42-7642-4ea2-d89f-5f8a111852e7"
      },
      "source": [
        "data['date_time'] = date_time\n",
        "data"
      ],
      "execution_count": 6,
      "outputs": [
        {
          "output_type": "execute_result",
          "data": {
            "text/html": [
              "<div>\n",
              "<style scoped>\n",
              "    .dataframe tbody tr th:only-of-type {\n",
              "        vertical-align: middle;\n",
              "    }\n",
              "\n",
              "    .dataframe tbody tr th {\n",
              "        vertical-align: top;\n",
              "    }\n",
              "\n",
              "    .dataframe thead th {\n",
              "        text-align: right;\n",
              "    }\n",
              "</style>\n",
              "<table border=\"1\" class=\"dataframe\">\n",
              "  <thead>\n",
              "    <tr style=\"text-align: right;\">\n",
              "      <th></th>\n",
              "      <th>orderid</th>\n",
              "      <th>shopid</th>\n",
              "      <th>userid</th>\n",
              "      <th>event_time</th>\n",
              "      <th>date_time</th>\n",
              "    </tr>\n",
              "  </thead>\n",
              "  <tbody>\n",
              "    <tr>\n",
              "      <th>0</th>\n",
              "      <td>31388857391599</td>\n",
              "      <td>91242967</td>\n",
              "      <td>112494421</td>\n",
              "      <td>2019-12-30 15:07:37</td>\n",
              "      <td>2019-12-30 15:07:37</td>\n",
              "    </tr>\n",
              "    <tr>\n",
              "      <th>1</th>\n",
              "      <td>31388858606904</td>\n",
              "      <td>85669731</td>\n",
              "      <td>112494421</td>\n",
              "      <td>2019-12-30 15:07:38</td>\n",
              "      <td>2019-12-30 15:07:38</td>\n",
              "    </tr>\n",
              "    <tr>\n",
              "      <th>2</th>\n",
              "      <td>31388860144322</td>\n",
              "      <td>85669731</td>\n",
              "      <td>112494421</td>\n",
              "      <td>2019-12-30 15:07:41</td>\n",
              "      <td>2019-12-30 15:07:41</td>\n",
              "    </tr>\n",
              "    <tr>\n",
              "      <th>3</th>\n",
              "      <td>31388862051153</td>\n",
              "      <td>85669731</td>\n",
              "      <td>112494421</td>\n",
              "      <td>2019-12-30 15:07:42</td>\n",
              "      <td>2019-12-30 15:07:42</td>\n",
              "    </tr>\n",
              "    <tr>\n",
              "      <th>4</th>\n",
              "      <td>31388864143841</td>\n",
              "      <td>68986766</td>\n",
              "      <td>65129646</td>\n",
              "      <td>2019-12-30 15:07:45</td>\n",
              "      <td>2019-12-30 15:07:45</td>\n",
              "    </tr>\n",
              "    <tr>\n",
              "      <th>5</th>\n",
              "      <td>31388864143840</td>\n",
              "      <td>85669731</td>\n",
              "      <td>10209247</td>\n",
              "      <td>2019-12-30 15:07:45</td>\n",
              "      <td>2019-12-30 15:07:45</td>\n",
              "    </tr>\n",
              "    <tr>\n",
              "      <th>6</th>\n",
              "      <td>31388864143842</td>\n",
              "      <td>91242967</td>\n",
              "      <td>10209247</td>\n",
              "      <td>2019-12-30 15:07:45</td>\n",
              "      <td>2019-12-30 15:07:45</td>\n",
              "    </tr>\n",
              "    <tr>\n",
              "      <th>7</th>\n",
              "      <td>31388868340962</td>\n",
              "      <td>68986766</td>\n",
              "      <td>65129646</td>\n",
              "      <td>2019-12-30 15:07:48</td>\n",
              "      <td>2019-12-30 15:07:48</td>\n",
              "    </tr>\n",
              "    <tr>\n",
              "      <th>8</th>\n",
              "      <td>31388869521738</td>\n",
              "      <td>68986766</td>\n",
              "      <td>65129646</td>\n",
              "      <td>2019-12-30 15:07:49</td>\n",
              "      <td>2019-12-30 15:07:49</td>\n",
              "    </tr>\n",
              "    <tr>\n",
              "      <th>9</th>\n",
              "      <td>31388867881658</td>\n",
              "      <td>68986766</td>\n",
              "      <td>86829555</td>\n",
              "      <td>2019-12-31 18:07:49</td>\n",
              "      <td>2019-12-31 18:07:49</td>\n",
              "    </tr>\n",
              "    <tr>\n",
              "      <th>10</th>\n",
              "      <td>31388860669998</td>\n",
              "      <td>68986766</td>\n",
              "      <td>86829555</td>\n",
              "      <td>2019-12-31 18:50:49</td>\n",
              "      <td>2019-12-31 18:50:49</td>\n",
              "    </tr>\n",
              "  </tbody>\n",
              "</table>\n",
              "</div>"
            ],
            "text/plain": [
              "           orderid    shopid  ...           event_time           date_time\n",
              "0   31388857391599  91242967  ...  2019-12-30 15:07:37 2019-12-30 15:07:37\n",
              "1   31388858606904  85669731  ...  2019-12-30 15:07:38 2019-12-30 15:07:38\n",
              "2   31388860144322  85669731  ...  2019-12-30 15:07:41 2019-12-30 15:07:41\n",
              "3   31388862051153  85669731  ...  2019-12-30 15:07:42 2019-12-30 15:07:42\n",
              "4   31388864143841  68986766  ...  2019-12-30 15:07:45 2019-12-30 15:07:45\n",
              "5   31388864143840  85669731  ...  2019-12-30 15:07:45 2019-12-30 15:07:45\n",
              "6   31388864143842  91242967  ...  2019-12-30 15:07:45 2019-12-30 15:07:45\n",
              "7   31388868340962  68986766  ...  2019-12-30 15:07:48 2019-12-30 15:07:48\n",
              "8   31388869521738  68986766  ...  2019-12-30 15:07:49 2019-12-30 15:07:49\n",
              "9   31388867881658  68986766  ...  2019-12-31 18:07:49 2019-12-31 18:07:49\n",
              "10  31388860669998  68986766  ...  2019-12-31 18:50:49 2019-12-31 18:50:49\n",
              "\n",
              "[11 rows x 5 columns]"
            ]
          },
          "metadata": {
            "tags": []
          },
          "execution_count": 6
        }
      ]
    },
    {
      "cell_type": "code",
      "metadata": {
        "id": "zldWspqN2mYr",
        "colab_type": "code",
        "colab": {
          "base_uri": "https://localhost:8080/",
          "height": 221
        },
        "outputId": "a0735090-0c55-4f7b-8767-4f68f881951c"
      },
      "source": [
        "data.info()"
      ],
      "execution_count": 7,
      "outputs": [
        {
          "output_type": "stream",
          "text": [
            "<class 'pandas.core.frame.DataFrame'>\n",
            "RangeIndex: 11 entries, 0 to 10\n",
            "Data columns (total 5 columns):\n",
            " #   Column      Non-Null Count  Dtype         \n",
            "---  ------      --------------  -----         \n",
            " 0   orderid     11 non-null     int64         \n",
            " 1   shopid      11 non-null     int64         \n",
            " 2   userid      11 non-null     int64         \n",
            " 3   event_time  11 non-null     object        \n",
            " 4   date_time   11 non-null     datetime64[ns]\n",
            "dtypes: datetime64[ns](1), int64(3), object(1)\n",
            "memory usage: 568.0+ bytes\n"
          ],
          "name": "stdout"
        }
      ]
    },
    {
      "cell_type": "code",
      "metadata": {
        "id": "QpoSmiCBEr_2",
        "colab_type": "code",
        "colab": {
          "base_uri": "https://localhost:8080/",
          "height": 34
        },
        "outputId": "f1caded1-e613-472f-81f9-21a010c8821f"
      },
      "source": [
        "b = data['date_time'].loc[10]\n",
        "a = data['date_time'].loc[1]\n",
        "delt = b-a\n",
        "delt.total_seconds()"
      ],
      "execution_count": 8,
      "outputs": [
        {
          "output_type": "execute_result",
          "data": {
            "text/plain": [
              "99791.0"
            ]
          },
          "metadata": {
            "tags": []
          },
          "execution_count": 8
        }
      ]
    },
    {
      "cell_type": "code",
      "metadata": {
        "id": "sfjJ1lN7W7DV",
        "colab_type": "code",
        "colab": {
          "base_uri": "https://localhost:8080/",
          "height": 235
        },
        "outputId": "5f6a532a-e295-44c2-b077-dd2e3d9219b9"
      },
      "source": [
        "data.loc[0:5]"
      ],
      "execution_count": 9,
      "outputs": [
        {
          "output_type": "execute_result",
          "data": {
            "text/html": [
              "<div>\n",
              "<style scoped>\n",
              "    .dataframe tbody tr th:only-of-type {\n",
              "        vertical-align: middle;\n",
              "    }\n",
              "\n",
              "    .dataframe tbody tr th {\n",
              "        vertical-align: top;\n",
              "    }\n",
              "\n",
              "    .dataframe thead th {\n",
              "        text-align: right;\n",
              "    }\n",
              "</style>\n",
              "<table border=\"1\" class=\"dataframe\">\n",
              "  <thead>\n",
              "    <tr style=\"text-align: right;\">\n",
              "      <th></th>\n",
              "      <th>orderid</th>\n",
              "      <th>shopid</th>\n",
              "      <th>userid</th>\n",
              "      <th>event_time</th>\n",
              "      <th>date_time</th>\n",
              "    </tr>\n",
              "  </thead>\n",
              "  <tbody>\n",
              "    <tr>\n",
              "      <th>0</th>\n",
              "      <td>31388857391599</td>\n",
              "      <td>91242967</td>\n",
              "      <td>112494421</td>\n",
              "      <td>2019-12-30 15:07:37</td>\n",
              "      <td>2019-12-30 15:07:37</td>\n",
              "    </tr>\n",
              "    <tr>\n",
              "      <th>1</th>\n",
              "      <td>31388858606904</td>\n",
              "      <td>85669731</td>\n",
              "      <td>112494421</td>\n",
              "      <td>2019-12-30 15:07:38</td>\n",
              "      <td>2019-12-30 15:07:38</td>\n",
              "    </tr>\n",
              "    <tr>\n",
              "      <th>2</th>\n",
              "      <td>31388860144322</td>\n",
              "      <td>85669731</td>\n",
              "      <td>112494421</td>\n",
              "      <td>2019-12-30 15:07:41</td>\n",
              "      <td>2019-12-30 15:07:41</td>\n",
              "    </tr>\n",
              "    <tr>\n",
              "      <th>3</th>\n",
              "      <td>31388862051153</td>\n",
              "      <td>85669731</td>\n",
              "      <td>112494421</td>\n",
              "      <td>2019-12-30 15:07:42</td>\n",
              "      <td>2019-12-30 15:07:42</td>\n",
              "    </tr>\n",
              "    <tr>\n",
              "      <th>4</th>\n",
              "      <td>31388864143841</td>\n",
              "      <td>68986766</td>\n",
              "      <td>65129646</td>\n",
              "      <td>2019-12-30 15:07:45</td>\n",
              "      <td>2019-12-30 15:07:45</td>\n",
              "    </tr>\n",
              "    <tr>\n",
              "      <th>5</th>\n",
              "      <td>31388864143840</td>\n",
              "      <td>85669731</td>\n",
              "      <td>10209247</td>\n",
              "      <td>2019-12-30 15:07:45</td>\n",
              "      <td>2019-12-30 15:07:45</td>\n",
              "    </tr>\n",
              "  </tbody>\n",
              "</table>\n",
              "</div>"
            ],
            "text/plain": [
              "          orderid    shopid     userid           event_time           date_time\n",
              "0  31388857391599  91242967  112494421  2019-12-30 15:07:37 2019-12-30 15:07:37\n",
              "1  31388858606904  85669731  112494421  2019-12-30 15:07:38 2019-12-30 15:07:38\n",
              "2  31388860144322  85669731  112494421  2019-12-30 15:07:41 2019-12-30 15:07:41\n",
              "3  31388862051153  85669731  112494421  2019-12-30 15:07:42 2019-12-30 15:07:42\n",
              "4  31388864143841  68986766   65129646  2019-12-30 15:07:45 2019-12-30 15:07:45\n",
              "5  31388864143840  85669731   10209247  2019-12-30 15:07:45 2019-12-30 15:07:45"
            ]
          },
          "metadata": {
            "tags": []
          },
          "execution_count": 9
        }
      ]
    },
    {
      "cell_type": "code",
      "metadata": {
        "id": "Xo7OD12pC0bw",
        "colab_type": "code",
        "colab": {
          "base_uri": "https://localhost:8080/",
          "height": 173
        },
        "outputId": "cb68b2eb-17c1-42a4-a0cb-13d139a2b0cd"
      },
      "source": [
        "check = data.loc[0:5].groupby('shopid')\n",
        "check.first()"
      ],
      "execution_count": 10,
      "outputs": [
        {
          "output_type": "execute_result",
          "data": {
            "text/html": [
              "<div>\n",
              "<style scoped>\n",
              "    .dataframe tbody tr th:only-of-type {\n",
              "        vertical-align: middle;\n",
              "    }\n",
              "\n",
              "    .dataframe tbody tr th {\n",
              "        vertical-align: top;\n",
              "    }\n",
              "\n",
              "    .dataframe thead th {\n",
              "        text-align: right;\n",
              "    }\n",
              "</style>\n",
              "<table border=\"1\" class=\"dataframe\">\n",
              "  <thead>\n",
              "    <tr style=\"text-align: right;\">\n",
              "      <th></th>\n",
              "      <th>orderid</th>\n",
              "      <th>userid</th>\n",
              "      <th>event_time</th>\n",
              "      <th>date_time</th>\n",
              "    </tr>\n",
              "    <tr>\n",
              "      <th>shopid</th>\n",
              "      <th></th>\n",
              "      <th></th>\n",
              "      <th></th>\n",
              "      <th></th>\n",
              "    </tr>\n",
              "  </thead>\n",
              "  <tbody>\n",
              "    <tr>\n",
              "      <th>68986766</th>\n",
              "      <td>31388864143841</td>\n",
              "      <td>65129646</td>\n",
              "      <td>2019-12-30 15:07:45</td>\n",
              "      <td>2019-12-30 15:07:45</td>\n",
              "    </tr>\n",
              "    <tr>\n",
              "      <th>85669731</th>\n",
              "      <td>31388858606904</td>\n",
              "      <td>112494421</td>\n",
              "      <td>2019-12-30 15:07:38</td>\n",
              "      <td>2019-12-30 15:07:38</td>\n",
              "    </tr>\n",
              "    <tr>\n",
              "      <th>91242967</th>\n",
              "      <td>31388857391599</td>\n",
              "      <td>112494421</td>\n",
              "      <td>2019-12-30 15:07:37</td>\n",
              "      <td>2019-12-30 15:07:37</td>\n",
              "    </tr>\n",
              "  </tbody>\n",
              "</table>\n",
              "</div>"
            ],
            "text/plain": [
              "                 orderid     userid           event_time           date_time\n",
              "shopid                                                                      \n",
              "68986766  31388864143841   65129646  2019-12-30 15:07:45 2019-12-30 15:07:45\n",
              "85669731  31388858606904  112494421  2019-12-30 15:07:38 2019-12-30 15:07:38\n",
              "91242967  31388857391599  112494421  2019-12-30 15:07:37 2019-12-30 15:07:37"
            ]
          },
          "metadata": {
            "tags": []
          },
          "execution_count": 10
        }
      ]
    },
    {
      "cell_type": "code",
      "metadata": {
        "id": "59eHpRouhpRx",
        "colab_type": "code",
        "colab": {
          "base_uri": "https://localhost:8080/",
          "height": 289
        },
        "outputId": "1d3564be-bd0d-4f52-ab8a-def7108daeba"
      },
      "source": [
        "what_user = []\n",
        "lol = pd.DataFrame(data.loc[0:5].groupby('userid')['userid'].count().reset_index(name='user_count'))\n",
        "lol['user_count'].apply(lambda ui : print(lol['user_count']))"
      ],
      "execution_count": 11,
      "outputs": [
        {
          "output_type": "stream",
          "text": [
            "0    1\n",
            "1    1\n",
            "2    4\n",
            "Name: user_count, dtype: int64\n",
            "0    1\n",
            "1    1\n",
            "2    4\n",
            "Name: user_count, dtype: int64\n",
            "0    1\n",
            "1    1\n",
            "2    4\n",
            "Name: user_count, dtype: int64\n"
          ],
          "name": "stdout"
        },
        {
          "output_type": "execute_result",
          "data": {
            "text/plain": [
              "0    None\n",
              "1    None\n",
              "2    None\n",
              "Name: user_count, dtype: object"
            ]
          },
          "metadata": {
            "tags": []
          },
          "execution_count": 11
        }
      ]
    },
    {
      "cell_type": "code",
      "metadata": {
        "id": "0KC8IGoCABDb",
        "colab_type": "code",
        "colab": {
          "base_uri": "https://localhost:8080/",
          "height": 142
        },
        "outputId": "6a7cc382-d5cd-4360-fceb-6529a082c602"
      },
      "source": [
        "lol"
      ],
      "execution_count": 12,
      "outputs": [
        {
          "output_type": "execute_result",
          "data": {
            "text/html": [
              "<div>\n",
              "<style scoped>\n",
              "    .dataframe tbody tr th:only-of-type {\n",
              "        vertical-align: middle;\n",
              "    }\n",
              "\n",
              "    .dataframe tbody tr th {\n",
              "        vertical-align: top;\n",
              "    }\n",
              "\n",
              "    .dataframe thead th {\n",
              "        text-align: right;\n",
              "    }\n",
              "</style>\n",
              "<table border=\"1\" class=\"dataframe\">\n",
              "  <thead>\n",
              "    <tr style=\"text-align: right;\">\n",
              "      <th></th>\n",
              "      <th>userid</th>\n",
              "      <th>user_count</th>\n",
              "    </tr>\n",
              "  </thead>\n",
              "  <tbody>\n",
              "    <tr>\n",
              "      <th>0</th>\n",
              "      <td>10209247</td>\n",
              "      <td>1</td>\n",
              "    </tr>\n",
              "    <tr>\n",
              "      <th>1</th>\n",
              "      <td>65129646</td>\n",
              "      <td>1</td>\n",
              "    </tr>\n",
              "    <tr>\n",
              "      <th>2</th>\n",
              "      <td>112494421</td>\n",
              "      <td>4</td>\n",
              "    </tr>\n",
              "  </tbody>\n",
              "</table>\n",
              "</div>"
            ],
            "text/plain": [
              "      userid  user_count\n",
              "0   10209247           1\n",
              "1   65129646           1\n",
              "2  112494421           4"
            ]
          },
          "metadata": {
            "tags": []
          },
          "execution_count": 12
        }
      ]
    },
    {
      "cell_type": "code",
      "metadata": {
        "id": "u4E7VX4-voMB",
        "colab_type": "code",
        "colab": {
          "base_uri": "https://localhost:8080/",
          "height": 34
        },
        "outputId": "f2c2f894-155f-42a3-e1fa-2a7b6b2f9a5b"
      },
      "source": [
        "lol['user_count'].idxmax()"
      ],
      "execution_count": 13,
      "outputs": [
        {
          "output_type": "execute_result",
          "data": {
            "text/plain": [
              "2"
            ]
          },
          "metadata": {
            "tags": []
          },
          "execution_count": 13
        }
      ]
    },
    {
      "cell_type": "code",
      "metadata": {
        "id": "bcSOO1p5fIM2",
        "colab_type": "code",
        "colab": {
          "base_uri": "https://localhost:8080/",
          "height": 34
        },
        "outputId": "ad05f0a8-4f00-4de7-ece6-46efc53ff926"
      },
      "source": [
        "key = list(check.groups.keys())\n",
        "key"
      ],
      "execution_count": 14,
      "outputs": [
        {
          "output_type": "execute_result",
          "data": {
            "text/plain": [
              "[68986766, 85669731, 91242967]"
            ]
          },
          "metadata": {
            "tags": []
          },
          "execution_count": 14
        }
      ]
    },
    {
      "cell_type": "code",
      "metadata": {
        "id": "0CLV_btigRzL",
        "colab_type": "code",
        "colab": {
          "base_uri": "https://localhost:8080/",
          "height": 34
        },
        "outputId": "91d3ea06-69b5-4fa3-ecb1-1dbf936a273a"
      },
      "source": [
        "key[1]"
      ],
      "execution_count": 15,
      "outputs": [
        {
          "output_type": "execute_result",
          "data": {
            "text/plain": [
              "85669731"
            ]
          },
          "metadata": {
            "tags": []
          },
          "execution_count": 15
        }
      ]
    },
    {
      "cell_type": "code",
      "metadata": {
        "id": "4XunLjXJhW_X",
        "colab_type": "code",
        "colab": {
          "base_uri": "https://localhost:8080/",
          "height": 34
        },
        "outputId": "f9cf25f4-c8c1-4e6a-b2ea-7eba654a8476"
      },
      "source": [
        "len(key)"
      ],
      "execution_count": 16,
      "outputs": [
        {
          "output_type": "execute_result",
          "data": {
            "text/plain": [
              "3"
            ]
          },
          "metadata": {
            "tags": []
          },
          "execution_count": 16
        }
      ]
    },
    {
      "cell_type": "code",
      "metadata": {
        "id": "RAXjms4iZA_s",
        "colab_type": "code",
        "colab": {
          "base_uri": "https://localhost:8080/",
          "height": 68
        },
        "outputId": "e94d84be-95f7-4d81-ab67-a231a8ba0b63"
      },
      "source": [
        "for k in key:\n",
        "  print(k)"
      ],
      "execution_count": 17,
      "outputs": [
        {
          "output_type": "stream",
          "text": [
            "68986766\n",
            "85669731\n",
            "91242967\n"
          ],
          "name": "stdout"
        }
      ]
    },
    {
      "cell_type": "code",
      "metadata": {
        "id": "9xSVjcGaTj83",
        "colab_type": "code",
        "colab": {
          "base_uri": "https://localhost:8080/",
          "height": 34
        },
        "outputId": "9b5a17e6-e7d7-4632-f210-ed6194aff997"
      },
      "source": [
        "check_order = check.get_group(key[1])\n",
        "order = len(check_order.orderid)\n",
        "buyers = len(check_order.userid.unique())\n",
        "concentrate_rate = order/buyers\n",
        "print(concentrate_rate)"
      ],
      "execution_count": 18,
      "outputs": [
        {
          "output_type": "stream",
          "text": [
            "2.0\n"
          ],
          "name": "stdout"
        }
      ]
    },
    {
      "cell_type": "code",
      "metadata": {
        "id": "3W1VSGX9rFOF",
        "colab_type": "code",
        "colab": {
          "base_uri": "https://localhost:8080/",
          "height": 34
        },
        "outputId": "0454f580-d6a4-46c1-8c94-2514d09905b5"
      },
      "source": [
        "charc = 'x'\n",
        "haha = 'abc'\n",
        "a_dict = {}\n",
        "if charc in a_dict:\n",
        "  a_dict[charc].append(haha)\n",
        "else:\n",
        "  a_dict[charc] = [haha]\n",
        "print(a_dict)"
      ],
      "execution_count": 19,
      "outputs": [
        {
          "output_type": "stream",
          "text": [
            "{'x': ['abc']}\n"
          ],
          "name": "stdout"
        }
      ]
    },
    {
      "cell_type": "code",
      "metadata": {
        "id": "hoPSNPQLeiEH",
        "colab_type": "code",
        "colab": {
          "base_uri": "https://localhost:8080/",
          "height": 129
        },
        "outputId": "f3348063-1d4b-4722-86a3-cee0fe4cb363"
      },
      "source": [
        "ans_dic= {}\n",
        "\n",
        "for i in data.index:\n",
        "  initial = data['date_time'].loc[i]\n",
        "  for j in range(i, data.last_valid_index()+1):\n",
        "    delta = data['date_time'].loc[j] - initial\n",
        "    if(delta.total_seconds()<3600):\n",
        "      check = data.loc[i:j].groupby('shopid')\n",
        "      check['userid'].count()\n",
        "      user_num = pd.DataFrame(data.loc[0:5].groupby('userid')['userid'].count().reset_index(name='user_count'))\n",
        "      max_index = user_num['user_count'].idxmax()\n",
        "      key = list(check.groups.keys())\n",
        "      for k in key:\n",
        "        check_order = check.get_group(k)\n",
        "        order = len(check_order.orderid)\n",
        "        buyers = len(check_order.userid.unique())\n",
        "        concentrate_rate = order/buyers\n",
        "        if(concentrate_rate >= 3):\n",
        "          if max_index >= 3:\n"
      ],
      "execution_count": null,
      "outputs": [
        {
          "output_type": "error",
          "ename": "SyntaxError",
          "evalue": "ignored",
          "traceback": [
            "\u001b[0;36m  File \u001b[0;32m\"<ipython-input-20-63267ad2469b>\"\u001b[0;36m, line \u001b[0;32m17\u001b[0m\n\u001b[0;31m    if check['userid'].count()\u001b[0m\n\u001b[0m                              ^\u001b[0m\n\u001b[0;31mSyntaxError\u001b[0m\u001b[0;31m:\u001b[0m invalid syntax\n"
          ]
        }
      ]
    },
    {
      "cell_type": "code",
      "metadata": {
        "id": "SwglzF5Bu1Bi",
        "colab_type": "code",
        "colab": {}
      },
      "source": [
        ""
      ],
      "execution_count": null,
      "outputs": []
    },
    {
      "cell_type": "code",
      "metadata": {
        "id": "CT0b6oebSrYY",
        "colab_type": "code",
        "colab": {}
      },
      "source": [
        "for i in test.index:\n",
        "  initial = test['date_time'].loc[i]\n",
        "  for j in range(i, test.index):\n",
        "    delta = test['date_time'].loc[j] - initial\n",
        "    print(delta)"
      ],
      "execution_count": null,
      "outputs": []
    },
    {
      "cell_type": "code",
      "metadata": {
        "id": "K1UWZcJBojDY",
        "colab_type": "code",
        "colab": {}
      },
      "source": [
        "def check_concentrate_rate():\n",
        "  concentrate_rate = #Number of Orders within 1 hour / Number of Unique Buyers within 1 hour\n",
        "  if concentrate_rate >= 3:\n",
        "    shop_list.append(shopid)\n",
        "  \n",
        "  return shop_list"
      ],
      "execution_count": null,
      "outputs": []
    },
    {
      "cell_type": "code",
      "metadata": {
        "id": "4vxLVQK-ojI6",
        "colab_type": "code",
        "colab": {}
      },
      "source": [
        "df.to_csv('CY_Team_submission4.csv') \n",
        "files.download('CY_Team_submission4.csv')"
      ],
      "execution_count": null,
      "outputs": []
    },
    {
      "cell_type": "code",
      "metadata": {
        "id": "w6M47_oiJiUc",
        "colab_type": "code",
        "colab": {
          "base_uri": "https://localhost:8080/",
          "height": 163
        },
        "outputId": "448b17c4-fa87-4290-997b-3983fef88c44"
      },
      "source": [
        "num"
      ],
      "execution_count": null,
      "outputs": [
        {
          "output_type": "error",
          "ename": "NameError",
          "evalue": "ignored",
          "traceback": [
            "\u001b[0;31m---------------------------------------------------------------------------\u001b[0m",
            "\u001b[0;31mNameError\u001b[0m                                 Traceback (most recent call last)",
            "\u001b[0;32m<ipython-input-51-c774dac2b598>\u001b[0m in \u001b[0;36m<module>\u001b[0;34m()\u001b[0m\n\u001b[0;32m----> 1\u001b[0;31m \u001b[0mnum\u001b[0m\u001b[0;34m\u001b[0m\u001b[0;34m\u001b[0m\u001b[0m\n\u001b[0m",
            "\u001b[0;31mNameError\u001b[0m: name 'num' is not defined"
          ]
        }
      ]
    },
    {
      "cell_type": "code",
      "metadata": {
        "id": "5DOa3eMVoi-4",
        "colab_type": "code",
        "colab": {
          "base_uri": "https://localhost:8080/",
          "height": 34
        },
        "outputId": "6f9d8fa6-0f18-4e96-e940-3ccac5d3e371"
      },
      "source": [
        "import pandas as pd\n",
        "import numpy as np\n",
        "\n",
        "\n",
        "def add_two(num, a, b):\n",
        "\n",
        "  x = num + 2 + a + b\n",
        "  y = a + b\n",
        "\n",
        "  return x, b"
      ],
      "execution_count": null,
      "outputs": [
        {
          "output_type": "execute_result",
          "data": {
            "text/plain": [
              "(14, 6)"
            ]
          },
          "metadata": {
            "tags": []
          },
          "execution_count": 45
        }
      ]
    },
    {
      "cell_type": "code",
      "metadata": {
        "id": "AB3m85dtHAdz",
        "colab_type": "code",
        "colab": {}
      },
      "source": [
        "y = add_two(6, 2, 5)"
      ],
      "execution_count": null,
      "outputs": []
    },
    {
      "cell_type": "code",
      "metadata": {
        "id": "OxVQBVjGIAx9",
        "colab_type": "code",
        "colab": {
          "base_uri": "https://localhost:8080/",
          "height": 34
        },
        "outputId": "a8127a46-7503-41e8-90e4-705707185759"
      },
      "source": [
        "y"
      ],
      "execution_count": null,
      "outputs": [
        {
          "output_type": "execute_result",
          "data": {
            "text/plain": [
              "(15, 5)"
            ]
          },
          "metadata": {
            "tags": []
          },
          "execution_count": 50
        }
      ]
    },
    {
      "cell_type": "code",
      "metadata": {
        "id": "aeh0M30oICLO",
        "colab_type": "code",
        "colab": {
          "base_uri": "https://localhost:8080/",
          "height": 34
        },
        "outputId": "4597aa6f-33dd-4f84-d44b-11988f540b81"
      },
      "source": [
        "y"
      ],
      "execution_count": null,
      "outputs": [
        {
          "output_type": "execute_result",
          "data": {
            "text/plain": [
              "5"
            ]
          },
          "metadata": {
            "tags": []
          },
          "execution_count": 48
        }
      ]
    },
    {
      "cell_type": "code",
      "metadata": {
        "id": "lR87sibdFmbC",
        "colab_type": "code",
        "colab": {}
      },
      "source": [
        "a + 2\n",
        "b + 2\n",
        "c + 2\n"
      ],
      "execution_count": null,
      "outputs": []
    },
    {
      "cell_type": "code",
      "metadata": {
        "id": "_FbT-4C0FmWt",
        "colab_type": "code",
        "colab": {
          "base_uri": "https://localhost:8080/",
          "height": 34
        },
        "outputId": "088be698-dea1-4fb0-deea-208ba5b78162"
      },
      "source": [
        "def say_hi():\n",
        "  print(\"Hi, how are you?\")\n",
        "\n",
        "\n",
        "say_hi()"
      ],
      "execution_count": null,
      "outputs": [
        {
          "output_type": "stream",
          "text": [
            "Hi, how are you?\n"
          ],
          "name": "stdout"
        }
      ]
    },
    {
      "cell_type": "code",
      "metadata": {
        "id": "qpba9WtPFmRI",
        "colab_type": "code",
        "colab": {}
      },
      "source": [
        "def RemainingMinSet(remain_kmer, remain_Seq):\n",
        "  a = 0\n",
        "\n",
        "  while(len(remain_kmer) != 0):\n",
        "      \n",
        "      A = make_automaton(remain_kmer)\n",
        "      \n",
        "      matching_file = 'match/matching'+str(a)\n",
        "      remain_kmer_file = 'match/remain_kmer'+str(a)\n",
        "      \n",
        "      # save matching to file\n",
        "      with open(matching_file, 'w') as f:\n",
        "          for index in range(len(remain_Seq)):\n",
        "              x = remain_Seq[index].id\n",
        "              y = find_matching(remain_Seq[index].seq, A)\n",
        "              z = len(y)\n",
        "              f.write(x + ';' + str(y) + ';' + str(z) + '\\n')\n",
        "              if z == 0:\n",
        "                  for i in range(len(remain_Seq_copy)):\n",
        "                      if remain_Seq_copy[i].id == x:\n",
        "                          del remain_Seq_copy[i]\n",
        "                          break                \n",
        "      \n",
        "      remain_Seq = remain_Seq_copy.copy()\n",
        "      \n",
        "      df = pd.read_csv(matching_file, delimiter=';', names=['sequence_id', 'matched_kmer', 'count']).sort_values(by='count',ascending=False, kind='mergesort')\n",
        "      df['matched_kmer'] = df['matched_kmer'].str.replace(r\"\\[|\\]|'\",\"\")\n",
        "      \n",
        "      fileZ = open('fileZ.txt', 'a') # file Z is an example for output (exampleoutput.txt)\n",
        "      fileZ.write(df['sequence_id'].iloc[0] + '\\n')\n",
        "      \n",
        "      kmer_to_remove = df['matched_kmer'].iloc[0].split(', ')\n",
        "      remain_kmer = list(set(remain_kmer) - set(kmer_to_remove))\n",
        "      \n",
        "      with open(remain_kmer_file, 'w') as f:\n",
        "        for i in remain_kmer:\n",
        "          f.write(i + '\\n')\n",
        "          \n",
        "      a = a + 1"
      ],
      "execution_count": null,
      "outputs": []
    },
    {
      "cell_type": "code",
      "metadata": {
        "id": "Uw0zdnTiFmMh",
        "colab_type": "code",
        "colab": {}
      },
      "source": [
        "from Bio import SeqIO\n",
        "from concurrent.futures import ProcessPoolExecutor\n",
        "import math\n",
        "\n",
        "remain_Seq = list(SeqIO.parse(\"remainingSeq.fasta\",\"fasta\"))\n",
        "remain_kmer = [line.rstrip('\\n') for line in open (\"remainingKmer.txt\")]"
      ],
      "execution_count": null,
      "outputs": []
    },
    {
      "cell_type": "code",
      "metadata": {
        "id": "zKdwsggJNF_g",
        "colab_type": "code",
        "colab": {}
      },
      "source": [
        "RemainingMinSet(remain_kmer, remain_Seq)"
      ],
      "execution_count": null,
      "outputs": []
    },
    {
      "cell_type": "code",
      "metadata": {
        "id": "emfXQXuJLKuk",
        "colab_type": "code",
        "colab": {
          "base_uri": "https://localhost:8080/",
          "height": 187
        },
        "outputId": "72ab9ca7-ac8b-44fc-dc10-1fb0f1457b9b"
      },
      "source": [
        "for i in range (1,11):\n",
        "  print(i)"
      ],
      "execution_count": null,
      "outputs": [
        {
          "output_type": "stream",
          "text": [
            "1\n",
            "2\n",
            "3\n",
            "4\n",
            "5\n",
            "6\n",
            "7\n",
            "8\n",
            "9\n",
            "10\n"
          ],
          "name": "stdout"
        }
      ]
    },
    {
      "cell_type": "code",
      "metadata": {
        "id": "9UmKRpTiLPTp",
        "colab_type": "code",
        "colab": {}
      },
      "source": [
        ""
      ],
      "execution_count": null,
      "outputs": []
    }
  ]
}