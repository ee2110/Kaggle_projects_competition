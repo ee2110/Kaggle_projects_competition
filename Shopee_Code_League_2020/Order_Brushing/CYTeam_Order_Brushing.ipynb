{
  "nbformat": 4,
  "nbformat_minor": 0,
  "metadata": {
    "colab": {
      "name": "CYTeam_Order_Brushing.ipynb",
      "provenance": [],
      "collapsed_sections": []
    },
    "kernelspec": {
      "name": "python3",
      "display_name": "Python 3"
    },
    "accelerator": "GPU"
  },
  "cells": [
    {
      "cell_type": "markdown",
      "metadata": {
        "id": "XmBojbb-gDOW",
        "colab_type": "text"
      },
      "source": [
        "# **Shopee Code League - Order Brushing**\n",
        "\n",
        "This notebook is for Shopee Code League Competition, Order Brushing, to detecting abnormal user behaviour. The competition details can be obtained from [here](https://www.kaggle.com/c/order-brushing-shopee-code-league/overview).\n",
        "\n",
        "Team name: CY Team (Malaysia)\n",
        "\n",
        "Team member:\n",
        "1. Chong Li Chuin\n",
        "2. Ee Yeo Keat"
      ]
    },
    {
      "cell_type": "markdown",
      "metadata": {
        "id": "u9F5x6ESuN-O",
        "colab_type": "text"
      },
      "source": [
        "# **Import libraries and read dataset**"
      ]
    },
    {
      "cell_type": "code",
      "metadata": {
        "id": "cQzqt-irZKlJ",
        "colab_type": "code",
        "colab": {}
      },
      "source": [
        "import pandas as pd\n",
        "import numpy as np\n",
        "import matplotlib.pyplot as plt\n",
        "import math\n",
        "import time\n",
        "from datetime import datetime\n",
        "from datetime import timedelta\n",
        "from google.colab import files"
      ],
      "execution_count": 1,
      "outputs": []
    },
    {
      "cell_type": "code",
      "metadata": {
        "id": "_4jdOWfwud5X",
        "colab_type": "code",
        "colab": {
          "base_uri": "https://localhost:8080/",
          "height": 476
        },
        "outputId": "0d5ec3ee-d473-4aa8-ff08-971208f9f073"
      },
      "source": [
        "from tensorflow.python.client import device_lib\n",
        "check_device = device_lib.list_local_devices()\n",
        "check_device"
      ],
      "execution_count": 2,
      "outputs": [
        {
          "output_type": "execute_result",
          "data": {
            "text/plain": [
              "[name: \"/device:CPU:0\"\n",
              " device_type: \"CPU\"\n",
              " memory_limit: 268435456\n",
              " locality {\n",
              " }\n",
              " incarnation: 15902445500523915454, name: \"/device:XLA_CPU:0\"\n",
              " device_type: \"XLA_CPU\"\n",
              " memory_limit: 17179869184\n",
              " locality {\n",
              " }\n",
              " incarnation: 1402825863762305233\n",
              " physical_device_desc: \"device: XLA_CPU device\", name: \"/device:XLA_GPU:0\"\n",
              " device_type: \"XLA_GPU\"\n",
              " memory_limit: 17179869184\n",
              " locality {\n",
              " }\n",
              " incarnation: 15994636406883791066\n",
              " physical_device_desc: \"device: XLA_GPU device\", name: \"/device:GPU:0\"\n",
              " device_type: \"GPU\"\n",
              " memory_limit: 15701463552\n",
              " locality {\n",
              "   bus_id: 1\n",
              "   links {\n",
              "   }\n",
              " }\n",
              " incarnation: 407203716010716943\n",
              " physical_device_desc: \"device: 0, name: Tesla P100-PCIE-16GB, pci bus id: 0000:00:04.0, compute capability: 6.0\"]"
            ]
          },
          "metadata": {
            "tags": []
          },
          "execution_count": 2
        }
      ]
    },
    {
      "cell_type": "code",
      "metadata": {
        "id": "2vMTr4gYadht",
        "colab_type": "code",
        "colab": {
          "base_uri": "https://localhost:8080/",
          "height": 419
        },
        "outputId": "bfb260c1-c296-458a-d858-77e03db0d55d"
      },
      "source": [
        "data = pd.read_csv('order_brush_order.csv', index_col=0).sort_values(by=['event_time','shopid','userid']).reset_index()\n",
        "data"
      ],
      "execution_count": 3,
      "outputs": [
        {
          "output_type": "execute_result",
          "data": {
            "text/html": [
              "<div>\n",
              "<style scoped>\n",
              "    .dataframe tbody tr th:only-of-type {\n",
              "        vertical-align: middle;\n",
              "    }\n",
              "\n",
              "    .dataframe tbody tr th {\n",
              "        vertical-align: top;\n",
              "    }\n",
              "\n",
              "    .dataframe thead th {\n",
              "        text-align: right;\n",
              "    }\n",
              "</style>\n",
              "<table border=\"1\" class=\"dataframe\">\n",
              "  <thead>\n",
              "    <tr style=\"text-align: right;\">\n",
              "      <th></th>\n",
              "      <th>orderid</th>\n",
              "      <th>shopid</th>\n",
              "      <th>userid</th>\n",
              "      <th>event_time</th>\n",
              "    </tr>\n",
              "  </thead>\n",
              "  <tbody>\n",
              "    <tr>\n",
              "      <th>0</th>\n",
              "      <td>31075200506751</td>\n",
              "      <td>6042309</td>\n",
              "      <td>97707522</td>\n",
              "      <td>2019-12-27 00:00:00</td>\n",
              "    </tr>\n",
              "    <tr>\n",
              "      <th>1</th>\n",
              "      <td>31075200506753</td>\n",
              "      <td>8715449</td>\n",
              "      <td>97707522</td>\n",
              "      <td>2019-12-27 00:00:00</td>\n",
              "    </tr>\n",
              "    <tr>\n",
              "      <th>2</th>\n",
              "      <td>31075200506752</td>\n",
              "      <td>104804492</td>\n",
              "      <td>97707522</td>\n",
              "      <td>2019-12-27 00:00:00</td>\n",
              "    </tr>\n",
              "    <tr>\n",
              "      <th>3</th>\n",
              "      <td>31075201870570</td>\n",
              "      <td>190969466</td>\n",
              "      <td>170182475</td>\n",
              "      <td>2019-12-27 00:00:02</td>\n",
              "    </tr>\n",
              "    <tr>\n",
              "      <th>4</th>\n",
              "      <td>31075205798264</td>\n",
              "      <td>2859407</td>\n",
              "      <td>12532131</td>\n",
              "      <td>2019-12-27 00:00:05</td>\n",
              "    </tr>\n",
              "    <tr>\n",
              "      <th>...</th>\n",
              "      <td>...</td>\n",
              "      <td>...</td>\n",
              "      <td>...</td>\n",
              "      <td>...</td>\n",
              "    </tr>\n",
              "    <tr>\n",
              "      <th>222745</th>\n",
              "      <td>31507183252446</td>\n",
              "      <td>149254894</td>\n",
              "      <td>193333760</td>\n",
              "      <td>2019-12-31 23:59:43</td>\n",
              "    </tr>\n",
              "    <tr>\n",
              "      <th>222746</th>\n",
              "      <td>31507187390691</td>\n",
              "      <td>147941492</td>\n",
              "      <td>40258063</td>\n",
              "      <td>2019-12-31 23:59:47</td>\n",
              "    </tr>\n",
              "    <tr>\n",
              "      <th>222747</th>\n",
              "      <td>31507191066627</td>\n",
              "      <td>154074176</td>\n",
              "      <td>2338306</td>\n",
              "      <td>2019-12-31 23:59:51</td>\n",
              "    </tr>\n",
              "    <tr>\n",
              "      <th>222748</th>\n",
              "      <td>31507191066628</td>\n",
              "      <td>187123853</td>\n",
              "      <td>2338306</td>\n",
              "      <td>2019-12-31 23:59:51</td>\n",
              "    </tr>\n",
              "    <tr>\n",
              "      <th>222749</th>\n",
              "      <td>31507196146800</td>\n",
              "      <td>31844790</td>\n",
              "      <td>95161930</td>\n",
              "      <td>2019-12-31 23:59:56</td>\n",
              "    </tr>\n",
              "  </tbody>\n",
              "</table>\n",
              "<p>222750 rows × 4 columns</p>\n",
              "</div>"
            ],
            "text/plain": [
              "               orderid     shopid     userid           event_time\n",
              "0       31075200506751    6042309   97707522  2019-12-27 00:00:00\n",
              "1       31075200506753    8715449   97707522  2019-12-27 00:00:00\n",
              "2       31075200506752  104804492   97707522  2019-12-27 00:00:00\n",
              "3       31075201870570  190969466  170182475  2019-12-27 00:00:02\n",
              "4       31075205798264    2859407   12532131  2019-12-27 00:00:05\n",
              "...                ...        ...        ...                  ...\n",
              "222745  31507183252446  149254894  193333760  2019-12-31 23:59:43\n",
              "222746  31507187390691  147941492   40258063  2019-12-31 23:59:47\n",
              "222747  31507191066627  154074176    2338306  2019-12-31 23:59:51\n",
              "222748  31507191066628  187123853    2338306  2019-12-31 23:59:51\n",
              "222749  31507196146800   31844790   95161930  2019-12-31 23:59:56\n",
              "\n",
              "[222750 rows x 4 columns]"
            ]
          },
          "metadata": {
            "tags": []
          },
          "execution_count": 3
        }
      ]
    },
    {
      "cell_type": "code",
      "metadata": {
        "id": "EsCT0V7MTrYi",
        "colab_type": "code",
        "colab": {}
      },
      "source": [
        "date = data['event_time']\n",
        "date_time = []\n",
        "for i in date:\n",
        "  date_time.append(datetime.strptime(i,\"%Y-%m-%d %H:%M:%S\"))"
      ],
      "execution_count": 4,
      "outputs": []
    },
    {
      "cell_type": "code",
      "metadata": {
        "id": "oz22fSwim3sQ",
        "colab_type": "code",
        "colab": {
          "base_uri": "https://localhost:8080/",
          "height": 419
        },
        "outputId": "002e6d59-5aea-47d2-803d-001324bad524"
      },
      "source": [
        "data['date_time'] = date_time\n",
        "data"
      ],
      "execution_count": 5,
      "outputs": [
        {
          "output_type": "execute_result",
          "data": {
            "text/html": [
              "<div>\n",
              "<style scoped>\n",
              "    .dataframe tbody tr th:only-of-type {\n",
              "        vertical-align: middle;\n",
              "    }\n",
              "\n",
              "    .dataframe tbody tr th {\n",
              "        vertical-align: top;\n",
              "    }\n",
              "\n",
              "    .dataframe thead th {\n",
              "        text-align: right;\n",
              "    }\n",
              "</style>\n",
              "<table border=\"1\" class=\"dataframe\">\n",
              "  <thead>\n",
              "    <tr style=\"text-align: right;\">\n",
              "      <th></th>\n",
              "      <th>orderid</th>\n",
              "      <th>shopid</th>\n",
              "      <th>userid</th>\n",
              "      <th>event_time</th>\n",
              "      <th>date_time</th>\n",
              "    </tr>\n",
              "  </thead>\n",
              "  <tbody>\n",
              "    <tr>\n",
              "      <th>0</th>\n",
              "      <td>31075200506751</td>\n",
              "      <td>6042309</td>\n",
              "      <td>97707522</td>\n",
              "      <td>2019-12-27 00:00:00</td>\n",
              "      <td>2019-12-27 00:00:00</td>\n",
              "    </tr>\n",
              "    <tr>\n",
              "      <th>1</th>\n",
              "      <td>31075200506753</td>\n",
              "      <td>8715449</td>\n",
              "      <td>97707522</td>\n",
              "      <td>2019-12-27 00:00:00</td>\n",
              "      <td>2019-12-27 00:00:00</td>\n",
              "    </tr>\n",
              "    <tr>\n",
              "      <th>2</th>\n",
              "      <td>31075200506752</td>\n",
              "      <td>104804492</td>\n",
              "      <td>97707522</td>\n",
              "      <td>2019-12-27 00:00:00</td>\n",
              "      <td>2019-12-27 00:00:00</td>\n",
              "    </tr>\n",
              "    <tr>\n",
              "      <th>3</th>\n",
              "      <td>31075201870570</td>\n",
              "      <td>190969466</td>\n",
              "      <td>170182475</td>\n",
              "      <td>2019-12-27 00:00:02</td>\n",
              "      <td>2019-12-27 00:00:02</td>\n",
              "    </tr>\n",
              "    <tr>\n",
              "      <th>4</th>\n",
              "      <td>31075205798264</td>\n",
              "      <td>2859407</td>\n",
              "      <td>12532131</td>\n",
              "      <td>2019-12-27 00:00:05</td>\n",
              "      <td>2019-12-27 00:00:05</td>\n",
              "    </tr>\n",
              "    <tr>\n",
              "      <th>...</th>\n",
              "      <td>...</td>\n",
              "      <td>...</td>\n",
              "      <td>...</td>\n",
              "      <td>...</td>\n",
              "      <td>...</td>\n",
              "    </tr>\n",
              "    <tr>\n",
              "      <th>222745</th>\n",
              "      <td>31507183252446</td>\n",
              "      <td>149254894</td>\n",
              "      <td>193333760</td>\n",
              "      <td>2019-12-31 23:59:43</td>\n",
              "      <td>2019-12-31 23:59:43</td>\n",
              "    </tr>\n",
              "    <tr>\n",
              "      <th>222746</th>\n",
              "      <td>31507187390691</td>\n",
              "      <td>147941492</td>\n",
              "      <td>40258063</td>\n",
              "      <td>2019-12-31 23:59:47</td>\n",
              "      <td>2019-12-31 23:59:47</td>\n",
              "    </tr>\n",
              "    <tr>\n",
              "      <th>222747</th>\n",
              "      <td>31507191066627</td>\n",
              "      <td>154074176</td>\n",
              "      <td>2338306</td>\n",
              "      <td>2019-12-31 23:59:51</td>\n",
              "      <td>2019-12-31 23:59:51</td>\n",
              "    </tr>\n",
              "    <tr>\n",
              "      <th>222748</th>\n",
              "      <td>31507191066628</td>\n",
              "      <td>187123853</td>\n",
              "      <td>2338306</td>\n",
              "      <td>2019-12-31 23:59:51</td>\n",
              "      <td>2019-12-31 23:59:51</td>\n",
              "    </tr>\n",
              "    <tr>\n",
              "      <th>222749</th>\n",
              "      <td>31507196146800</td>\n",
              "      <td>31844790</td>\n",
              "      <td>95161930</td>\n",
              "      <td>2019-12-31 23:59:56</td>\n",
              "      <td>2019-12-31 23:59:56</td>\n",
              "    </tr>\n",
              "  </tbody>\n",
              "</table>\n",
              "<p>222750 rows × 5 columns</p>\n",
              "</div>"
            ],
            "text/plain": [
              "               orderid     shopid  ...           event_time           date_time\n",
              "0       31075200506751    6042309  ...  2019-12-27 00:00:00 2019-12-27 00:00:00\n",
              "1       31075200506753    8715449  ...  2019-12-27 00:00:00 2019-12-27 00:00:00\n",
              "2       31075200506752  104804492  ...  2019-12-27 00:00:00 2019-12-27 00:00:00\n",
              "3       31075201870570  190969466  ...  2019-12-27 00:00:02 2019-12-27 00:00:02\n",
              "4       31075205798264    2859407  ...  2019-12-27 00:00:05 2019-12-27 00:00:05\n",
              "...                ...        ...  ...                  ...                 ...\n",
              "222745  31507183252446  149254894  ...  2019-12-31 23:59:43 2019-12-31 23:59:43\n",
              "222746  31507187390691  147941492  ...  2019-12-31 23:59:47 2019-12-31 23:59:47\n",
              "222747  31507191066627  154074176  ...  2019-12-31 23:59:51 2019-12-31 23:59:51\n",
              "222748  31507191066628  187123853  ...  2019-12-31 23:59:51 2019-12-31 23:59:51\n",
              "222749  31507196146800   31844790  ...  2019-12-31 23:59:56 2019-12-31 23:59:56\n",
              "\n",
              "[222750 rows x 5 columns]"
            ]
          },
          "metadata": {
            "tags": []
          },
          "execution_count": 5
        }
      ]
    },
    {
      "cell_type": "code",
      "metadata": {
        "id": "zldWspqN2mYr",
        "colab_type": "code",
        "colab": {
          "base_uri": "https://localhost:8080/",
          "height": 221
        },
        "outputId": "fed70ba9-013c-41b1-c66c-4a5e3232e7fb"
      },
      "source": [
        "data.info()"
      ],
      "execution_count": 6,
      "outputs": [
        {
          "output_type": "stream",
          "text": [
            "<class 'pandas.core.frame.DataFrame'>\n",
            "RangeIndex: 222750 entries, 0 to 222749\n",
            "Data columns (total 5 columns):\n",
            " #   Column      Non-Null Count   Dtype         \n",
            "---  ------      --------------   -----         \n",
            " 0   orderid     222750 non-null  int64         \n",
            " 1   shopid      222750 non-null  int64         \n",
            " 2   userid      222750 non-null  int64         \n",
            " 3   event_time  222750 non-null  object        \n",
            " 4   date_time   222750 non-null  datetime64[ns]\n",
            "dtypes: datetime64[ns](1), int64(3), object(1)\n",
            "memory usage: 8.5+ MB\n"
          ],
          "name": "stdout"
        }
      ]
    },
    {
      "cell_type": "code",
      "metadata": {
        "id": "QpoSmiCBEr_2",
        "colab_type": "code",
        "colab": {
          "base_uri": "https://localhost:8080/",
          "height": 34
        },
        "outputId": "cc882fc5-b7f2-438f-a505-847ae96b0d98"
      },
      "source": [
        "b = data['date_time'].loc[10]\n",
        "a = data['date_time'].loc[1]\n",
        "delt = b-a\n",
        "delt.total_seconds()"
      ],
      "execution_count": 7,
      "outputs": [
        {
          "output_type": "execute_result",
          "data": {
            "text/plain": [
              "8.0"
            ]
          },
          "metadata": {
            "tags": []
          },
          "execution_count": 7
        }
      ]
    },
    {
      "cell_type": "code",
      "metadata": {
        "id": "ha-AtymTBKjk",
        "colab_type": "code",
        "colab": {
          "base_uri": "https://localhost:8080/",
          "height": 359
        },
        "outputId": "06743561-d888-4cd0-af6b-17ab61294fed"
      },
      "source": [
        "test = data[12000:12010]\n",
        "test"
      ],
      "execution_count": 35,
      "outputs": [
        {
          "output_type": "execute_result",
          "data": {
            "text/html": [
              "<div>\n",
              "<style scoped>\n",
              "    .dataframe tbody tr th:only-of-type {\n",
              "        vertical-align: middle;\n",
              "    }\n",
              "\n",
              "    .dataframe tbody tr th {\n",
              "        vertical-align: top;\n",
              "    }\n",
              "\n",
              "    .dataframe thead th {\n",
              "        text-align: right;\n",
              "    }\n",
              "</style>\n",
              "<table border=\"1\" class=\"dataframe\">\n",
              "  <thead>\n",
              "    <tr style=\"text-align: right;\">\n",
              "      <th></th>\n",
              "      <th>orderid</th>\n",
              "      <th>shopid</th>\n",
              "      <th>userid</th>\n",
              "      <th>event_time</th>\n",
              "      <th>date_time</th>\n",
              "    </tr>\n",
              "  </thead>\n",
              "  <tbody>\n",
              "    <tr>\n",
              "      <th>12000</th>\n",
              "      <td>31113070286484</td>\n",
              "      <td>87514129</td>\n",
              "      <td>173072028</td>\n",
              "      <td>2019-12-27 10:31:11</td>\n",
              "      <td>2019-12-27 10:31:11</td>\n",
              "    </tr>\n",
              "    <tr>\n",
              "      <th>12001</th>\n",
              "      <td>31113072684918</td>\n",
              "      <td>121803928</td>\n",
              "      <td>214288915</td>\n",
              "      <td>2019-12-27 10:31:12</td>\n",
              "      <td>2019-12-27 10:31:12</td>\n",
              "    </tr>\n",
              "    <tr>\n",
              "      <th>12002</th>\n",
              "      <td>31113077304773</td>\n",
              "      <td>61556313</td>\n",
              "      <td>177824860</td>\n",
              "      <td>2019-12-27 10:31:17</td>\n",
              "      <td>2019-12-27 10:31:17</td>\n",
              "    </tr>\n",
              "    <tr>\n",
              "      <th>12003</th>\n",
              "      <td>31113077500298</td>\n",
              "      <td>135054372</td>\n",
              "      <td>127783159</td>\n",
              "      <td>2019-12-27 10:31:17</td>\n",
              "      <td>2019-12-27 10:31:17</td>\n",
              "    </tr>\n",
              "    <tr>\n",
              "      <th>12004</th>\n",
              "      <td>31113079910082</td>\n",
              "      <td>86285837</td>\n",
              "      <td>211417729</td>\n",
              "      <td>2019-12-27 10:31:19</td>\n",
              "      <td>2019-12-27 10:31:19</td>\n",
              "    </tr>\n",
              "    <tr>\n",
              "      <th>12005</th>\n",
              "      <td>31113081884314</td>\n",
              "      <td>31989591</td>\n",
              "      <td>159333606</td>\n",
              "      <td>2019-12-27 10:31:22</td>\n",
              "      <td>2019-12-27 10:31:22</td>\n",
              "    </tr>\n",
              "    <tr>\n",
              "      <th>12006</th>\n",
              "      <td>31113081884315</td>\n",
              "      <td>64375750</td>\n",
              "      <td>159333606</td>\n",
              "      <td>2019-12-27 10:31:22</td>\n",
              "      <td>2019-12-27 10:31:22</td>\n",
              "    </tr>\n",
              "    <tr>\n",
              "      <th>12007</th>\n",
              "      <td>31113081884313</td>\n",
              "      <td>149160743</td>\n",
              "      <td>159333606</td>\n",
              "      <td>2019-12-27 10:31:22</td>\n",
              "      <td>2019-12-27 10:31:22</td>\n",
              "    </tr>\n",
              "    <tr>\n",
              "      <th>12008</th>\n",
              "      <td>31113081884312</td>\n",
              "      <td>162292169</td>\n",
              "      <td>159333606</td>\n",
              "      <td>2019-12-27 10:31:22</td>\n",
              "      <td>2019-12-27 10:31:22</td>\n",
              "    </tr>\n",
              "    <tr>\n",
              "      <th>12009</th>\n",
              "      <td>31113090082043</td>\n",
              "      <td>110878494</td>\n",
              "      <td>90704489</td>\n",
              "      <td>2019-12-27 10:31:30</td>\n",
              "      <td>2019-12-27 10:31:30</td>\n",
              "    </tr>\n",
              "  </tbody>\n",
              "</table>\n",
              "</div>"
            ],
            "text/plain": [
              "              orderid     shopid  ...           event_time           date_time\n",
              "12000  31113070286484   87514129  ...  2019-12-27 10:31:11 2019-12-27 10:31:11\n",
              "12001  31113072684918  121803928  ...  2019-12-27 10:31:12 2019-12-27 10:31:12\n",
              "12002  31113077304773   61556313  ...  2019-12-27 10:31:17 2019-12-27 10:31:17\n",
              "12003  31113077500298  135054372  ...  2019-12-27 10:31:17 2019-12-27 10:31:17\n",
              "12004  31113079910082   86285837  ...  2019-12-27 10:31:19 2019-12-27 10:31:19\n",
              "12005  31113081884314   31989591  ...  2019-12-27 10:31:22 2019-12-27 10:31:22\n",
              "12006  31113081884315   64375750  ...  2019-12-27 10:31:22 2019-12-27 10:31:22\n",
              "12007  31113081884313  149160743  ...  2019-12-27 10:31:22 2019-12-27 10:31:22\n",
              "12008  31113081884312  162292169  ...  2019-12-27 10:31:22 2019-12-27 10:31:22\n",
              "12009  31113090082043  110878494  ...  2019-12-27 10:31:30 2019-12-27 10:31:30\n",
              "\n",
              "[10 rows x 5 columns]"
            ]
          },
          "metadata": {
            "tags": []
          },
          "execution_count": 35
        }
      ]
    },
    {
      "cell_type": "code",
      "metadata": {
        "id": "SwglzF5Bu1Bi",
        "colab_type": "code",
        "colab": {
          "base_uri": "https://localhost:8080/",
          "height": 34
        },
        "outputId": "f8b24ede-506d-4447-9b79-1b7a43328293"
      },
      "source": [
        "def check_window()\n",
        "delta = test['date_time'].loc[j] - initial\n",
        "print(delta.total_seconds())"
      ],
      "execution_count": 25,
      "outputs": [
        {
          "output_type": "execute_result",
          "data": {
            "text/plain": [
              "10"
            ]
          },
          "metadata": {
            "tags": []
          },
          "execution_count": 25
        }
      ]
    },
    {
      "cell_type": "code",
      "metadata": {
        "id": "CT0b6oebSrYY",
        "colab_type": "code",
        "colab": {
          "base_uri": "https://localhost:8080/",
          "height": 952
        },
        "outputId": "a6e929c2-1982-4e56-8886-50f530f30a90"
      },
      "source": [
        "for i in test.index:\n",
        "  initial = test['date_time'].loc[i]\n",
        "  for j in range(i, len(test.index)):\n",
        "    delta = test['date_time'].loc[j] - initial\n",
        "    print(delta.total_seconds())\n",
        "    "
      ],
      "execution_count": 30,
      "outputs": [
        {
          "output_type": "stream",
          "text": [
            "0.0\n",
            "0.0\n",
            "0.0\n",
            "2.0\n",
            "5.0\n",
            "5.0\n",
            "5.0\n",
            "8.0\n",
            "8.0\n",
            "8.0\n",
            "0.0\n",
            "0.0\n",
            "2.0\n",
            "5.0\n",
            "5.0\n",
            "5.0\n",
            "8.0\n",
            "8.0\n",
            "8.0\n",
            "0.0\n",
            "2.0\n",
            "5.0\n",
            "5.0\n",
            "5.0\n",
            "8.0\n",
            "8.0\n",
            "8.0\n",
            "0.0\n",
            "3.0\n",
            "3.0\n",
            "3.0\n",
            "6.0\n",
            "6.0\n",
            "6.0\n",
            "0.0\n",
            "0.0\n",
            "0.0\n",
            "3.0\n",
            "3.0\n",
            "3.0\n",
            "0.0\n",
            "0.0\n",
            "3.0\n",
            "3.0\n",
            "3.0\n",
            "0.0\n",
            "3.0\n",
            "3.0\n",
            "3.0\n",
            "0.0\n",
            "0.0\n",
            "0.0\n",
            "0.0\n",
            "0.0\n",
            "0.0\n"
          ],
          "name": "stdout"
        }
      ]
    },
    {
      "cell_type": "code",
      "metadata": {
        "id": "K1UWZcJBojDY",
        "colab_type": "code",
        "colab": {}
      },
      "source": [
        "def check_concentrate_rate():\n",
        "  concentrate_rate = #Number of Orders within 1 hour / Number of Unique Buyers within 1 hour\n",
        "  if concentrate_rate >= 3:\n",
        "    shop_list.append(shopid)\n",
        "  \n",
        "  return shop_list"
      ],
      "execution_count": null,
      "outputs": []
    },
    {
      "cell_type": "code",
      "metadata": {
        "id": "4vxLVQK-ojI6",
        "colab_type": "code",
        "colab": {}
      },
      "source": [
        "df.to_csv('CY_Team_submission4.csv') \n",
        "files.download('CY_Team_submission4.csv')"
      ],
      "execution_count": null,
      "outputs": []
    },
    {
      "cell_type": "code",
      "metadata": {
        "id": "5DOa3eMVoi-4",
        "colab_type": "code",
        "colab": {}
      },
      "source": [
        ""
      ],
      "execution_count": null,
      "outputs": []
    }
  ]
}