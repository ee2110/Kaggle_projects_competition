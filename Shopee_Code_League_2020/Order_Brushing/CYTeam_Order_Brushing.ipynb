{
  "nbformat": 4,
  "nbformat_minor": 0,
  "metadata": {
    "colab": {
      "name": "CYTeam_Order_Brushing.ipynb",
      "provenance": []
    },
    "kernelspec": {
      "name": "python3",
      "display_name": "Python 3"
    },
    "accelerator": "GPU"
  },
  "cells": [
    {
      "cell_type": "markdown",
      "metadata": {
        "id": "XmBojbb-gDOW",
        "colab_type": "text"
      },
      "source": [
        "# **Shopee Code League - Order Brushing**\n",
        "\n",
        "This notebook is for Shopee Code League Competition, Order Brushing, to detecting abnormal user behaviour. The competition details can be obtained from [here](https://www.kaggle.com/c/order-brushing-shopee-code-league/overview).\n",
        "\n",
        "Team name: CY Team (Malaysia)\n",
        "\n",
        "Team member:\n",
        "1. Chong Li Chuin\n",
        "2. Ee Yeo Keat"
      ]
    },
    {
      "cell_type": "markdown",
      "metadata": {
        "id": "u9F5x6ESuN-O",
        "colab_type": "text"
      },
      "source": [
        "# **Import libraries and read dataset**"
      ]
    },
    {
      "cell_type": "code",
      "metadata": {
        "id": "cQzqt-irZKlJ",
        "colab_type": "code",
        "colab": {}
      },
      "source": [
        "import pandas as pd\n",
        "import numpy as np\n",
        "import matplotlib.pyplot as plt\n",
        "import math\n",
        "import time\n",
        "from datetime import datetime\n",
        "from google.colab import files"
      ],
      "execution_count": 1,
      "outputs": []
    },
    {
      "cell_type": "code",
      "metadata": {
        "id": "2vMTr4gYadht",
        "colab_type": "code",
        "colab": {
          "base_uri": "https://localhost:8080/",
          "height": 419
        },
        "outputId": "300a6f29-761f-4ad6-80af-4e98a0fb97f9"
      },
      "source": [
        "data = pd.read_csv('order_brush_order.csv').sort_values(by=['event_time','shopid','userid'])\n",
        "data"
      ],
      "execution_count": 2,
      "outputs": [
        {
          "output_type": "execute_result",
          "data": {
            "text/html": [
              "<div>\n",
              "<style scoped>\n",
              "    .dataframe tbody tr th:only-of-type {\n",
              "        vertical-align: middle;\n",
              "    }\n",
              "\n",
              "    .dataframe tbody tr th {\n",
              "        vertical-align: top;\n",
              "    }\n",
              "\n",
              "    .dataframe thead th {\n",
              "        text-align: right;\n",
              "    }\n",
              "</style>\n",
              "<table border=\"1\" class=\"dataframe\">\n",
              "  <thead>\n",
              "    <tr style=\"text-align: right;\">\n",
              "      <th></th>\n",
              "      <th>orderid</th>\n",
              "      <th>shopid</th>\n",
              "      <th>userid</th>\n",
              "      <th>event_time</th>\n",
              "    </tr>\n",
              "  </thead>\n",
              "  <tbody>\n",
              "    <tr>\n",
              "      <th>150060</th>\n",
              "      <td>31075200506751</td>\n",
              "      <td>6042309</td>\n",
              "      <td>97707522</td>\n",
              "      <td>2019-12-27 00:00:00</td>\n",
              "    </tr>\n",
              "    <tr>\n",
              "      <th>81020</th>\n",
              "      <td>31075200506753</td>\n",
              "      <td>8715449</td>\n",
              "      <td>97707522</td>\n",
              "      <td>2019-12-27 00:00:00</td>\n",
              "    </tr>\n",
              "    <tr>\n",
              "      <th>25985</th>\n",
              "      <td>31075200506752</td>\n",
              "      <td>104804492</td>\n",
              "      <td>97707522</td>\n",
              "      <td>2019-12-27 00:00:00</td>\n",
              "    </tr>\n",
              "    <tr>\n",
              "      <th>146598</th>\n",
              "      <td>31075201870570</td>\n",
              "      <td>190969466</td>\n",
              "      <td>170182475</td>\n",
              "      <td>2019-12-27 00:00:02</td>\n",
              "    </tr>\n",
              "    <tr>\n",
              "      <th>80355</th>\n",
              "      <td>31075205798264</td>\n",
              "      <td>2859407</td>\n",
              "      <td>12532131</td>\n",
              "      <td>2019-12-27 00:00:05</td>\n",
              "    </tr>\n",
              "    <tr>\n",
              "      <th>...</th>\n",
              "      <td>...</td>\n",
              "      <td>...</td>\n",
              "      <td>...</td>\n",
              "      <td>...</td>\n",
              "    </tr>\n",
              "    <tr>\n",
              "      <th>114113</th>\n",
              "      <td>31507183252446</td>\n",
              "      <td>149254894</td>\n",
              "      <td>193333760</td>\n",
              "      <td>2019-12-31 23:59:43</td>\n",
              "    </tr>\n",
              "    <tr>\n",
              "      <th>206585</th>\n",
              "      <td>31507187390691</td>\n",
              "      <td>147941492</td>\n",
              "      <td>40258063</td>\n",
              "      <td>2019-12-31 23:59:47</td>\n",
              "    </tr>\n",
              "    <tr>\n",
              "      <th>160657</th>\n",
              "      <td>31507191066627</td>\n",
              "      <td>154074176</td>\n",
              "      <td>2338306</td>\n",
              "      <td>2019-12-31 23:59:51</td>\n",
              "    </tr>\n",
              "    <tr>\n",
              "      <th>126212</th>\n",
              "      <td>31507191066628</td>\n",
              "      <td>187123853</td>\n",
              "      <td>2338306</td>\n",
              "      <td>2019-12-31 23:59:51</td>\n",
              "    </tr>\n",
              "    <tr>\n",
              "      <th>179881</th>\n",
              "      <td>31507196146800</td>\n",
              "      <td>31844790</td>\n",
              "      <td>95161930</td>\n",
              "      <td>2019-12-31 23:59:56</td>\n",
              "    </tr>\n",
              "  </tbody>\n",
              "</table>\n",
              "<p>222750 rows × 4 columns</p>\n",
              "</div>"
            ],
            "text/plain": [
              "               orderid     shopid     userid           event_time\n",
              "150060  31075200506751    6042309   97707522  2019-12-27 00:00:00\n",
              "81020   31075200506753    8715449   97707522  2019-12-27 00:00:00\n",
              "25985   31075200506752  104804492   97707522  2019-12-27 00:00:00\n",
              "146598  31075201870570  190969466  170182475  2019-12-27 00:00:02\n",
              "80355   31075205798264    2859407   12532131  2019-12-27 00:00:05\n",
              "...                ...        ...        ...                  ...\n",
              "114113  31507183252446  149254894  193333760  2019-12-31 23:59:43\n",
              "206585  31507187390691  147941492   40258063  2019-12-31 23:59:47\n",
              "160657  31507191066627  154074176    2338306  2019-12-31 23:59:51\n",
              "126212  31507191066628  187123853    2338306  2019-12-31 23:59:51\n",
              "179881  31507196146800   31844790   95161930  2019-12-31 23:59:56\n",
              "\n",
              "[222750 rows x 4 columns]"
            ]
          },
          "metadata": {
            "tags": []
          },
          "execution_count": 2
        }
      ]
    },
    {
      "cell_type": "code",
      "metadata": {
        "id": "EsCT0V7MTrYi",
        "colab_type": "code",
        "colab": {
          "base_uri": "https://localhost:8080/",
          "height": 221
        },
        "outputId": "4fc57cca-4047-4562-9645-c75828647dc0"
      },
      "source": [
        "date = data['event_time']\n",
        "date"
      ],
      "execution_count": 4,
      "outputs": [
        {
          "output_type": "execute_result",
          "data": {
            "text/plain": [
              "150060    2019-12-27 00:00:00\n",
              "81020     2019-12-27 00:00:00\n",
              "25985     2019-12-27 00:00:00\n",
              "146598    2019-12-27 00:00:02\n",
              "80355     2019-12-27 00:00:05\n",
              "                 ...         \n",
              "114113    2019-12-31 23:59:43\n",
              "206585    2019-12-31 23:59:47\n",
              "160657    2019-12-31 23:59:51\n",
              "126212    2019-12-31 23:59:51\n",
              "179881    2019-12-31 23:59:56\n",
              "Name: event_time, Length: 222750, dtype: object"
            ]
          },
          "metadata": {
            "tags": []
          },
          "execution_count": 4
        }
      ]
    },
    {
      "cell_type": "code",
      "metadata": {
        "id": "54sLPICuuSlV",
        "colab_type": "code",
        "colab": {
          "base_uri": "https://localhost:8080/",
          "height": 1000
        },
        "outputId": "17602934-caf9-496a-cea1-3e09ae63743b"
      },
      "source": [
        "d = []\n",
        "t = []\n",
        "\n",
        "for i in date[:100]:\n",
        "  date_time = datetime.strptime(i,\"%Y-%m-%d %H:%M:%S\")\n",
        "  d = date_time.date()\n",
        "  t = date_time.time()\n",
        "  print(d)\n",
        "  print(t)"
      ],
      "execution_count": 29,
      "outputs": [
        {
          "output_type": "stream",
          "text": [
            "2019-12-27\n",
            "00:00:00\n",
            "2019-12-27\n",
            "00:00:00\n",
            "2019-12-27\n",
            "00:00:00\n",
            "2019-12-27\n",
            "00:00:02\n",
            "2019-12-27\n",
            "00:00:05\n",
            "2019-12-27\n",
            "00:00:05\n",
            "2019-12-27\n",
            "00:00:05\n",
            "2019-12-27\n",
            "00:00:08\n",
            "2019-12-27\n",
            "00:00:08\n",
            "2019-12-27\n",
            "00:00:08\n",
            "2019-12-27\n",
            "00:00:08\n",
            "2019-12-27\n",
            "00:00:08\n",
            "2019-12-27\n",
            "00:00:08\n",
            "2019-12-27\n",
            "00:00:11\n",
            "2019-12-27\n",
            "00:00:11\n",
            "2019-12-27\n",
            "00:00:11\n",
            "2019-12-27\n",
            "00:00:12\n",
            "2019-12-27\n",
            "00:00:16\n",
            "2019-12-27\n",
            "00:00:16\n",
            "2019-12-27\n",
            "00:00:16\n",
            "2019-12-27\n",
            "00:00:16\n",
            "2019-12-27\n",
            "00:00:18\n",
            "2019-12-27\n",
            "00:00:23\n",
            "2019-12-27\n",
            "00:00:23\n",
            "2019-12-27\n",
            "00:00:23\n",
            "2019-12-27\n",
            "00:00:24\n",
            "2019-12-27\n",
            "00:00:24\n",
            "2019-12-27\n",
            "00:00:24\n",
            "2019-12-27\n",
            "00:00:24\n",
            "2019-12-27\n",
            "00:00:24\n",
            "2019-12-27\n",
            "00:00:24\n",
            "2019-12-27\n",
            "00:00:24\n",
            "2019-12-27\n",
            "00:00:24\n",
            "2019-12-27\n",
            "00:00:24\n",
            "2019-12-27\n",
            "00:00:26\n",
            "2019-12-27\n",
            "00:00:26\n",
            "2019-12-27\n",
            "00:00:29\n",
            "2019-12-27\n",
            "00:00:31\n",
            "2019-12-27\n",
            "00:00:32\n",
            "2019-12-27\n",
            "00:00:33\n",
            "2019-12-27\n",
            "00:00:35\n",
            "2019-12-27\n",
            "00:00:36\n",
            "2019-12-27\n",
            "00:00:37\n",
            "2019-12-27\n",
            "00:00:37\n",
            "2019-12-27\n",
            "00:00:40\n",
            "2019-12-27\n",
            "00:00:42\n",
            "2019-12-27\n",
            "00:00:43\n",
            "2019-12-27\n",
            "00:00:43\n",
            "2019-12-27\n",
            "00:00:44\n",
            "2019-12-27\n",
            "00:00:44\n",
            "2019-12-27\n",
            "00:00:47\n",
            "2019-12-27\n",
            "00:00:48\n",
            "2019-12-27\n",
            "00:00:51\n",
            "2019-12-27\n",
            "00:00:51\n",
            "2019-12-27\n",
            "00:00:51\n",
            "2019-12-27\n",
            "00:00:51\n",
            "2019-12-27\n",
            "00:00:54\n",
            "2019-12-27\n",
            "00:00:54\n",
            "2019-12-27\n",
            "00:00:54\n",
            "2019-12-27\n",
            "00:00:54\n",
            "2019-12-27\n",
            "00:00:55\n",
            "2019-12-27\n",
            "00:00:55\n",
            "2019-12-27\n",
            "00:00:55\n",
            "2019-12-27\n",
            "00:00:58\n",
            "2019-12-27\n",
            "00:00:58\n",
            "2019-12-27\n",
            "00:00:58\n",
            "2019-12-27\n",
            "00:00:58\n",
            "2019-12-27\n",
            "00:00:59\n",
            "2019-12-27\n",
            "00:01:01\n",
            "2019-12-27\n",
            "00:01:02\n",
            "2019-12-27\n",
            "00:01:02\n",
            "2019-12-27\n",
            "00:01:03\n",
            "2019-12-27\n",
            "00:01:06\n",
            "2019-12-27\n",
            "00:01:06\n",
            "2019-12-27\n",
            "00:01:07\n",
            "2019-12-27\n",
            "00:01:08\n",
            "2019-12-27\n",
            "00:01:08\n",
            "2019-12-27\n",
            "00:01:10\n",
            "2019-12-27\n",
            "00:01:11\n",
            "2019-12-27\n",
            "00:01:13\n",
            "2019-12-27\n",
            "00:01:13\n",
            "2019-12-27\n",
            "00:01:14\n",
            "2019-12-27\n",
            "00:01:16\n",
            "2019-12-27\n",
            "00:01:16\n",
            "2019-12-27\n",
            "00:01:16\n",
            "2019-12-27\n",
            "00:01:16\n",
            "2019-12-27\n",
            "00:01:17\n",
            "2019-12-27\n",
            "00:01:18\n",
            "2019-12-27\n",
            "00:01:19\n",
            "2019-12-27\n",
            "00:01:19\n",
            "2019-12-27\n",
            "00:01:20\n",
            "2019-12-27\n",
            "00:01:23\n",
            "2019-12-27\n",
            "00:01:23\n",
            "2019-12-27\n",
            "00:01:24\n",
            "2019-12-27\n",
            "00:01:25\n",
            "2019-12-27\n",
            "00:01:25\n",
            "2019-12-27\n",
            "00:01:25\n",
            "2019-12-27\n",
            "00:01:28\n",
            "2019-12-27\n",
            "00:01:29\n",
            "2019-12-27\n",
            "00:01:32\n"
          ],
          "name": "stdout"
        }
      ]
    },
    {
      "cell_type": "code",
      "metadata": {
        "id": "A1r6Ucih1dG7",
        "colab_type": "code",
        "colab": {
          "base_uri": "https://localhost:8080/",
          "height": 231
        },
        "outputId": "70de3c5c-8873-4b3f-8a7c-d373c29c4347"
      },
      "source": [
        "d = []\n",
        "t = []\n",
        "\n",
        "for i in date[:10]:\n",
        "  date_time = datetime.strptime(i,\"%Y-%m-%d %H:%M:%S\")\n",
        "  d,t = date_time.apply(lambda x:x.time()), date_time.apply(lambda x:x.date())\n",
        "  print(d)\n",
        "  print(t)"
      ],
      "execution_count": 21,
      "outputs": [
        {
          "output_type": "error",
          "ename": "AttributeError",
          "evalue": "ignored",
          "traceback": [
            "\u001b[0;31m---------------------------------------------------------------------------\u001b[0m",
            "\u001b[0;31mAttributeError\u001b[0m                            Traceback (most recent call last)",
            "\u001b[0;32m<ipython-input-21-df4faeeb4c57>\u001b[0m in \u001b[0;36m<module>\u001b[0;34m()\u001b[0m\n\u001b[1;32m      4\u001b[0m \u001b[0;32mfor\u001b[0m \u001b[0mi\u001b[0m \u001b[0;32min\u001b[0m \u001b[0mdate\u001b[0m\u001b[0;34m[\u001b[0m\u001b[0;34m:\u001b[0m\u001b[0;36m10\u001b[0m\u001b[0;34m]\u001b[0m\u001b[0;34m:\u001b[0m\u001b[0;34m\u001b[0m\u001b[0;34m\u001b[0m\u001b[0m\n\u001b[1;32m      5\u001b[0m   \u001b[0mdate_time\u001b[0m \u001b[0;34m=\u001b[0m \u001b[0mdatetime\u001b[0m\u001b[0;34m.\u001b[0m\u001b[0mstrptime\u001b[0m\u001b[0;34m(\u001b[0m\u001b[0mi\u001b[0m\u001b[0;34m,\u001b[0m\u001b[0;34m\"%Y-%m-%d %H:%M:%S\"\u001b[0m\u001b[0;34m)\u001b[0m\u001b[0;34m\u001b[0m\u001b[0;34m\u001b[0m\u001b[0m\n\u001b[0;32m----> 6\u001b[0;31m   \u001b[0md\u001b[0m\u001b[0;34m,\u001b[0m\u001b[0mt\u001b[0m \u001b[0;34m=\u001b[0m \u001b[0mdate_time\u001b[0m\u001b[0;34m.\u001b[0m\u001b[0mapply\u001b[0m\u001b[0;34m(\u001b[0m\u001b[0;32mlambda\u001b[0m \u001b[0mx\u001b[0m\u001b[0;34m:\u001b[0m\u001b[0mx\u001b[0m\u001b[0;34m.\u001b[0m\u001b[0mtime\u001b[0m\u001b[0;34m(\u001b[0m\u001b[0;34m)\u001b[0m\u001b[0;34m)\u001b[0m\u001b[0;34m,\u001b[0m \u001b[0mdate_time\u001b[0m\u001b[0;34m.\u001b[0m\u001b[0mapply\u001b[0m\u001b[0;34m(\u001b[0m\u001b[0;32mlambda\u001b[0m \u001b[0mx\u001b[0m\u001b[0;34m:\u001b[0m\u001b[0mx\u001b[0m\u001b[0;34m.\u001b[0m\u001b[0mdate\u001b[0m\u001b[0;34m(\u001b[0m\u001b[0;34m)\u001b[0m\u001b[0;34m)\u001b[0m\u001b[0;34m\u001b[0m\u001b[0;34m\u001b[0m\u001b[0m\n\u001b[0m\u001b[1;32m      7\u001b[0m   \u001b[0mprint\u001b[0m\u001b[0;34m(\u001b[0m\u001b[0md\u001b[0m\u001b[0;34m)\u001b[0m\u001b[0;34m\u001b[0m\u001b[0;34m\u001b[0m\u001b[0m\n\u001b[1;32m      8\u001b[0m   \u001b[0mprint\u001b[0m\u001b[0;34m(\u001b[0m\u001b[0mt\u001b[0m\u001b[0;34m)\u001b[0m\u001b[0;34m\u001b[0m\u001b[0;34m\u001b[0m\u001b[0m\n",
            "\u001b[0;31mAttributeError\u001b[0m: 'datetime.datetime' object has no attribute 'apply'"
          ]
        }
      ]
    },
    {
      "cell_type": "code",
      "metadata": {
        "id": "CT0b6oebSrYY",
        "colab_type": "code",
        "colab": {
          "base_uri": "https://localhost:8080/",
          "height": 306
        },
        "outputId": "c7f457e7-fe94-49c5-fb3c-18795def8123"
      },
      "source": [
        "data['Time'],data['Date']= date.apply(lambda x:x.time()), date.apply(lambda x:x.date())\n",
        "data"
      ],
      "execution_count": 9,
      "outputs": [
        {
          "output_type": "error",
          "ename": "AttributeError",
          "evalue": "ignored",
          "traceback": [
            "\u001b[0;31m---------------------------------------------------------------------------\u001b[0m",
            "\u001b[0;31mAttributeError\u001b[0m                            Traceback (most recent call last)",
            "\u001b[0;32m<ipython-input-9-40d77e39165e>\u001b[0m in \u001b[0;36m<module>\u001b[0;34m()\u001b[0m\n\u001b[0;32m----> 1\u001b[0;31m \u001b[0mdata\u001b[0m\u001b[0;34m[\u001b[0m\u001b[0;34m'Time'\u001b[0m\u001b[0;34m]\u001b[0m\u001b[0;34m,\u001b[0m\u001b[0mdata\u001b[0m\u001b[0;34m[\u001b[0m\u001b[0;34m'Date'\u001b[0m\u001b[0;34m]\u001b[0m\u001b[0;34m=\u001b[0m \u001b[0mdata\u001b[0m\u001b[0;34m[\u001b[0m\u001b[0;34m'event_time'\u001b[0m\u001b[0;34m]\u001b[0m\u001b[0;34m.\u001b[0m\u001b[0mapply\u001b[0m\u001b[0;34m(\u001b[0m\u001b[0;32mlambda\u001b[0m \u001b[0mx\u001b[0m\u001b[0;34m:\u001b[0m\u001b[0mx\u001b[0m\u001b[0;34m.\u001b[0m\u001b[0mtime\u001b[0m\u001b[0;34m(\u001b[0m\u001b[0;34m)\u001b[0m\u001b[0;34m)\u001b[0m\u001b[0;34m,\u001b[0m \u001b[0mdate\u001b[0m\u001b[0;34m.\u001b[0m\u001b[0mapply\u001b[0m\u001b[0;34m(\u001b[0m\u001b[0;32mlambda\u001b[0m \u001b[0mx\u001b[0m\u001b[0;34m:\u001b[0m\u001b[0mx\u001b[0m\u001b[0;34m.\u001b[0m\u001b[0mdate\u001b[0m\u001b[0;34m(\u001b[0m\u001b[0;34m)\u001b[0m\u001b[0;34m)\u001b[0m\u001b[0;34m\u001b[0m\u001b[0;34m\u001b[0m\u001b[0m\n\u001b[0m\u001b[1;32m      2\u001b[0m \u001b[0mdata\u001b[0m\u001b[0;34m\u001b[0m\u001b[0;34m\u001b[0m\u001b[0m\n",
            "\u001b[0;32m/usr/local/lib/python3.6/dist-packages/pandas/core/series.py\u001b[0m in \u001b[0;36mapply\u001b[0;34m(self, func, convert_dtype, args, **kwds)\u001b[0m\n\u001b[1;32m   3846\u001b[0m             \u001b[0;32melse\u001b[0m\u001b[0;34m:\u001b[0m\u001b[0;34m\u001b[0m\u001b[0;34m\u001b[0m\u001b[0m\n\u001b[1;32m   3847\u001b[0m                 \u001b[0mvalues\u001b[0m \u001b[0;34m=\u001b[0m \u001b[0mself\u001b[0m\u001b[0;34m.\u001b[0m\u001b[0mastype\u001b[0m\u001b[0;34m(\u001b[0m\u001b[0mobject\u001b[0m\u001b[0;34m)\u001b[0m\u001b[0;34m.\u001b[0m\u001b[0mvalues\u001b[0m\u001b[0;34m\u001b[0m\u001b[0;34m\u001b[0m\u001b[0m\n\u001b[0;32m-> 3848\u001b[0;31m                 \u001b[0mmapped\u001b[0m \u001b[0;34m=\u001b[0m \u001b[0mlib\u001b[0m\u001b[0;34m.\u001b[0m\u001b[0mmap_infer\u001b[0m\u001b[0;34m(\u001b[0m\u001b[0mvalues\u001b[0m\u001b[0;34m,\u001b[0m \u001b[0mf\u001b[0m\u001b[0;34m,\u001b[0m \u001b[0mconvert\u001b[0m\u001b[0;34m=\u001b[0m\u001b[0mconvert_dtype\u001b[0m\u001b[0;34m)\u001b[0m\u001b[0;34m\u001b[0m\u001b[0;34m\u001b[0m\u001b[0m\n\u001b[0m\u001b[1;32m   3849\u001b[0m \u001b[0;34m\u001b[0m\u001b[0m\n\u001b[1;32m   3850\u001b[0m         \u001b[0;32mif\u001b[0m \u001b[0mlen\u001b[0m\u001b[0;34m(\u001b[0m\u001b[0mmapped\u001b[0m\u001b[0;34m)\u001b[0m \u001b[0;32mand\u001b[0m \u001b[0misinstance\u001b[0m\u001b[0;34m(\u001b[0m\u001b[0mmapped\u001b[0m\u001b[0;34m[\u001b[0m\u001b[0;36m0\u001b[0m\u001b[0;34m]\u001b[0m\u001b[0;34m,\u001b[0m \u001b[0mSeries\u001b[0m\u001b[0;34m)\u001b[0m\u001b[0;34m:\u001b[0m\u001b[0;34m\u001b[0m\u001b[0;34m\u001b[0m\u001b[0m\n",
            "\u001b[0;32mpandas/_libs/lib.pyx\u001b[0m in \u001b[0;36mpandas._libs.lib.map_infer\u001b[0;34m()\u001b[0m\n",
            "\u001b[0;32m<ipython-input-9-40d77e39165e>\u001b[0m in \u001b[0;36m<lambda>\u001b[0;34m(x)\u001b[0m\n\u001b[0;32m----> 1\u001b[0;31m \u001b[0mdata\u001b[0m\u001b[0;34m[\u001b[0m\u001b[0;34m'Time'\u001b[0m\u001b[0;34m]\u001b[0m\u001b[0;34m,\u001b[0m\u001b[0mdata\u001b[0m\u001b[0;34m[\u001b[0m\u001b[0;34m'Date'\u001b[0m\u001b[0;34m]\u001b[0m\u001b[0;34m=\u001b[0m \u001b[0mdata\u001b[0m\u001b[0;34m[\u001b[0m\u001b[0;34m'event_time'\u001b[0m\u001b[0;34m]\u001b[0m\u001b[0;34m.\u001b[0m\u001b[0mapply\u001b[0m\u001b[0;34m(\u001b[0m\u001b[0;32mlambda\u001b[0m \u001b[0mx\u001b[0m\u001b[0;34m:\u001b[0m\u001b[0mx\u001b[0m\u001b[0;34m.\u001b[0m\u001b[0mtime\u001b[0m\u001b[0;34m(\u001b[0m\u001b[0;34m)\u001b[0m\u001b[0;34m)\u001b[0m\u001b[0;34m,\u001b[0m \u001b[0mdate\u001b[0m\u001b[0;34m.\u001b[0m\u001b[0mapply\u001b[0m\u001b[0;34m(\u001b[0m\u001b[0;32mlambda\u001b[0m \u001b[0mx\u001b[0m\u001b[0;34m:\u001b[0m\u001b[0mx\u001b[0m\u001b[0;34m.\u001b[0m\u001b[0mdate\u001b[0m\u001b[0;34m(\u001b[0m\u001b[0;34m)\u001b[0m\u001b[0;34m)\u001b[0m\u001b[0;34m\u001b[0m\u001b[0;34m\u001b[0m\u001b[0m\n\u001b[0m\u001b[1;32m      2\u001b[0m \u001b[0mdata\u001b[0m\u001b[0;34m\u001b[0m\u001b[0;34m\u001b[0m\u001b[0m\n",
            "\u001b[0;31mAttributeError\u001b[0m: 'str' object has no attribute 'time'"
          ]
        }
      ]
    },
    {
      "cell_type": "code",
      "metadata": {
        "id": "K1UWZcJBojDY",
        "colab_type": "code",
        "colab": {}
      },
      "source": [
        "def check_concentrate_rate():\n",
        "  concentrate_rate = #Number of Orders within 1 hour / Number of Unique Buyers within 1 hour\n",
        "  if concentrate_rate >= 3:\n",
        "    shop_list.append(shopid)\n",
        "  \n",
        "  return shop_list"
      ],
      "execution_count": null,
      "outputs": []
    },
    {
      "cell_type": "code",
      "metadata": {
        "id": "1TF0iGBv-ZbJ",
        "colab_type": "code",
        "colab": {
          "base_uri": "https://localhost:8080/",
          "height": 221
        },
        "outputId": "fd784b44-2d63-49ee-9c43-e63c345359f9"
      },
      "source": [
        "save_data = data.shopid.unique\n",
        "save_data"
      ],
      "execution_count": null,
      "outputs": [
        {
          "output_type": "execute_result",
          "data": {
            "text/plain": [
              "<bound method Series.unique of 150060      6042309\n",
              "81020       8715449\n",
              "25985     104804492\n",
              "146598    190969466\n",
              "80355       2859407\n",
              "            ...    \n",
              "114113    149254894\n",
              "206585    147941492\n",
              "160657    154074176\n",
              "126212    187123853\n",
              "179881     31844790\n",
              "Name: shopid, Length: 222750, dtype: int64>"
            ]
          },
          "metadata": {
            "tags": []
          },
          "execution_count": 106
        }
      ]
    },
    {
      "cell_type": "code",
      "metadata": {
        "id": "4vxLVQK-ojI6",
        "colab_type": "code",
        "colab": {}
      },
      "source": [
        "df.to_csv('CY_Team_submission4.csv') \n",
        "files.download('CY_Team_submission4.csv')"
      ],
      "execution_count": null,
      "outputs": []
    },
    {
      "cell_type": "code",
      "metadata": {
        "id": "5DOa3eMVoi-4",
        "colab_type": "code",
        "colab": {}
      },
      "source": [
        ""
      ],
      "execution_count": null,
      "outputs": []
    }
  ]
}