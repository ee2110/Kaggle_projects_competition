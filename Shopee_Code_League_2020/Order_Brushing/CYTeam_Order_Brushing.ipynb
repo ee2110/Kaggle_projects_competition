{
  "nbformat": 4,
  "nbformat_minor": 0,
  "metadata": {
    "colab": {
      "name": "CYTeam_Order_Brushing.ipynb",
      "provenance": [],
      "collapsed_sections": []
    },
    "kernelspec": {
      "name": "python3",
      "display_name": "Python 3"
    },
    "accelerator": "GPU"
  },
  "cells": [
    {
      "cell_type": "markdown",
      "metadata": {
        "id": "XmBojbb-gDOW",
        "colab_type": "text"
      },
      "source": [
        "# **Shopee Code League - Order Brushing**\n",
        "\n",
        "This notebook is for Shopee Code League Competition, Order Brushing, to detecting abnormal user behaviour. The competition details can be obtained from [here](https://www.kaggle.com/c/order-brushing-shopee-code-league/overview).\n",
        "\n",
        "Team name: CY Team (Malaysia)\n",
        "\n",
        "Team member:\n",
        "1. Chong Li Chuin\n",
        "2. Ee Yeo Keat"
      ]
    },
    {
      "cell_type": "markdown",
      "metadata": {
        "id": "u9F5x6ESuN-O",
        "colab_type": "text"
      },
      "source": [
        "# **Import libraries and read dataset**"
      ]
    },
    {
      "cell_type": "code",
      "metadata": {
        "id": "cQzqt-irZKlJ",
        "colab_type": "code",
        "colab": {}
      },
      "source": [
        "import pandas as pd\n",
        "import numpy as np\n",
        "import matplotlib.pyplot as plt\n",
        "import math\n",
        "import time\n",
        "from datetime import datetime\n",
        "from datetime import timedelta\n",
        "from google.colab import files"
      ],
      "execution_count": 1,
      "outputs": []
    },
    {
      "cell_type": "code",
      "metadata": {
        "id": "_4jdOWfwud5X",
        "colab_type": "code",
        "colab": {
          "base_uri": "https://localhost:8080/",
          "height": 476
        },
        "outputId": "e449af11-9835-4845-8424-00fd6773fefa"
      },
      "source": [
        "from tensorflow.python.client import device_lib\n",
        "check_device = device_lib.list_local_devices()\n",
        "check_device"
      ],
      "execution_count": 2,
      "outputs": [
        {
          "output_type": "execute_result",
          "data": {
            "text/plain": [
              "[name: \"/device:CPU:0\"\n",
              " device_type: \"CPU\"\n",
              " memory_limit: 268435456\n",
              " locality {\n",
              " }\n",
              " incarnation: 15985207766557083372, name: \"/device:XLA_CPU:0\"\n",
              " device_type: \"XLA_CPU\"\n",
              " memory_limit: 17179869184\n",
              " locality {\n",
              " }\n",
              " incarnation: 12156208084796436443\n",
              " physical_device_desc: \"device: XLA_CPU device\", name: \"/device:XLA_GPU:0\"\n",
              " device_type: \"XLA_GPU\"\n",
              " memory_limit: 17179869184\n",
              " locality {\n",
              " }\n",
              " incarnation: 16020853725395998432\n",
              " physical_device_desc: \"device: XLA_GPU device\", name: \"/device:GPU:0\"\n",
              " device_type: \"GPU\"\n",
              " memory_limit: 11150726272\n",
              " locality {\n",
              "   bus_id: 1\n",
              "   links {\n",
              "   }\n",
              " }\n",
              " incarnation: 6272310927720254742\n",
              " physical_device_desc: \"device: 0, name: Tesla K80, pci bus id: 0000:00:04.0, compute capability: 3.7\"]"
            ]
          },
          "metadata": {
            "tags": []
          },
          "execution_count": 2
        }
      ]
    },
    {
      "cell_type": "code",
      "metadata": {
        "id": "2vMTr4gYadht",
        "colab_type": "code",
        "colab": {
          "base_uri": "https://localhost:8080/",
          "height": 390
        },
        "outputId": "1d3eca83-172e-496b-c2ea-9d05c2a8f4d9"
      },
      "source": [
        "# order_brush_order.csv\n",
        "data = pd.read_csv('test_brush.csv', index_col=0).sort_values(by=['event_time','shopid','userid']).reset_index()\n",
        "data"
      ],
      "execution_count": 22,
      "outputs": [
        {
          "output_type": "execute_result",
          "data": {
            "text/html": [
              "<div>\n",
              "<style scoped>\n",
              "    .dataframe tbody tr th:only-of-type {\n",
              "        vertical-align: middle;\n",
              "    }\n",
              "\n",
              "    .dataframe tbody tr th {\n",
              "        vertical-align: top;\n",
              "    }\n",
              "\n",
              "    .dataframe thead th {\n",
              "        text-align: right;\n",
              "    }\n",
              "</style>\n",
              "<table border=\"1\" class=\"dataframe\">\n",
              "  <thead>\n",
              "    <tr style=\"text-align: right;\">\n",
              "      <th></th>\n",
              "      <th>orderid</th>\n",
              "      <th>shopid</th>\n",
              "      <th>userid</th>\n",
              "      <th>event_time</th>\n",
              "    </tr>\n",
              "  </thead>\n",
              "  <tbody>\n",
              "    <tr>\n",
              "      <th>0</th>\n",
              "      <td>31388857391599</td>\n",
              "      <td>91242967</td>\n",
              "      <td>112494421</td>\n",
              "      <td>2019-12-30 15:07:37</td>\n",
              "    </tr>\n",
              "    <tr>\n",
              "      <th>1</th>\n",
              "      <td>31388858606904</td>\n",
              "      <td>85669731</td>\n",
              "      <td>112494421</td>\n",
              "      <td>2019-12-30 15:07:38</td>\n",
              "    </tr>\n",
              "    <tr>\n",
              "      <th>2</th>\n",
              "      <td>31388860144322</td>\n",
              "      <td>85669731</td>\n",
              "      <td>112494421</td>\n",
              "      <td>2019-12-30 15:07:41</td>\n",
              "    </tr>\n",
              "    <tr>\n",
              "      <th>3</th>\n",
              "      <td>31388862051153</td>\n",
              "      <td>85669731</td>\n",
              "      <td>112494421</td>\n",
              "      <td>2019-12-30 15:07:42</td>\n",
              "    </tr>\n",
              "    <tr>\n",
              "      <th>4</th>\n",
              "      <td>31388864143841</td>\n",
              "      <td>68986766</td>\n",
              "      <td>65129646</td>\n",
              "      <td>2019-12-30 15:07:45</td>\n",
              "    </tr>\n",
              "    <tr>\n",
              "      <th>5</th>\n",
              "      <td>31388864143840</td>\n",
              "      <td>85669731</td>\n",
              "      <td>10209247</td>\n",
              "      <td>2019-12-30 15:07:45</td>\n",
              "    </tr>\n",
              "    <tr>\n",
              "      <th>6</th>\n",
              "      <td>31388864143842</td>\n",
              "      <td>91242967</td>\n",
              "      <td>10209247</td>\n",
              "      <td>2019-12-30 15:07:45</td>\n",
              "    </tr>\n",
              "    <tr>\n",
              "      <th>7</th>\n",
              "      <td>31388868340962</td>\n",
              "      <td>68986766</td>\n",
              "      <td>65129646</td>\n",
              "      <td>2019-12-30 15:07:48</td>\n",
              "    </tr>\n",
              "    <tr>\n",
              "      <th>8</th>\n",
              "      <td>31388869521738</td>\n",
              "      <td>68986766</td>\n",
              "      <td>65129646</td>\n",
              "      <td>2019-12-30 15:07:49</td>\n",
              "    </tr>\n",
              "    <tr>\n",
              "      <th>9</th>\n",
              "      <td>31388867881658</td>\n",
              "      <td>68986766</td>\n",
              "      <td>86829555</td>\n",
              "      <td>2019-12-31 18:07:49</td>\n",
              "    </tr>\n",
              "    <tr>\n",
              "      <th>10</th>\n",
              "      <td>31388860669998</td>\n",
              "      <td>68986766</td>\n",
              "      <td>86829555</td>\n",
              "      <td>2019-12-31 18:50:49</td>\n",
              "    </tr>\n",
              "  </tbody>\n",
              "</table>\n",
              "</div>"
            ],
            "text/plain": [
              "           orderid    shopid     userid           event_time\n",
              "0   31388857391599  91242967  112494421  2019-12-30 15:07:37\n",
              "1   31388858606904  85669731  112494421  2019-12-30 15:07:38\n",
              "2   31388860144322  85669731  112494421  2019-12-30 15:07:41\n",
              "3   31388862051153  85669731  112494421  2019-12-30 15:07:42\n",
              "4   31388864143841  68986766   65129646  2019-12-30 15:07:45\n",
              "5   31388864143840  85669731   10209247  2019-12-30 15:07:45\n",
              "6   31388864143842  91242967   10209247  2019-12-30 15:07:45\n",
              "7   31388868340962  68986766   65129646  2019-12-30 15:07:48\n",
              "8   31388869521738  68986766   65129646  2019-12-30 15:07:49\n",
              "9   31388867881658  68986766   86829555  2019-12-31 18:07:49\n",
              "10  31388860669998  68986766   86829555  2019-12-31 18:50:49"
            ]
          },
          "metadata": {
            "tags": []
          },
          "execution_count": 22
        }
      ]
    },
    {
      "cell_type": "code",
      "metadata": {
        "id": "EsCT0V7MTrYi",
        "colab_type": "code",
        "colab": {}
      },
      "source": [
        "date = data['event_time']\n",
        "date_time = []\n",
        "for i in date:\n",
        "  date_time.append(datetime.strptime(i,\"%Y-%m-%d %H:%M:%S\"))"
      ],
      "execution_count": 23,
      "outputs": []
    },
    {
      "cell_type": "code",
      "metadata": {
        "id": "oz22fSwim3sQ",
        "colab_type": "code",
        "colab": {
          "base_uri": "https://localhost:8080/",
          "height": 390
        },
        "outputId": "e72d8ea7-af94-4162-c126-03357727c6a6"
      },
      "source": [
        "data['date_time'] = date_time\n",
        "data"
      ],
      "execution_count": 24,
      "outputs": [
        {
          "output_type": "execute_result",
          "data": {
            "text/html": [
              "<div>\n",
              "<style scoped>\n",
              "    .dataframe tbody tr th:only-of-type {\n",
              "        vertical-align: middle;\n",
              "    }\n",
              "\n",
              "    .dataframe tbody tr th {\n",
              "        vertical-align: top;\n",
              "    }\n",
              "\n",
              "    .dataframe thead th {\n",
              "        text-align: right;\n",
              "    }\n",
              "</style>\n",
              "<table border=\"1\" class=\"dataframe\">\n",
              "  <thead>\n",
              "    <tr style=\"text-align: right;\">\n",
              "      <th></th>\n",
              "      <th>orderid</th>\n",
              "      <th>shopid</th>\n",
              "      <th>userid</th>\n",
              "      <th>event_time</th>\n",
              "      <th>date_time</th>\n",
              "    </tr>\n",
              "  </thead>\n",
              "  <tbody>\n",
              "    <tr>\n",
              "      <th>0</th>\n",
              "      <td>31388857391599</td>\n",
              "      <td>91242967</td>\n",
              "      <td>112494421</td>\n",
              "      <td>2019-12-30 15:07:37</td>\n",
              "      <td>2019-12-30 15:07:37</td>\n",
              "    </tr>\n",
              "    <tr>\n",
              "      <th>1</th>\n",
              "      <td>31388858606904</td>\n",
              "      <td>85669731</td>\n",
              "      <td>112494421</td>\n",
              "      <td>2019-12-30 15:07:38</td>\n",
              "      <td>2019-12-30 15:07:38</td>\n",
              "    </tr>\n",
              "    <tr>\n",
              "      <th>2</th>\n",
              "      <td>31388860144322</td>\n",
              "      <td>85669731</td>\n",
              "      <td>112494421</td>\n",
              "      <td>2019-12-30 15:07:41</td>\n",
              "      <td>2019-12-30 15:07:41</td>\n",
              "    </tr>\n",
              "    <tr>\n",
              "      <th>3</th>\n",
              "      <td>31388862051153</td>\n",
              "      <td>85669731</td>\n",
              "      <td>112494421</td>\n",
              "      <td>2019-12-30 15:07:42</td>\n",
              "      <td>2019-12-30 15:07:42</td>\n",
              "    </tr>\n",
              "    <tr>\n",
              "      <th>4</th>\n",
              "      <td>31388864143841</td>\n",
              "      <td>68986766</td>\n",
              "      <td>65129646</td>\n",
              "      <td>2019-12-30 15:07:45</td>\n",
              "      <td>2019-12-30 15:07:45</td>\n",
              "    </tr>\n",
              "    <tr>\n",
              "      <th>5</th>\n",
              "      <td>31388864143840</td>\n",
              "      <td>85669731</td>\n",
              "      <td>10209247</td>\n",
              "      <td>2019-12-30 15:07:45</td>\n",
              "      <td>2019-12-30 15:07:45</td>\n",
              "    </tr>\n",
              "    <tr>\n",
              "      <th>6</th>\n",
              "      <td>31388864143842</td>\n",
              "      <td>91242967</td>\n",
              "      <td>10209247</td>\n",
              "      <td>2019-12-30 15:07:45</td>\n",
              "      <td>2019-12-30 15:07:45</td>\n",
              "    </tr>\n",
              "    <tr>\n",
              "      <th>7</th>\n",
              "      <td>31388868340962</td>\n",
              "      <td>68986766</td>\n",
              "      <td>65129646</td>\n",
              "      <td>2019-12-30 15:07:48</td>\n",
              "      <td>2019-12-30 15:07:48</td>\n",
              "    </tr>\n",
              "    <tr>\n",
              "      <th>8</th>\n",
              "      <td>31388869521738</td>\n",
              "      <td>68986766</td>\n",
              "      <td>65129646</td>\n",
              "      <td>2019-12-30 15:07:49</td>\n",
              "      <td>2019-12-30 15:07:49</td>\n",
              "    </tr>\n",
              "    <tr>\n",
              "      <th>9</th>\n",
              "      <td>31388867881658</td>\n",
              "      <td>68986766</td>\n",
              "      <td>86829555</td>\n",
              "      <td>2019-12-31 18:07:49</td>\n",
              "      <td>2019-12-31 18:07:49</td>\n",
              "    </tr>\n",
              "    <tr>\n",
              "      <th>10</th>\n",
              "      <td>31388860669998</td>\n",
              "      <td>68986766</td>\n",
              "      <td>86829555</td>\n",
              "      <td>2019-12-31 18:50:49</td>\n",
              "      <td>2019-12-31 18:50:49</td>\n",
              "    </tr>\n",
              "  </tbody>\n",
              "</table>\n",
              "</div>"
            ],
            "text/plain": [
              "           orderid    shopid  ...           event_time           date_time\n",
              "0   31388857391599  91242967  ...  2019-12-30 15:07:37 2019-12-30 15:07:37\n",
              "1   31388858606904  85669731  ...  2019-12-30 15:07:38 2019-12-30 15:07:38\n",
              "2   31388860144322  85669731  ...  2019-12-30 15:07:41 2019-12-30 15:07:41\n",
              "3   31388862051153  85669731  ...  2019-12-30 15:07:42 2019-12-30 15:07:42\n",
              "4   31388864143841  68986766  ...  2019-12-30 15:07:45 2019-12-30 15:07:45\n",
              "5   31388864143840  85669731  ...  2019-12-30 15:07:45 2019-12-30 15:07:45\n",
              "6   31388864143842  91242967  ...  2019-12-30 15:07:45 2019-12-30 15:07:45\n",
              "7   31388868340962  68986766  ...  2019-12-30 15:07:48 2019-12-30 15:07:48\n",
              "8   31388869521738  68986766  ...  2019-12-30 15:07:49 2019-12-30 15:07:49\n",
              "9   31388867881658  68986766  ...  2019-12-31 18:07:49 2019-12-31 18:07:49\n",
              "10  31388860669998  68986766  ...  2019-12-31 18:50:49 2019-12-31 18:50:49\n",
              "\n",
              "[11 rows x 5 columns]"
            ]
          },
          "metadata": {
            "tags": []
          },
          "execution_count": 24
        }
      ]
    },
    {
      "cell_type": "code",
      "metadata": {
        "id": "zldWspqN2mYr",
        "colab_type": "code",
        "colab": {
          "base_uri": "https://localhost:8080/",
          "height": 221
        },
        "outputId": "0787b3a5-08ae-4bd8-e4a7-c6e3abf32857"
      },
      "source": [
        "data.info()"
      ],
      "execution_count": 25,
      "outputs": [
        {
          "output_type": "stream",
          "text": [
            "<class 'pandas.core.frame.DataFrame'>\n",
            "RangeIndex: 11 entries, 0 to 10\n",
            "Data columns (total 5 columns):\n",
            " #   Column      Non-Null Count  Dtype         \n",
            "---  ------      --------------  -----         \n",
            " 0   orderid     11 non-null     int64         \n",
            " 1   shopid      11 non-null     int64         \n",
            " 2   userid      11 non-null     int64         \n",
            " 3   event_time  11 non-null     object        \n",
            " 4   date_time   11 non-null     datetime64[ns]\n",
            "dtypes: datetime64[ns](1), int64(3), object(1)\n",
            "memory usage: 568.0+ bytes\n"
          ],
          "name": "stdout"
        }
      ]
    },
    {
      "cell_type": "code",
      "metadata": {
        "id": "QpoSmiCBEr_2",
        "colab_type": "code",
        "colab": {
          "base_uri": "https://localhost:8080/",
          "height": 34
        },
        "outputId": "ab769a1b-2ef2-47bc-aa38-5470395db4bf"
      },
      "source": [
        "b = data['date_time'].loc[10]\n",
        "a = data['date_time'].loc[1]\n",
        "delt = b-a\n",
        "delt.total_seconds()"
      ],
      "execution_count": 26,
      "outputs": [
        {
          "output_type": "execute_result",
          "data": {
            "text/plain": [
              "99791.0"
            ]
          },
          "metadata": {
            "tags": []
          },
          "execution_count": 26
        }
      ]
    },
    {
      "cell_type": "code",
      "metadata": {
        "id": "sfjJ1lN7W7DV",
        "colab_type": "code",
        "colab": {
          "base_uri": "https://localhost:8080/",
          "height": 235
        },
        "outputId": "167af183-54e9-4c3c-cad3-5d89aeae9a75"
      },
      "source": [
        "data.loc[0:5]"
      ],
      "execution_count": 42,
      "outputs": [
        {
          "output_type": "execute_result",
          "data": {
            "text/html": [
              "<div>\n",
              "<style scoped>\n",
              "    .dataframe tbody tr th:only-of-type {\n",
              "        vertical-align: middle;\n",
              "    }\n",
              "\n",
              "    .dataframe tbody tr th {\n",
              "        vertical-align: top;\n",
              "    }\n",
              "\n",
              "    .dataframe thead th {\n",
              "        text-align: right;\n",
              "    }\n",
              "</style>\n",
              "<table border=\"1\" class=\"dataframe\">\n",
              "  <thead>\n",
              "    <tr style=\"text-align: right;\">\n",
              "      <th></th>\n",
              "      <th>orderid</th>\n",
              "      <th>shopid</th>\n",
              "      <th>userid</th>\n",
              "      <th>event_time</th>\n",
              "      <th>date_time</th>\n",
              "    </tr>\n",
              "  </thead>\n",
              "  <tbody>\n",
              "    <tr>\n",
              "      <th>0</th>\n",
              "      <td>31388857391599</td>\n",
              "      <td>91242967</td>\n",
              "      <td>112494421</td>\n",
              "      <td>2019-12-30 15:07:37</td>\n",
              "      <td>2019-12-30 15:07:37</td>\n",
              "    </tr>\n",
              "    <tr>\n",
              "      <th>1</th>\n",
              "      <td>31388858606904</td>\n",
              "      <td>85669731</td>\n",
              "      <td>112494421</td>\n",
              "      <td>2019-12-30 15:07:38</td>\n",
              "      <td>2019-12-30 15:07:38</td>\n",
              "    </tr>\n",
              "    <tr>\n",
              "      <th>2</th>\n",
              "      <td>31388860144322</td>\n",
              "      <td>85669731</td>\n",
              "      <td>112494421</td>\n",
              "      <td>2019-12-30 15:07:41</td>\n",
              "      <td>2019-12-30 15:07:41</td>\n",
              "    </tr>\n",
              "    <tr>\n",
              "      <th>3</th>\n",
              "      <td>31388862051153</td>\n",
              "      <td>85669731</td>\n",
              "      <td>112494421</td>\n",
              "      <td>2019-12-30 15:07:42</td>\n",
              "      <td>2019-12-30 15:07:42</td>\n",
              "    </tr>\n",
              "    <tr>\n",
              "      <th>4</th>\n",
              "      <td>31388864143841</td>\n",
              "      <td>68986766</td>\n",
              "      <td>65129646</td>\n",
              "      <td>2019-12-30 15:07:45</td>\n",
              "      <td>2019-12-30 15:07:45</td>\n",
              "    </tr>\n",
              "    <tr>\n",
              "      <th>5</th>\n",
              "      <td>31388864143840</td>\n",
              "      <td>85669731</td>\n",
              "      <td>10209247</td>\n",
              "      <td>2019-12-30 15:07:45</td>\n",
              "      <td>2019-12-30 15:07:45</td>\n",
              "    </tr>\n",
              "  </tbody>\n",
              "</table>\n",
              "</div>"
            ],
            "text/plain": [
              "          orderid    shopid     userid           event_time           date_time\n",
              "0  31388857391599  91242967  112494421  2019-12-30 15:07:37 2019-12-30 15:07:37\n",
              "1  31388858606904  85669731  112494421  2019-12-30 15:07:38 2019-12-30 15:07:38\n",
              "2  31388860144322  85669731  112494421  2019-12-30 15:07:41 2019-12-30 15:07:41\n",
              "3  31388862051153  85669731  112494421  2019-12-30 15:07:42 2019-12-30 15:07:42\n",
              "4  31388864143841  68986766   65129646  2019-12-30 15:07:45 2019-12-30 15:07:45\n",
              "5  31388864143840  85669731   10209247  2019-12-30 15:07:45 2019-12-30 15:07:45"
            ]
          },
          "metadata": {
            "tags": []
          },
          "execution_count": 42
        }
      ]
    },
    {
      "cell_type": "code",
      "metadata": {
        "id": "Xo7OD12pC0bw",
        "colab_type": "code",
        "colab": {
          "base_uri": "https://localhost:8080/",
          "height": 173
        },
        "outputId": "b26a69c8-d384-4869-ce9d-09e55feace77"
      },
      "source": [
        "check = data.loc[0:5].groupby('shopid')\n",
        "check.first()"
      ],
      "execution_count": 78,
      "outputs": [
        {
          "output_type": "execute_result",
          "data": {
            "text/html": [
              "<div>\n",
              "<style scoped>\n",
              "    .dataframe tbody tr th:only-of-type {\n",
              "        vertical-align: middle;\n",
              "    }\n",
              "\n",
              "    .dataframe tbody tr th {\n",
              "        vertical-align: top;\n",
              "    }\n",
              "\n",
              "    .dataframe thead th {\n",
              "        text-align: right;\n",
              "    }\n",
              "</style>\n",
              "<table border=\"1\" class=\"dataframe\">\n",
              "  <thead>\n",
              "    <tr style=\"text-align: right;\">\n",
              "      <th></th>\n",
              "      <th>orderid</th>\n",
              "      <th>userid</th>\n",
              "      <th>event_time</th>\n",
              "      <th>date_time</th>\n",
              "    </tr>\n",
              "    <tr>\n",
              "      <th>shopid</th>\n",
              "      <th></th>\n",
              "      <th></th>\n",
              "      <th></th>\n",
              "      <th></th>\n",
              "    </tr>\n",
              "  </thead>\n",
              "  <tbody>\n",
              "    <tr>\n",
              "      <th>68986766</th>\n",
              "      <td>31388864143841</td>\n",
              "      <td>65129646</td>\n",
              "      <td>2019-12-30 15:07:45</td>\n",
              "      <td>2019-12-30 15:07:45</td>\n",
              "    </tr>\n",
              "    <tr>\n",
              "      <th>85669731</th>\n",
              "      <td>31388858606904</td>\n",
              "      <td>112494421</td>\n",
              "      <td>2019-12-30 15:07:38</td>\n",
              "      <td>2019-12-30 15:07:38</td>\n",
              "    </tr>\n",
              "    <tr>\n",
              "      <th>91242967</th>\n",
              "      <td>31388857391599</td>\n",
              "      <td>112494421</td>\n",
              "      <td>2019-12-30 15:07:37</td>\n",
              "      <td>2019-12-30 15:07:37</td>\n",
              "    </tr>\n",
              "  </tbody>\n",
              "</table>\n",
              "</div>"
            ],
            "text/plain": [
              "                 orderid     userid           event_time           date_time\n",
              "shopid                                                                      \n",
              "68986766  31388864143841   65129646  2019-12-30 15:07:45 2019-12-30 15:07:45\n",
              "85669731  31388858606904  112494421  2019-12-30 15:07:38 2019-12-30 15:07:38\n",
              "91242967  31388857391599  112494421  2019-12-30 15:07:37 2019-12-30 15:07:37"
            ]
          },
          "metadata": {
            "tags": []
          },
          "execution_count": 78
        }
      ]
    },
    {
      "cell_type": "code",
      "metadata": {
        "id": "bcSOO1p5fIM2",
        "colab_type": "code",
        "colab": {
          "base_uri": "https://localhost:8080/",
          "height": 34
        },
        "outputId": "5a4b309b-2cee-4e6a-8f01-33e254aa2dcd"
      },
      "source": [
        "key = list(check.groups.keys())\n",
        "key"
      ],
      "execution_count": 88,
      "outputs": [
        {
          "output_type": "execute_result",
          "data": {
            "text/plain": [
              "[68986766, 85669731, 91242967]"
            ]
          },
          "metadata": {
            "tags": []
          },
          "execution_count": 88
        }
      ]
    },
    {
      "cell_type": "code",
      "metadata": {
        "id": "0CLV_btigRzL",
        "colab_type": "code",
        "colab": {
          "base_uri": "https://localhost:8080/",
          "height": 34
        },
        "outputId": "a5bc047e-2567-4721-c699-55eba13dd9ff"
      },
      "source": [
        "key[1]"
      ],
      "execution_count": 89,
      "outputs": [
        {
          "output_type": "execute_result",
          "data": {
            "text/plain": [
              "85669731"
            ]
          },
          "metadata": {
            "tags": []
          },
          "execution_count": 89
        }
      ]
    },
    {
      "cell_type": "code",
      "metadata": {
        "id": "4XunLjXJhW_X",
        "colab_type": "code",
        "colab": {
          "base_uri": "https://localhost:8080/",
          "height": 34
        },
        "outputId": "f7569ba8-b618-4cec-e9fa-fe222002bd0d"
      },
      "source": [
        "len(key)"
      ],
      "execution_count": 95,
      "outputs": [
        {
          "output_type": "execute_result",
          "data": {
            "text/plain": [
              "3"
            ]
          },
          "metadata": {
            "tags": []
          },
          "execution_count": 95
        }
      ]
    },
    {
      "cell_type": "code",
      "metadata": {
        "id": "RAXjms4iZA_s",
        "colab_type": "code",
        "colab": {
          "base_uri": "https://localhost:8080/",
          "height": 68
        },
        "outputId": "5762f304-29b8-4ac1-db2a-bdf09c31f2d1"
      },
      "source": [
        "for k in key:\n",
        "  print(k)"
      ],
      "execution_count": 90,
      "outputs": [
        {
          "output_type": "stream",
          "text": [
            "68986766\n",
            "85669731\n",
            "91242967\n"
          ],
          "name": "stdout"
        }
      ]
    },
    {
      "cell_type": "code",
      "metadata": {
        "id": "9xSVjcGaTj83",
        "colab_type": "code",
        "colab": {
          "base_uri": "https://localhost:8080/",
          "height": 34
        },
        "outputId": "900a2252-82d5-4d96-fc5d-f619a01642b4"
      },
      "source": [
        "check_order = check.get_group(key[2])\n",
        "order = len(check_order.orderid)\n",
        "buyers = len(check_order.userid.unique())\n",
        "concentrate_rate = order/buyers\n",
        "print(concentrate_rate)"
      ],
      "execution_count": 97,
      "outputs": [
        {
          "output_type": "stream",
          "text": [
            "1.0\n"
          ],
          "name": "stdout"
        }
      ]
    },
    {
      "cell_type": "code",
      "metadata": {
        "id": "hoPSNPQLeiEH",
        "colab_type": "code",
        "colab": {
          "base_uri": "https://localhost:8080/",
          "height": 1000
        },
        "outputId": "cf014744-54ae-46af-cd1e-2db27011e2ab"
      },
      "source": [
        "for i in data.index:\n",
        "  initial = data['date_time'].loc[i]\n",
        "  for j in range(i, data.last_valid_index()+1):\n",
        "    delta = data['date_time'].loc[j] - initial\n",
        "    if(delta.total_seconds()<60):\n",
        "      check = data.loc[i:j].groupby('shopid')\n",
        "      key = list(check.groups.keys())\n",
        "      for k in key:\n",
        "        check_order = check.get_group(k)\n",
        "        order = len(check_order.orderid)\n",
        "        buyers = len(check_order.userid.unique())\n",
        "        concentrate_rate = order/buyers\n",
        "        print(concentrate_rate)"
      ],
      "execution_count": 100,
      "outputs": [
        {
          "output_type": "stream",
          "text": [
            "1.0\n",
            "1.0\n",
            "1.0\n",
            "2.0\n",
            "1.0\n",
            "3.0\n",
            "1.0\n",
            "1.0\n",
            "3.0\n",
            "1.0\n",
            "1.0\n",
            "2.0\n",
            "1.0\n",
            "1.0\n",
            "2.0\n",
            "1.0\n",
            "2.0\n",
            "2.0\n",
            "1.0\n",
            "3.0\n",
            "2.0\n",
            "1.0\n",
            "1.0\n",
            "2.0\n",
            "3.0\n",
            "1.0\n",
            "3.0\n",
            "1.0\n",
            "2.0\n",
            "1.0\n",
            "2.0\n",
            "1.0\n",
            "2.0\n",
            "2.0\n",
            "1.0\n",
            "3.0\n",
            "2.0\n",
            "1.0\n",
            "1.0\n",
            "2.0\n",
            "1.0\n",
            "2.0\n",
            "1.0\n",
            "1.5\n",
            "1.0\n",
            "1.5\n",
            "1.0\n",
            "2.0\n",
            "1.5\n",
            "1.0\n",
            "3.0\n",
            "1.5\n",
            "1.0\n",
            "1.0\n",
            "1.0\n",
            "1.0\n",
            "1.0\n",
            "1.0\n",
            "1.0\n",
            "1.0\n",
            "1.0\n",
            "2.0\n",
            "1.0\n",
            "1.0\n",
            "3.0\n",
            "1.0\n",
            "1.0\n",
            "1.0\n",
            "1.0\n",
            "1.0\n",
            "1.0\n",
            "1.0\n",
            "1.0\n",
            "2.0\n",
            "1.0\n",
            "1.0\n",
            "3.0\n",
            "1.0\n",
            "1.0\n",
            "1.0\n",
            "1.0\n",
            "1.0\n",
            "1.0\n",
            "1.0\n",
            "1.0\n",
            "2.0\n",
            "1.0\n",
            "1.0\n",
            "1.0\n",
            "1.0\n",
            "1.0\n",
            "2.0\n",
            "1.0\n",
            "1.0\n",
            "2.0\n",
            "1.0\n",
            "1.0\n",
            "1.0\n"
          ],
          "name": "stdout"
        }
      ]
    },
    {
      "cell_type": "code",
      "metadata": {
        "id": "SwglzF5Bu1Bi",
        "colab_type": "code",
        "colab": {}
      },
      "source": [
        ""
      ],
      "execution_count": null,
      "outputs": []
    },
    {
      "cell_type": "code",
      "metadata": {
        "id": "CT0b6oebSrYY",
        "colab_type": "code",
        "colab": {}
      },
      "source": [
        "for i in test.index:\n",
        "  initial = test['date_time'].loc[i]\n",
        "  for j in range(i, test.index):\n",
        "    delta = test['date_time'].loc[j] - initial\n",
        "    print(delta)"
      ],
      "execution_count": null,
      "outputs": []
    },
    {
      "cell_type": "code",
      "metadata": {
        "id": "K1UWZcJBojDY",
        "colab_type": "code",
        "colab": {}
      },
      "source": [
        "def check_concentrate_rate():\n",
        "  concentrate_rate = #Number of Orders within 1 hour / Number of Unique Buyers within 1 hour\n",
        "  if concentrate_rate >= 3:\n",
        "    shop_list.append(shopid)\n",
        "  \n",
        "  return shop_list"
      ],
      "execution_count": null,
      "outputs": []
    },
    {
      "cell_type": "code",
      "metadata": {
        "id": "4vxLVQK-ojI6",
        "colab_type": "code",
        "colab": {}
      },
      "source": [
        "df.to_csv('CY_Team_submission4.csv') \n",
        "files.download('CY_Team_submission4.csv')"
      ],
      "execution_count": null,
      "outputs": []
    },
    {
      "cell_type": "code",
      "metadata": {
        "id": "5DOa3eMVoi-4",
        "colab_type": "code",
        "colab": {}
      },
      "source": [
        ""
      ],
      "execution_count": null,
      "outputs": []
    }
  ]
}